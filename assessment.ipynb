{
 "cells": [
  {
   "cell_type": "markdown",
   "metadata": {},
   "source": [
    "<a href=\"https://www.nvidia.com/dli\"> <img src=\"../images/DLI_Header.png\" alt=\"Header\" style=\"width: 400px;\"/> </a>"
   ]
  },
  {
   "cell_type": "markdown",
   "metadata": {},
   "source": [
    "# Authorship Attribution"
   ]
  },
  {
   "cell_type": "markdown",
   "metadata": {},
   "source": [
    "Authorship attribution is a type of text classification problem.  Instead of categorizing text by _topic_, as you did in the disease text classification problem, the objective is to classify the text by _author_.  \n",
    "\n",
    "The inherent assumption in trying to solve a problem like this is that there is *some difference between the styles* of the authors in question, *which can be discerned by a model*.  Is that the case for BERT et al?  Is a language model able to \"understand\" written style? "
   ]
  },
  {
   "cell_type": "markdown",
   "metadata": {},
   "source": [
    "### Table of Contents\n",
    "[The Problem](#The-Problem)<br>\n",
    "[Scoring](#Scoring)<br>\n",
    "[Step 1: Prepare the Data](#Step-1:-Prepare-the-Data)<br>\n",
    "[Step 2: Prepare the Training Pipeline](#Step-2:-Prepare-the-Training-Pipeline)<br>\n",
    "[Step 3: Prepare the Validation Pipeline](#Step-3:-Prepare-the-Validation-Pipeline)<br>\n",
    "[Step 4: Train](#Step-4:-Train)<br>\n",
    "[Step 5: Infer](#Step-5:-Infer)<br>\n",
    "[Step 6: Submit You Assessment](#Step-6:-Submit-You-Assessment)"
   ]
  },
  {
   "cell_type": "markdown",
   "metadata": {},
   "source": [
    "# The Problem\n",
    "### The Federalist Papers - History Mystery!\n",
    "\n",
    "The [Federalist Papers](https://en.wikipedia.org/wiki/The_Federalist_Papers) are a set of essays written between 1787 and 1788 by [Alexander Hamilton](https://en.wikipedia.org/wiki/Alexander_Hamilton), [James Madison](https://en.wikipedia.org/wiki/James_Madison) and [John Jay](https://en.wikipedia.org/wiki/John_Jay).  Initially published under the pseudonym 'Publius', their intent was to encourage the ratification of the then-new Constitution of the United States of America.  In later years, a list emerged where the author of each one of the 85 papers was identified.  Nevertheless, for a subset of these papers the author is still in question.  The problem of the Federalist Papers authorship attribution has been a subject of much research in statistical NLP in the past.   Now you will try to solve this question with your own BERT-based project model.\n",
    "<img style=\"float: right;\" src=\"images/HandM.png\" width=400>\n",
    "                                                                                                           \n",
    "In concrete terms, the problem is identifying, for each one of the disputed papers, whether Alexander Hamilton or James Madison are the authors.  For this exercise, you can assume that each paper has a single author, i.e., that no collaboration took place (though *that* is not 100% certain!), and that each author has a well-defined writing style that is displayed across all the identified papers. \n",
    "\n",
    "### Your Project\n",
    "You are provided with labeled `train.tsv` and `dev.tsv` datasets for the project.  There are 10 test sets, one for each of the disputed papers.  All datasets are contained in the `data/federalist_papers_HM` directory.  \n",
    "\n",
    "Each \"sentence\" is actually a group of sentences of approximately 256 words.  The labels are '0' for HAMILTON and '1' for MADISON.  There are more papers by Hamilton in the example files than by Madison.  The validation set has been created with approximately the same distribution of the two labels as in the training set.\n",
    "\n",
    "Your task is to build neural networks using NeMo, as you did in Lab 2.  You'll train your model and test it.  Then you'll use provided collation code to see what answers your model gives to the \"history mystery\"! \n",
    "\n",
    "Along the way, you'll save code snippets that will be tested with the autograder one you are done.  You'll follow submission instructions at the end of the notebook for this part."
   ]
  },
  {
   "cell_type": "markdown",
   "metadata": {},
   "source": [
    "# Scoring\n",
    "You will be assessed on your ability to set up and train a model for the project, rather than the final result.  This coding assessment is worth 70 points, divided as follows:\n",
    "\n",
    "### Rubric\n",
    "\n",
    "| Step                               | Graded                         | FIXMEs?  | Points |\n",
    "|------------------------------------|--------------------------------|----------|--------|\n",
    "| 1. Prepare the Project             | Set project parameters (parameters are in range)        |  4       | 12     |\n",
    "| 2. Prepare the Training Pipeline   | Create training neural modules (modules are correct) |  4       | 20     |\n",
    "| 3. Prepare the Validation Pipeline | Create the validation graph (connections are correct)   |  4       | 20     |\n",
    "| 4. Train                           | Run the Trainer (training logs indicate training correct)               |  1       | 8     |\n",
    "| 5. Infer                           | Run Inference (results indicate working project)                |  0       | 10     |"
   ]
  },
  {
   "cell_type": "markdown",
   "metadata": {},
   "source": [
    "Although you are very capable at this point of building the project without any help at all, some scaffolding is provided, including specific names for variables.  This is for the benefit of the autograder, so please use these constructs for your assessment.  You are free to change parameters such as model name, sequence length, batch size, learning rate, number of epochs, and so on to improve your model as you see fit. \n",
    "\n",
    "Once you are confident that you've built a reliable model, follow the instructions for submission at the end of the notebook.\n",
    "\n",
    "### Resources and Hints\n",
    "* **Example code:**<br>\n",
    "In the file browser at your left, you'll find the `lab2_reference_notebooks` directory.  This contains solution notebooks from Lab 2 for text classification and NER to use as examples.\n",
    "* **Language model (PRETRAINED_MODEL_NAME):**<br>\n",
    "You may find it useful to try different language models to better discern style.  Specifically, it may be that capitalization is important, which would mean you'd want to try a \"cased\" model.\n",
    "* **Maximum sequence length (MAX_SEQ_LEN):**<br>\n",
    "Values that can be used for MAX_SEQ_LENGTH are 64, 128, or 256.  Larger models (BERT-large, Megatron) may require a smaller MAX_SEQ_LENGTH to avoid an out-of-memory error.\n",
    "* **Number of Classes (NUM_CLASSES):**<br>\n",
    "For the Federalist Papers, we are only concerned with HAMILTON and MADISON.  The papers by John Jay have been excluded from the dataset.\n",
    "* **Batch size (BATCH_SIZE):**<br>\n",
    "Larger batch sizes train faster, but large language models tend to use up the available memory quickly.\n",
    "* **Memory usage:**<br>\n",
    "Some of the models are very large.   If you get \"RuntimeError: CUDA out of memory\" during training, you'll know you need to reduce the batch size, sequence length, and/or choose a smaller language model, restart the kernel, and try again from the beginning of the notebook.\n",
    "* **Accuracy and loss:**<br>\n",
    "It is definitely possible to achieve 95% or more model accuracy for this project.  In addition to changes in accuracy as the model trains, pay attention to the loss value.  You want the loss value to be dropping and getting very small for best results.\n",
    "* **Number of epochs (NUM_EPOCHS):**<br>\n",
    "You may need to run more epochs for your model (or not!).  Since checkpoints are saved, you can  increase the number of epochs and run that cell plus the remaining the cells again.  Note that there may be memory limitations when running 20 or more new epochs at one time."
   ]
  },
  {
   "cell_type": "markdown",
   "metadata": {},
   "source": [
    "# Step 1: Prepare the Data"
   ]
  },
  {
   "cell_type": "markdown",
   "metadata": {},
   "source": [
    "### Python Imports\n",
    "This block is complete, but feel free to add to it (not graded)."
   ]
  },
  {
   "cell_type": "code",
   "execution_count": 1,
   "metadata": {},
   "outputs": [
    {
     "name": "stderr",
     "output_type": "stream",
     "text": [
      "[NeMo W 2021-06-09 13:37:38 audio_preprocessing:56] Could not import torchaudio. Some features might not work.\n"
     ]
    }
   ],
   "source": [
    "# Import useful math and utility libraries\n",
    "import os\n",
    "import json\n",
    "import math\n",
    "import json\n",
    "import pickle\n",
    "import numpy as np\n",
    "import pandas as pd\n",
    "pd.options.display.max_colwidth = -1\n",
    "import torch\n",
    "\n",
    "# Import the nemo toolkit and NLP libraries\n",
    "import nemo\n",
    "import nemo.collections.nlp as nemo_nlp\n",
    "\n",
    "# Import the specific neural modules we need\n",
    "from nemo.collections.nlp.nm.data_layers import BertTextClassificationDataLayer\n",
    "from nemo.collections.nlp.nm.trainables import get_pretrained_lm_model, SequenceClassifier\n",
    "from nemo.backends.pytorch.common.losses import CrossEntropyLossNM\n",
    "    \n",
    "# Import helpers for fetching the learning rate and tokenizer functions\n",
    "from nemo.utils.lr_policies import get_lr_policy\n",
    "from nemo.collections.nlp.data.tokenizers import get_tokenizer\n",
    "\n",
    "# Import callbacks and callback functions\n",
    "from nemo.core import SimpleLogger, TensorboardLogger, EvaluatorCallback, CheckpointCallback\n",
    "from nemo.collections.nlp.callbacks.text_classification_callback import eval_iter_callback, eval_epochs_done_callback\n",
    "\n",
    "# Identify the input data location.\n",
    "DATA_DIR = '/dli/task/data/federalist_papers_HM/'"
   ]
  },
  {
   "cell_type": "markdown",
   "metadata": {},
   "source": [
    "### Input Parameters (not graded)\n",
    "Choose your model and log location.  A few are provided to choose from.  Just uncomment one pair of `PRETRAINED_MODEL_NAME` and `WORK_DIR` assignments."
   ]
  },
  {
   "cell_type": "code",
   "execution_count": 2,
   "metadata": {},
   "outputs": [],
   "source": [
    "# Identify the pretrained model \n",
    "# and where information and checkpoints will be logged\n",
    "\n",
    "PRETRAINED_MODEL_NAME = 'bert-base-uncased'\n",
    "WORK_DIR = '/dli/task/data/logs-bbu/'\n",
    "\n",
    "# PRETRAINED_MODEL_NAME = 'bert-base-cased'\n",
    "# WORK_DIR = '/dli/task/data/logs-bbc/'\n",
    "\n",
    "# PRETRAINED_MODEL_NAME = 'megatron-bert-345m-uncased'\n",
    "# WORK_DIR = '/dli/task/data/logs-m345u/'\n",
    "\n",
    "# PRETRAINED_MODEL_NAME = 'bert-large-uncased'\n",
    "# WORK_DIR = '/dli/task/data/logs-blu/'"
   ]
  },
  {
   "cell_type": "markdown",
   "metadata": {},
   "source": [
    "### Set sizing parameters (graded)\n",
    "Complete the <i><strong style=\"color:green;\">#FIXME</strong></i> lines and run the save cell."
   ]
  },
  {
   "cell_type": "code",
   "execution_count": 3,
   "metadata": {},
   "outputs": [],
   "source": [
    "# Set the number of words in the sequences\n",
    "# Set the number of classes for the classifier\n",
    "# Set the batch size for processing\n",
    "MAX_SEQ_LEN = 128 #FIXME \n",
    "NUM_CLASSES = 2 #FIXME\n",
    "BATCH_SIZE = 64 #FIXME\n",
    "# To use mixed precision, set AMP_OPTIMIZATION_LEVEL to 'O1' or 'O2',\n",
    "# to train without mixed precision, set it to 'O0'.\n",
    "AMP_OPTIMIZATION_LEVEL = 'O1'"
   ]
  },
  {
   "cell_type": "markdown",
   "metadata": {},
   "source": [
    "# Step 2: Prepare the Training Pipeline"
   ]
  },
  {
   "cell_type": "markdown",
   "metadata": {},
   "source": [
    "<img src=\"../images/nemo/nm-pipe.png\" width=800>"
   ]
  },
  {
   "cell_type": "markdown",
   "metadata": {},
   "source": [
    "### NeuralModuleFactory (not graded)"
   ]
  },
  {
   "cell_type": "code",
   "execution_count": 5,
   "metadata": {},
   "outputs": [],
   "source": [
    "# Instantiate the neural module factory\n",
    "nf = nemo.core.NeuralModuleFactory(log_dir=WORK_DIR,\n",
    "                                   create_tb_writer=True,\n",
    "                                   add_time_to_log_dir=False,\n",
    "                                   optimization_level=AMP_OPTIMIZATION_LEVEL)"
   ]
  },
  {
   "cell_type": "markdown",
   "metadata": {},
   "source": [
    "### Create the Training Neural Modules (graded)\n",
    "Complete the <i><strong style=\"color:green;\">#FIXME</strong></i> lines in the following cells to create four neural modules. Each cell includes a sanity check for your convenience.  Finally, run the save cell as well."
   ]
  },
  {
   "cell_type": "code",
   "execution_count": 6,
   "metadata": {
    "scrolled": true
   },
   "outputs": [
    {
     "name": "stdout",
     "output_type": "stream",
     "text": [
      "[NeMo I 2021-06-09 13:42:15 bert_tokenizer:78] Deriving bert model type from pretrained model name.\n"
     ]
    },
    {
     "data": {
      "application/vnd.jupyter.widget-view+json": {
       "model_id": "16a2132c6be24a2485d9770206f4a7d6",
       "version_major": 2,
       "version_minor": 0
      },
      "text/plain": [
       "HBox(children=(IntProgress(value=0, description='Downloading', max=231508, style=ProgressStyle(description_wid…"
      ]
     },
     "metadata": {},
     "output_type": "display_data"
    },
    {
     "name": "stdout",
     "output_type": "stream",
     "text": [
      "\n",
      "[NeMo I 2021-06-09 13:42:16 text_classification_dataset:82] /dli/task/data/federalist_papers_HM/train.tsv: 502\n",
      "[NeMo I 2021-06-09 13:42:26 data_preprocessing:250] Min: 257 |                  Max: 474 |                  Mean: 295.1792828685259 |                  Median: 288.0\n",
      "[NeMo I 2021-06-09 13:42:26 data_preprocessing:252] 75 percentile: 306.75\n",
      "[NeMo I 2021-06-09 13:42:26 data_preprocessing:253] 99 percentile: 387.0\n",
      "[NeMo I 2021-06-09 13:42:26 text_classification_dataset:118] 502 out of 502                         sentences with more than 128 subtokens.\n",
      "[NeMo I 2021-06-09 13:42:26 text_classification_dataset:175] *** Example ***\n",
      "[NeMo I 2021-06-09 13:42:26 text_classification_dataset:176] example_index: 0\n",
      "[NeMo I 2021-06-09 13:42:26 text_classification_dataset:177] subtokens: [CLS] principle of the innovation ? do these principles , in fine , require that the powers of the general government should be limited , and that , beyond this limit , the states should be left in possession of their sovereignty and independence ? we have seen that in the new government , as in the old , the general powers are limited ; and that the states , in all une ##num ##erated cases , are left in the enjoyment of their sovereign and independent jurisdiction . the truth is , that the great principles of the constitution proposed by the convention may be considered less as absolutely new , than as the expansion of principles which are found in the articles of confederation . [SEP]\n",
      "[NeMo I 2021-06-09 13:42:26 text_classification_dataset:178] sent_label: 1\n",
      "[NeMo I 2021-06-09 13:42:26 text_classification_dataset:179] input_ids: 101 6958 1997 1996 8144 1029 2079 2122 6481 1010 1999 2986 1010 5478 2008 1996 4204 1997 1996 2236 2231 2323 2022 3132 1010 1998 2008 1010 3458 2023 5787 1010 1996 2163 2323 2022 2187 1999 6664 1997 2037 12601 1998 4336 1029 2057 2031 2464 2008 1999 1996 2047 2231 1010 2004 1999 1996 2214 1010 1996 2236 4204 2024 3132 1025 1998 2008 1996 2163 1010 1999 2035 16655 19172 16848 3572 1010 2024 2187 1999 1996 20195 1997 2037 11074 1998 2981 7360 1012 1996 3606 2003 1010 2008 1996 2307 6481 1997 1996 4552 3818 2011 1996 4680 2089 2022 2641 2625 2004 7078 2047 1010 2084 2004 1996 4935 1997 6481 2029 2024 2179 1999 1996 4790 1997 11078 1012 102\n",
      "[NeMo I 2021-06-09 13:42:26 text_classification_dataset:180] input_mask: 1 1 1 1 1 1 1 1 1 1 1 1 1 1 1 1 1 1 1 1 1 1 1 1 1 1 1 1 1 1 1 1 1 1 1 1 1 1 1 1 1 1 1 1 1 1 1 1 1 1 1 1 1 1 1 1 1 1 1 1 1 1 1 1 1 1 1 1 1 1 1 1 1 1 1 1 1 1 1 1 1 1 1 1 1 1 1 1 1 1 1 1 1 1 1 1 1 1 1 1 1 1 1 1 1 1 1 1 1 1 1 1 1 1 1 1 1 1 1 1 1 1 1 1 1 1 1 1\n",
      "[NeMo I 2021-06-09 13:42:26 text_classification_dataset:175] *** Example ***\n",
      "[NeMo I 2021-06-09 13:42:26 text_classification_dataset:176] example_index: 1\n",
      "[NeMo I 2021-06-09 13:42:26 text_classification_dataset:177] subtokens: [CLS] knowledge of the true springs of public prosperity . the loss which america has sustained since the peace , from the pest ##ile ##nt effects of paper money on the necessary confidence between man and man , on the necessary confidence in the public councils , on the industry and morals of the people , and on the character of republican government , constitutes an enormous debt against the states charge ##able with this una ##d ##vis ##ed measure , which must long remain un ##sat ##is ##fied ; or rather an accumulation of guilt , which can be ex ##pia ##ted no otherwise than by a voluntary sacrifice on the altar of justice , of the power which has been the instrument of it . [SEP]\n",
      "[NeMo I 2021-06-09 13:42:26 text_classification_dataset:178] sent_label: 1\n",
      "[NeMo I 2021-06-09 13:42:26 text_classification_dataset:179] input_ids: 101 3716 1997 1996 2995 6076 1997 2270 14165 1012 1996 3279 2029 2637 2038 8760 2144 1996 3521 1010 2013 1996 20739 9463 3372 3896 1997 3259 2769 2006 1996 4072 7023 2090 2158 1998 2158 1010 2006 1996 4072 7023 1999 1996 2270 10784 1010 2006 1996 3068 1998 25288 1997 1996 2111 1010 1998 2006 1996 2839 1997 3951 2231 1010 17367 2019 8216 7016 2114 1996 2163 3715 3085 2007 2023 14477 2094 11365 2098 5468 1010 2029 2442 2146 3961 4895 16846 2483 10451 1025 2030 2738 2019 20299 1997 8056 1010 2029 2064 2022 4654 19312 3064 2053 4728 2084 2011 1037 10758 8688 2006 1996 9216 1997 3425 1010 1997 1996 2373 2029 2038 2042 1996 6602 1997 2009 1012 102\n",
      "[NeMo I 2021-06-09 13:42:26 text_classification_dataset:180] input_mask: 1 1 1 1 1 1 1 1 1 1 1 1 1 1 1 1 1 1 1 1 1 1 1 1 1 1 1 1 1 1 1 1 1 1 1 1 1 1 1 1 1 1 1 1 1 1 1 1 1 1 1 1 1 1 1 1 1 1 1 1 1 1 1 1 1 1 1 1 1 1 1 1 1 1 1 1 1 1 1 1 1 1 1 1 1 1 1 1 1 1 1 1 1 1 1 1 1 1 1 1 1 1 1 1 1 1 1 1 1 1 1 1 1 1 1 1 1 1 1 1 1 1 1 1 1 1 1 1\n",
      "[NeMo I 2021-06-09 13:42:26 text_classification_dataset:175] *** Example ***\n",
      "[NeMo I 2021-06-09 13:42:26 text_classification_dataset:176] example_index: 2\n",
      "[NeMo I 2021-06-09 13:42:26 text_classification_dataset:177] subtokens: [CLS] the very sources which they represent as fra ##ught with danger and per ##dition . but how the national legislature may reason on the point , is a thing which neither they nor i can fore ##see . there is something so far - fetch ##ed and so extravagant in the idea of danger to liberty from the militia , that one is at a loss whether to treat it with gravity or with rail ##ler ##y ; whether to consider it as a mere trial of skill , like the paradox ##es of rhetoric ##ians ; as a di ##sing ##en ##uous art ##ifice to ins ##ti ##l prejudice ##s at any price ; or as the serious offspring of political fan ##atic ##ism . [SEP]\n",
      "[NeMo I 2021-06-09 13:42:26 text_classification_dataset:178] sent_label: 0\n",
      "[NeMo I 2021-06-09 13:42:26 text_classification_dataset:179] input_ids: 101 1996 2200 4216 2029 2027 5050 2004 25312 18533 2007 5473 1998 2566 20562 1012 2021 2129 1996 2120 6372 2089 3114 2006 1996 2391 1010 2003 1037 2518 2029 4445 2027 4496 1045 2064 18921 19763 1012 2045 2003 2242 2061 2521 1011 18584 2098 1998 2061 27856 1999 1996 2801 1997 5473 2000 7044 2013 1996 8396 1010 2008 2028 2003 2012 1037 3279 3251 2000 7438 2009 2007 8992 2030 2007 4334 3917 2100 1025 3251 2000 5136 2009 2004 1037 8210 3979 1997 8066 1010 2066 1996 20506 2229 1997 17871 7066 1025 2004 1037 4487 7741 2368 8918 2396 23664 2000 16021 3775 2140 18024 2015 2012 2151 3976 1025 2030 2004 1996 3809 13195 1997 2576 5470 12070 2964 1012 102\n",
      "[NeMo I 2021-06-09 13:42:26 text_classification_dataset:180] input_mask: 1 1 1 1 1 1 1 1 1 1 1 1 1 1 1 1 1 1 1 1 1 1 1 1 1 1 1 1 1 1 1 1 1 1 1 1 1 1 1 1 1 1 1 1 1 1 1 1 1 1 1 1 1 1 1 1 1 1 1 1 1 1 1 1 1 1 1 1 1 1 1 1 1 1 1 1 1 1 1 1 1 1 1 1 1 1 1 1 1 1 1 1 1 1 1 1 1 1 1 1 1 1 1 1 1 1 1 1 1 1 1 1 1 1 1 1 1 1 1 1 1 1 1 1 1 1 1 1\n",
      "[NeMo I 2021-06-09 13:42:26 text_classification_dataset:175] *** Example ***\n",
      "[NeMo I 2021-06-09 13:42:26 text_classification_dataset:176] example_index: 3\n",
      "[NeMo I 2021-06-09 13:42:26 text_classification_dataset:177] subtokens: [CLS] and universal conviction , not only that the constitution has provided the most effect ##ual guards against danger from that quarter , but that nothing short of a constitution fully adequate to the national defense and the preservation of the union , can save america from as many standing armies as it may be split into states or con ##fed ##era ##cies , and from such a progressive aug ##ment ##ation , of these establishments in each , as will render them as burden ##some to the properties and ominous to the liberties of the people , as any establishment that can become necessary , under a united and efficient government , must be to ##ler ##able to the former and safe to the latter . [SEP]\n",
      "[NeMo I 2021-06-09 13:42:26 text_classification_dataset:178] sent_label: 1\n",
      "[NeMo I 2021-06-09 13:42:26 text_classification_dataset:179] input_ids: 101 1998 5415 10652 1010 2025 2069 2008 1996 4552 2038 3024 1996 2087 3466 8787 4932 2114 5473 2013 2008 4284 1010 2021 2008 2498 2460 1997 1037 4552 3929 11706 2000 1996 2120 3639 1998 1996 8347 1997 1996 2586 1010 2064 3828 2637 2013 2004 2116 3061 8749 2004 2009 2089 2022 3975 2046 2163 2030 9530 25031 6906 9243 1010 1998 2013 2107 1037 6555 15476 3672 3370 1010 1997 2122 17228 1999 2169 1010 2004 2097 17552 2068 2004 10859 14045 2000 1996 5144 1998 23504 2000 1996 18271 1997 1996 2111 1010 2004 2151 5069 2008 2064 2468 4072 1010 2104 1037 2142 1998 8114 2231 1010 2442 2022 2000 3917 3085 2000 1996 2280 1998 3647 2000 1996 3732 1012 102\n",
      "[NeMo I 2021-06-09 13:42:26 text_classification_dataset:180] input_mask: 1 1 1 1 1 1 1 1 1 1 1 1 1 1 1 1 1 1 1 1 1 1 1 1 1 1 1 1 1 1 1 1 1 1 1 1 1 1 1 1 1 1 1 1 1 1 1 1 1 1 1 1 1 1 1 1 1 1 1 1 1 1 1 1 1 1 1 1 1 1 1 1 1 1 1 1 1 1 1 1 1 1 1 1 1 1 1 1 1 1 1 1 1 1 1 1 1 1 1 1 1 1 1 1 1 1 1 1 1 1 1 1 1 1 1 1 1 1 1 1 1 1 1 1 1 1 1 1\n",
      "[NeMo I 2021-06-09 13:42:26 text_classification_dataset:175] *** Example ***\n",
      "[NeMo I 2021-06-09 13:42:26 text_classification_dataset:176] example_index: 4\n",
      "[NeMo I 2021-06-09 13:42:26 text_classification_dataset:177] subtokens: [CLS] which they determine ? is a law proposed concerning private debts ? it is a question to which the creditors are parties on one side and the debt ##ors on the other . justice ought to hold the balance between them . yet the parties are , and must be , themselves the judges ; and the most numerous party , or , in other words , the most powerful faction must be expected to pre ##va ##il . shall domestic manufactures be encouraged , and in what degree , by restrictions on foreign manufactures ? are questions which would be differently decided by the landed and the manufacturing classes , and probably by neither with a sole regard to justice and the public good . [SEP]\n",
      "[NeMo I 2021-06-09 13:42:26 text_classification_dataset:178] sent_label: 1\n",
      "[NeMo I 2021-06-09 13:42:26 text_classification_dataset:179] input_ids: 101 2029 2027 5646 1029 2003 1037 2375 3818 7175 2797 13930 1029 2009 2003 1037 3160 2000 2029 1996 23112 2024 4243 2006 2028 2217 1998 1996 7016 5668 2006 1996 2060 1012 3425 11276 2000 2907 1996 5703 2090 2068 1012 2664 1996 4243 2024 1010 1998 2442 2022 1010 3209 1996 6794 1025 1998 1996 2087 3365 2283 1010 2030 1010 1999 2060 2616 1010 1996 2087 3928 10233 2442 2022 3517 2000 3653 3567 4014 1012 4618 4968 22027 2022 6628 1010 1998 1999 2054 3014 1010 2011 9259 2006 3097 22027 1029 2024 3980 2029 2052 2022 11543 2787 2011 1996 5565 1998 1996 5814 4280 1010 1998 2763 2011 4445 2007 1037 7082 7634 2000 3425 1998 1996 2270 2204 1012 102\n",
      "[NeMo I 2021-06-09 13:42:26 text_classification_dataset:180] input_mask: 1 1 1 1 1 1 1 1 1 1 1 1 1 1 1 1 1 1 1 1 1 1 1 1 1 1 1 1 1 1 1 1 1 1 1 1 1 1 1 1 1 1 1 1 1 1 1 1 1 1 1 1 1 1 1 1 1 1 1 1 1 1 1 1 1 1 1 1 1 1 1 1 1 1 1 1 1 1 1 1 1 1 1 1 1 1 1 1 1 1 1 1 1 1 1 1 1 1 1 1 1 1 1 1 1 1 1 1 1 1 1 1 1 1 1 1 1 1 1 1 1 1 1 1 1 1 1 1\n",
      "[NeMo I 2021-06-09 13:42:26 text_classification_dataset:217] features restored from /dli/task/data/federalist_papers_HM/cached_train_BertTokenizer_128_30522\n",
      "dl_train features include batchsize of 64 and shuffle = True\n"
     ]
    }
   ],
   "source": [
    "# Instantiate the data Layer neural module for training.\n",
    "#     Include the input file locations, tokenizer, max_seq_length, and batch size.\n",
    "#     Set the shuffle and use_cache to True for training  \n",
    "USE_CACHE = True\n",
    "tokenizer = get_tokenizer(tokenizer_name='nemobert', pretrained_model_name=PRETRAINED_MODEL_NAME)\n",
    "dl_train = BertTextClassificationDataLayer(input_file=os.path.join(DATA_DIR, 'train.tsv'),\n",
    "                                             tokenizer=tokenizer,\n",
    "                                             max_seq_length=MAX_SEQ_LEN,\n",
    "                                             shuffle=True,\n",
    "                                             batch_size=BATCH_SIZE,\n",
    "                                             use_cache=USE_CACHE) #FIXME\n",
    "\n",
    "# Sanity check\n",
    "print('dl_train features include batchsize of {} and shuffle = {}'.format(dl_train._batch_size, dl_train._shuffle))"
   ]
  },
  {
   "cell_type": "code",
   "execution_count": 7,
   "metadata": {},
   "outputs": [
    {
     "data": {
      "application/vnd.jupyter.widget-view+json": {
       "model_id": "338303c664b449aab6b45267ac48c1aa",
       "version_major": 2,
       "version_minor": 0
      },
      "text/plain": [
       "HBox(children=(IntProgress(value=0, description='Downloading', max=433, style=ProgressStyle(description_width=…"
      ]
     },
     "metadata": {},
     "output_type": "display_data"
    },
    {
     "name": "stdout",
     "output_type": "stream",
     "text": [
      "\n"
     ]
    },
    {
     "data": {
      "application/vnd.jupyter.widget-view+json": {
       "model_id": "ab837bdc2b0c41fc901f93f47c284d8d",
       "version_major": 2,
       "version_minor": 0
      },
      "text/plain": [
       "HBox(children=(IntProgress(value=0, description='Downloading', max=440473133, style=ProgressStyle(description_…"
      ]
     },
     "metadata": {},
     "output_type": "display_data"
    },
    {
     "name": "stdout",
     "output_type": "stream",
     "text": [
      "\n",
      "bert-base-uncased has 109482240 weights\n"
     ]
    }
   ],
   "source": [
    "# Instantiate the Language Model with the get_pretrained_lm_model function\n",
    "#    Include the pretrained_model_name as the parameter\n",
    "lm =  get_pretrained_lm_model(pretrained_model_name=PRETRAINED_MODEL_NAME) #FIXME\n",
    "\n",
    "# Sanity check the number of weight parameters\n",
    "print(f'{PRETRAINED_MODEL_NAME} has {lm.num_weights} weights')"
   ]
  },
  {
   "cell_type": "code",
   "execution_count": 8,
   "metadata": {},
   "outputs": [
    {
     "name": "stdout",
     "output_type": "stream",
     "text": [
      "Classifier has 592899 weights\n"
     ]
    }
   ],
   "source": [
    "# Instantiate the SequenceClassifier\n",
    "#    Include the hidden_size, num_classes (which is NUM_CLASSES), num_layers (set to 2), \n",
    "#    and a dropout rate of 0.1\n",
    "lm_hidden_size = lm.hidden_size\n",
    "classifier = SequenceClassifier(hidden_size=lm.hidden_size, \n",
    "                         num_classes=3, \n",
    "                         num_layers=2, \n",
    "                         dropout=0.1) #FIXME\n",
    "\n",
    "# Sanity check the number of weight parameters\n",
    "print(f'Classifier has {classifier.num_weights} weights')"
   ]
  },
  {
   "cell_type": "code",
   "execution_count": 9,
   "metadata": {},
   "outputs": [
    {
     "name": "stdout",
     "output_type": "stream",
     "text": [
      "ModuleType.loss\n"
     ]
    }
   ],
   "source": [
    "# Instantiate the CrossEntropyLossNM Loss Function (no parameters required)\n",
    "loss = CrossEntropyLossNM() #FIXME\n",
    "\n",
    "# Sanity check the loss - it should be ModuleType \"loss\"\n",
    "print(loss._type)"
   ]
  },
  {
   "cell_type": "markdown",
   "metadata": {},
   "source": [
    "### Create the Training Graph (not graded)"
   ]
  },
  {
   "cell_type": "code",
   "execution_count": 11,
   "metadata": {},
   "outputs": [
    {
     "name": "stdout",
     "output_type": "stream",
     "text": [
      "Types are:\n",
      "BertTextClassificationDataLayerOutput(input_ids=<nemo.core.neural_types.neural_type.NmTensor object at 0x7fdece8e22e8>, input_type_ids=<nemo.core.neural_types.neural_type.NmTensor object at 0x7fdece8e2390>, input_mask=<nemo.core.neural_types.neural_type.NmTensor object at 0x7fdece8e23c8>, labels=<nemo.core.neural_types.neural_type.NmTensor object at 0x7fdece8e24a8>)\n",
      "hidden_states\n",
      "logits\n",
      "loss\n"
     ]
    }
   ],
   "source": [
    "# Define the data output from the data layer\n",
    "train_data = dl_train()\n",
    "\n",
    "# Define train_embeddings from the language model, based on inputs from the data layer  \n",
    "train_embeddings = lm(input_ids=train_data.input_ids,\n",
    "                      token_type_ids=train_data.input_type_ids,\n",
    "                      attention_mask=train_data.input_mask)\n",
    "\n",
    "# Define the train_logits from the clasifier, based on the embeddings from the language model\n",
    "train_logits = classifier(hidden_states=train_embeddings)\n",
    "\n",
    "# Define the train_loss based on the classifier logits and data layer labels\n",
    "train_loss = loss(logits=train_logits, labels=train_data.labels)\n",
    "\n",
    "# Sanity check the outputs\n",
    "print('Types are:\\n{}\\n{}\\n{}\\n{}'.format(train_data, train_embeddings, train_logits, train_loss))"
   ]
  },
  {
   "cell_type": "markdown",
   "metadata": {},
   "source": [
    "# Step 3: Prepare the Validation Pipeline"
   ]
  },
  {
   "cell_type": "markdown",
   "metadata": {},
   "source": [
    "### Create the Validataion Data Layer Neural Module (not graded)"
   ]
  },
  {
   "cell_type": "code",
   "execution_count": 12,
   "metadata": {
    "scrolled": true
   },
   "outputs": [
    {
     "name": "stdout",
     "output_type": "stream",
     "text": [
      "[NeMo I 2021-06-09 13:44:22 text_classification_dataset:82] /dli/task/data/federalist_papers_HM/dev.tsv: 115\n",
      "[NeMo I 2021-06-09 13:44:24 data_preprocessing:250] Min: 257 |                  Max: 384 |                  Mean: 298.17391304347825 |                  Median: 294.0\n",
      "[NeMo I 2021-06-09 13:44:24 data_preprocessing:252] 75 percentile: 316.5\n",
      "[NeMo I 2021-06-09 13:44:24 data_preprocessing:253] 99 percentile: 374.18\n",
      "[NeMo I 2021-06-09 13:44:24 text_classification_dataset:118] 115 out of 115                         sentences with more than 128 subtokens.\n",
      "[NeMo I 2021-06-09 13:44:24 text_classification_dataset:175] *** Example ***\n",
      "[NeMo I 2021-06-09 13:44:24 text_classification_dataset:176] example_index: 0\n",
      "[NeMo I 2021-06-09 13:44:24 text_classification_dataset:177] subtokens: [CLS] ##pp ##lan ##ted , either in particular branches of traffic or in the general advantages of trade and navigation . from this summary of what has taken place in other countries , whose situations have borne the nearest resemblance to our own , what reason can we have to con ##fide in those rev ##eries which would seduce us into an expectation of peace and cord ##ial ##ity between the members of the present confederacy , in a state of separation ? have we not already seen enough of the fall ##acy and extra ##va ##gan ##ce of those idle theories which have amused us with promises of an exemption from the imperfect ##ions , weaknesses and evil ##s incident to society in every shape ? [SEP]\n",
      "[NeMo I 2021-06-09 13:44:24 text_classification_dataset:178] sent_label: 0\n",
      "[NeMo I 2021-06-09 13:44:24 text_classification_dataset:179] input_ids: 101 9397 5802 3064 1010 2593 1999 3327 5628 1997 4026 2030 1999 1996 2236 12637 1997 3119 1998 9163 1012 2013 2023 12654 1997 2054 2038 2579 2173 1999 2060 3032 1010 3005 8146 2031 15356 1996 7205 14062 2000 2256 2219 1010 2054 3114 2064 2057 2031 2000 9530 20740 1999 2216 7065 28077 2029 2052 23199 2149 2046 2019 17626 1997 3521 1998 11601 4818 3012 2090 1996 2372 1997 1996 2556 18179 1010 1999 1037 2110 1997 8745 1029 2031 2057 2025 2525 2464 2438 1997 1996 2991 15719 1998 4469 3567 5289 3401 1997 2216 18373 8106 2029 2031 11770 2149 2007 10659 1997 2019 19621 2013 1996 29238 8496 1010 21775 1998 4763 2015 5043 2000 2554 1999 2296 4338 1029 102\n",
      "[NeMo I 2021-06-09 13:44:24 text_classification_dataset:180] input_mask: 1 1 1 1 1 1 1 1 1 1 1 1 1 1 1 1 1 1 1 1 1 1 1 1 1 1 1 1 1 1 1 1 1 1 1 1 1 1 1 1 1 1 1 1 1 1 1 1 1 1 1 1 1 1 1 1 1 1 1 1 1 1 1 1 1 1 1 1 1 1 1 1 1 1 1 1 1 1 1 1 1 1 1 1 1 1 1 1 1 1 1 1 1 1 1 1 1 1 1 1 1 1 1 1 1 1 1 1 1 1 1 1 1 1 1 1 1 1 1 1 1 1 1 1 1 1 1 1\n",
      "[NeMo I 2021-06-09 13:44:24 text_classification_dataset:175] *** Example ***\n",
      "[NeMo I 2021-06-09 13:44:24 text_classification_dataset:176] example_index: 1\n",
      "[NeMo I 2021-06-09 13:44:24 text_classification_dataset:177] subtokens: [CLS] thus , we should , in a little time , see established in every part of this country the same engines of des ##pot ##ism which have been the sc ##our ##ge of the old world . this , at least , would be the natural course of things ; and our reasoning ##s will be the more likely to be just , in proportion as they are accommodated to this standard . these are not vague inference ##s drawn from supposed or speculative defects in a constitution , the whole power of which is lodged in the hands of a people , or their representatives and delegates , but they are solid conclusions , drawn from the natural and necessary progress of human affairs . [SEP]\n",
      "[NeMo I 2021-06-09 13:44:24 text_classification_dataset:178] sent_label: 0\n",
      "[NeMo I 2021-06-09 13:44:24 text_classification_dataset:179] input_ids: 101 2947 1010 2057 2323 1010 1999 1037 2210 2051 1010 2156 2511 1999 2296 2112 1997 2023 2406 1996 2168 5209 1997 4078 11008 2964 2029 2031 2042 1996 8040 8162 3351 1997 1996 2214 2088 1012 2023 1010 2012 2560 1010 2052 2022 1996 3019 2607 1997 2477 1025 1998 2256 13384 2015 2097 2022 1996 2062 3497 2000 2022 2074 1010 1999 10817 2004 2027 2024 28959 2000 2023 3115 1012 2122 2024 2025 13727 28937 2015 4567 2013 4011 2030 23250 18419 1999 1037 4552 1010 1996 2878 2373 1997 2029 2003 20451 1999 1996 2398 1997 1037 2111 1010 2030 2037 4505 1998 10284 1010 2021 2027 2024 5024 15306 1010 4567 2013 1996 3019 1998 4072 5082 1997 2529 3821 1012 102\n",
      "[NeMo I 2021-06-09 13:44:24 text_classification_dataset:180] input_mask: 1 1 1 1 1 1 1 1 1 1 1 1 1 1 1 1 1 1 1 1 1 1 1 1 1 1 1 1 1 1 1 1 1 1 1 1 1 1 1 1 1 1 1 1 1 1 1 1 1 1 1 1 1 1 1 1 1 1 1 1 1 1 1 1 1 1 1 1 1 1 1 1 1 1 1 1 1 1 1 1 1 1 1 1 1 1 1 1 1 1 1 1 1 1 1 1 1 1 1 1 1 1 1 1 1 1 1 1 1 1 1 1 1 1 1 1 1 1 1 1 1 1 1 1 1 1 1 1\n",
      "[NeMo I 2021-06-09 13:44:24 text_classification_dataset:175] *** Example ***\n",
      "[NeMo I 2021-06-09 13:44:24 text_classification_dataset:176] example_index: 2\n",
      "[NeMo I 2021-06-09 13:44:24 text_classification_dataset:177] subtokens: [CLS] . this would be more peculiar ##ly the case in relation to operations in the west indies . a few ships of the line , sent op ##port ##une ##ly to the reinforcement of either side , would often be sufficient to decide the fate of a campaign , on the event of which interests of the greatest magnitude were suspended . our position is , in this respect , a most commanding one . and if to this consideration we add that of the useful ##ness of supplies from this country , in the prosecution of military operations in the west indies , it will readily be perceived that a situation so favorable would enable us to bargain with great advantage for commercial privileges . [SEP]\n",
      "[NeMo I 2021-06-09 13:44:24 text_classification_dataset:178] sent_label: 0\n",
      "[NeMo I 2021-06-09 13:44:24 text_classification_dataset:179] input_ids: 101 1012 2023 2052 2022 2062 14099 2135 1996 2553 1999 7189 2000 3136 1999 1996 2225 9429 1012 1037 2261 3719 1997 1996 2240 1010 2741 6728 6442 9816 2135 2000 1996 23895 1997 2593 2217 1010 2052 2411 2022 7182 2000 5630 1996 6580 1997 1037 3049 1010 2006 1996 2724 1997 2029 5426 1997 1996 4602 10194 2020 6731 1012 2256 2597 2003 1010 1999 2023 4847 1010 1037 2087 7991 2028 1012 1998 2065 2000 2023 9584 2057 5587 2008 1997 1996 6179 2791 1997 6067 2013 2023 2406 1010 1999 1996 11537 1997 2510 3136 1999 1996 2225 9429 1010 2009 2097 12192 2022 8690 2008 1037 3663 2061 11119 2052 9585 2149 2000 17113 2007 2307 5056 2005 3293 14310 1012 102\n",
      "[NeMo I 2021-06-09 13:44:24 text_classification_dataset:180] input_mask: 1 1 1 1 1 1 1 1 1 1 1 1 1 1 1 1 1 1 1 1 1 1 1 1 1 1 1 1 1 1 1 1 1 1 1 1 1 1 1 1 1 1 1 1 1 1 1 1 1 1 1 1 1 1 1 1 1 1 1 1 1 1 1 1 1 1 1 1 1 1 1 1 1 1 1 1 1 1 1 1 1 1 1 1 1 1 1 1 1 1 1 1 1 1 1 1 1 1 1 1 1 1 1 1 1 1 1 1 1 1 1 1 1 1 1 1 1 1 1 1 1 1 1 1 1 1 1 1\n",
      "[NeMo I 2021-06-09 13:44:24 text_classification_dataset:175] *** Example ***\n",
      "[NeMo I 2021-06-09 13:44:24 text_classification_dataset:176] example_index: 3\n",
      "[NeMo I 2021-06-09 13:44:24 text_classification_dataset:177] subtokens: [CLS] as often as it fell in their way . the rights of neutrality will only be respected when they are defended by an adequate power . a nation , des ##pic ##able by its weakness , for ##feit ##s even the privilege of being neutral . under a vigorous national government , the natural strength and resources of the country , directed to a common interest , would ba ##ffle all the combinations of european jealousy to restrain our growth . this situation would even take away the motive to such combinations , by inducing an imp ##rac ##tica ##bility of success . an active commerce , an extensive navigation , and a flourishing marine would then be the offspring of moral and physical necessity . [SEP]\n",
      "[NeMo I 2021-06-09 13:44:24 text_classification_dataset:178] sent_label: 0\n",
      "[NeMo I 2021-06-09 13:44:24 text_classification_dataset:179] input_ids: 101 2004 2411 2004 2009 3062 1999 2037 2126 1012 1996 2916 1997 21083 2097 2069 2022 9768 2043 2027 2024 8047 2011 2019 11706 2373 1012 1037 3842 1010 4078 24330 3085 2011 2049 11251 1010 2005 21156 2015 2130 1996 14293 1997 2108 8699 1012 2104 1037 21813 2120 2231 1010 1996 3019 3997 1998 4219 1997 1996 2406 1010 2856 2000 1037 2691 3037 1010 2052 8670 18142 2035 1996 14930 1997 2647 14225 2000 28467 2256 3930 1012 2023 3663 2052 2130 2202 2185 1996 15793 2000 2107 14930 1010 2011 29290 2019 17727 22648 22723 8553 1997 3112 1012 2019 3161 6236 1010 2019 4866 9163 1010 1998 1037 29571 3884 2052 2059 2022 1996 13195 1997 7191 1998 3558 13185 1012 102\n",
      "[NeMo I 2021-06-09 13:44:24 text_classification_dataset:180] input_mask: 1 1 1 1 1 1 1 1 1 1 1 1 1 1 1 1 1 1 1 1 1 1 1 1 1 1 1 1 1 1 1 1 1 1 1 1 1 1 1 1 1 1 1 1 1 1 1 1 1 1 1 1 1 1 1 1 1 1 1 1 1 1 1 1 1 1 1 1 1 1 1 1 1 1 1 1 1 1 1 1 1 1 1 1 1 1 1 1 1 1 1 1 1 1 1 1 1 1 1 1 1 1 1 1 1 1 1 1 1 1 1 1 1 1 1 1 1 1 1 1 1 1 1 1 1 1 1 1\n",
      "[NeMo I 2021-06-09 13:44:24 text_classification_dataset:175] *** Example ***\n",
      "[NeMo I 2021-06-09 13:44:24 text_classification_dataset:176] example_index: 4\n",
      "[NeMo I 2021-06-09 13:44:24 text_classification_dataset:177] subtokens: [CLS] ##id ##uous merchant , the labor ##ious husband ##man , the active mechanic , and the indus ##tri ##ous manufacturer , - - all orders of men , look forward with eager expectation and growing ala ##cr ##ity to this pleasing reward of their to ##ils . the often - agitated question between agriculture and commerce has , from ind ##ub ##ita ##ble experience , received a decision which has silenced the rivals ##hip that once sub ##sis ##ted between them , and has proved , to the satisfaction of their friends , that their interests are intimately blended and inter ##wo ##ven . it has been found in various countries that , in proportion as commerce has flourished , land has risen in value . [SEP]\n",
      "[NeMo I 2021-06-09 13:44:24 text_classification_dataset:178] sent_label: 0\n",
      "[NeMo I 2021-06-09 13:44:24 text_classification_dataset:179] input_ids: 101 3593 8918 6432 1010 1996 4450 6313 3129 2386 1010 1996 3161 15893 1010 1998 1996 27746 18886 3560 7751 1010 1011 1011 2035 4449 1997 2273 1010 2298 2830 2007 9461 17626 1998 3652 21862 26775 3012 2000 2023 24820 10377 1997 2037 2000 12146 1012 1996 2411 1011 21568 3160 2090 5237 1998 6236 2038 1010 2013 27427 12083 6590 3468 3325 1010 2363 1037 3247 2029 2038 25030 1996 9169 5605 2008 2320 4942 6190 3064 2090 2068 1010 1998 2038 4928 1010 2000 1996 9967 1997 2037 2814 1010 2008 2037 5426 2024 29024 19803 1998 6970 12155 8159 1012 2009 2038 2042 2179 1999 2536 3032 2008 1010 1999 10817 2004 6236 2038 17893 1010 2455 2038 13763 1999 3643 1012 102\n",
      "[NeMo I 2021-06-09 13:44:24 text_classification_dataset:180] input_mask: 1 1 1 1 1 1 1 1 1 1 1 1 1 1 1 1 1 1 1 1 1 1 1 1 1 1 1 1 1 1 1 1 1 1 1 1 1 1 1 1 1 1 1 1 1 1 1 1 1 1 1 1 1 1 1 1 1 1 1 1 1 1 1 1 1 1 1 1 1 1 1 1 1 1 1 1 1 1 1 1 1 1 1 1 1 1 1 1 1 1 1 1 1 1 1 1 1 1 1 1 1 1 1 1 1 1 1 1 1 1 1 1 1 1 1 1 1 1 1 1 1 1 1 1 1 1 1 1\n",
      "[NeMo I 2021-06-09 13:44:24 text_classification_dataset:217] features restored from /dli/task/data/federalist_papers_HM/cached_dev_BertTokenizer_128_30522\n",
      "dl_val features include batchsize of 64 and shuffle = False\n"
     ]
    }
   ],
   "source": [
    "# Instantiate the data Layer neural module for validation. \n",
    "dl_val = BertTextClassificationDataLayer(input_file=os.path.join(DATA_DIR, 'dev.tsv'),\n",
    "                                             tokenizer=tokenizer,\n",
    "                                             max_seq_length=MAX_SEQ_LEN,\n",
    "                                             batch_size=BATCH_SIZE,\n",
    "                                             use_cache=USE_CACHE)\n",
    "\n",
    "# Sanity check\n",
    "print('dl_val features include batchsize of {} and shuffle = {}'.format(dl_val._batch_size, dl_val._shuffle))"
   ]
  },
  {
   "cell_type": "markdown",
   "metadata": {},
   "source": [
    "### Create the Validation Graph (graded)\n",
    "Complete the <i><strong style=\"color:green;\">#FIXME</strong></i> lines in the following cell.  Then, run the cell that saves the data."
   ]
  },
  {
   "cell_type": "code",
   "execution_count": 15,
   "metadata": {},
   "outputs": [
    {
     "name": "stdout",
     "output_type": "stream",
     "text": [
      "Types are:\n",
      "BertTextClassificationDataLayerOutput(input_ids=<nemo.core.neural_types.neural_type.NmTensor object at 0x7fdf7fb8f9b0>, input_type_ids=<nemo.core.neural_types.neural_type.NmTensor object at 0x7fdf7fb8fe10>, input_mask=<nemo.core.neural_types.neural_type.NmTensor object at 0x7fdece91f080>, labels=<nemo.core.neural_types.neural_type.NmTensor object at 0x7fdece91f160>)\n",
      "hidden_states\n",
      "logits\n",
      "loss\n"
     ]
    }
   ],
   "source": [
    "# Define the data output from the data layer\n",
    "val_data = dl_train() #FIXME\n",
    "\n",
    "# Define val_embeddings from the language model, based on inputs from the data layer  \n",
    "val_embeddings = lm(input_ids=train_data.input_ids,\n",
    "                      token_type_ids=train_data.input_type_ids,\n",
    "                      attention_mask=train_data.input_mask) #FIXME\n",
    "\n",
    "# Define val_logits from the clasifier, based on the embeddings from the language model\n",
    "val_logits = classifier(hidden_states=val_embeddings) #FIXME\n",
    "\n",
    "# Define val_loss based on the classifier logits and data layer labels\n",
    "val_loss = loss(logits=train_logits, labels=train_data.labels) #FIXME\n",
    "\n",
    "# Sanity check the types - they should be the same as for the training graph (not None!)\n",
    "print('Types are:\\n{}\\n{}\\n{}\\n{}'.format(val_data, val_embeddings, val_logits, val_loss))"
   ]
  },
  {
   "cell_type": "markdown",
   "metadata": {},
   "source": [
    "# Step 4: Train"
   ]
  },
  {
   "cell_type": "markdown",
   "metadata": {},
   "source": [
    "### Calculate steps (not graded)"
   ]
  },
  {
   "cell_type": "code",
   "execution_count": 17,
   "metadata": {},
   "outputs": [],
   "source": [
    "NUM_EPOCHS = 15\n",
    "NUM_GPUS = 1  # always should be 1 for these labs\n",
    "\n",
    "train_data_size = len(dl_train)\n",
    "steps_per_epoch = math.ceil(train_data_size / (BATCH_SIZE * NUM_GPUS))"
   ]
  },
  {
   "cell_type": "markdown",
   "metadata": {},
   "source": [
    "### Set optimizer and learning rate (not graded)"
   ]
  },
  {
   "cell_type": "code",
   "execution_count": 18,
   "metadata": {},
   "outputs": [],
   "source": [
    "OPTIMIZER = 'adam'\n",
    "LEARNING_RATE = 1e-4\n",
    "WARMUP_RATIO = 0.1\n",
    "\n",
    "lr_policy_fn = get_lr_policy(\"WarmupAnnealing\", \n",
    "                             total_steps=NUM_EPOCHS * steps_per_epoch, \n",
    "                             warmup_ratio=WARMUP_RATIO\n",
    ")"
   ]
  },
  {
   "cell_type": "markdown",
   "metadata": {},
   "source": [
    "### Create the Callbacks (not graded)"
   ]
  },
  {
   "cell_type": "code",
   "execution_count": 19,
   "metadata": {},
   "outputs": [],
   "source": [
    "# Create callback for simple logging\n",
    "train_callback = SimpleLogger(step_freq=steps_per_epoch)\n",
    "\n",
    "# Create callback for tensorboard logging\n",
    "tensorboard_callback = TensorboardLogger(nf.tb_writer,\n",
    "                                        step_freq=steps_per_epoch)\n",
    "\n",
    "# Create callback to evaluate each epoch against the validation data\n",
    "eval_callback = EvaluatorCallback(eval_tensors=[val_logits, val_data.labels],\n",
    "                                            user_iter_callback=lambda x, y: eval_iter_callback(x, y, dl_val),\n",
    "                                            user_epochs_done_callback=lambda x:\n",
    "                                                eval_epochs_done_callback(x, f'{nf.work_dir}graphs'),\n",
    "                                            tb_writer=nf.tb_writer,\n",
    "                                            eval_step=steps_per_epoch)\n",
    "\n",
    "# Create callback to save checkpoints\n",
    "ckpt_callback = CheckpointCallback(folder=nf.checkpoint_dir,\n",
    "                                             epoch_freq=1)"
   ]
  },
  {
   "cell_type": "markdown",
   "metadata": {},
   "source": [
    "### Run the Trainer (graded)\n",
    "Complete the <i><strong style=\"color:green;\">#FIXME</strong></i> in the following cell.  Then, run the cell that saves the data."
   ]
  },
  {
   "cell_type": "code",
   "execution_count": 20,
   "metadata": {
    "scrolled": true
   },
   "outputs": [
    {
     "name": "stdout",
     "output_type": "stream",
     "text": [
      "Selected optimization level O1:  Insert automatic casts around Pytorch functions and Tensor methods.\n",
      "\n",
      "Defaults for this optimization level are:\n",
      "enabled                : True\n",
      "opt_level              : O1\n",
      "cast_model_type        : None\n",
      "patch_torch_functions  : True\n",
      "keep_batchnorm_fp32    : None\n",
      "master_weights         : None\n",
      "loss_scale             : dynamic\n",
      "Processing user overrides (additional kwargs that are not None)...\n",
      "After processing overrides, optimization options are:\n",
      "enabled                : True\n",
      "opt_level              : O1\n",
      "cast_model_type        : None\n",
      "patch_torch_functions  : True\n",
      "keep_batchnorm_fp32    : None\n",
      "master_weights         : None\n",
      "loss_scale             : dynamic\n",
      "[NeMo I 2021-06-09 13:48:12 callbacks:534] Found 2 modules with weights:\n",
      "[NeMo I 2021-06-09 13:48:12 callbacks:536] BERT\n",
      "[NeMo I 2021-06-09 13:48:12 callbacks:536] SequenceClassifier\n",
      "[NeMo I 2021-06-09 13:48:12 callbacks:537] Total model parameters: 110075139\n",
      "[NeMo I 2021-06-09 13:48:12 callbacks:473] Found checkpoint folder /dli/task/data/logs-bbu/checkpoints. Will attempt to restore checkpoints from it.\n"
     ]
    },
    {
     "name": "stderr",
     "output_type": "stream",
     "text": [
      "[NeMo W 2021-06-09 13:48:12 callbacks:499] For module BERT, no file matches  in /dli/task/data/logs-bbu/checkpoints\n",
      "[NeMo W 2021-06-09 13:48:12 callbacks:501] Checkpoint folder /dli/task/data/logs-bbu/checkpoints was present but nothing was restored. Continuing training from random initialization.\n"
     ]
    },
    {
     "name": "stdout",
     "output_type": "stream",
     "text": [
      "[NeMo I 2021-06-09 13:48:13 callbacks:232] loss: 0.979531\n",
      "[NeMo I 2021-06-09 13:48:13 deprecated_callbacks:316] Doing Evaluation ..............................\n",
      "[NeMo I 2021-06-09 13:48:14 text_classification_callback:57] Accuracy: 0.7290836653386454\n",
      "[NeMo I 2021-06-09 13:48:14 text_classification_callback:64] Sampled preds: [0 0 0 0 0 0 0 0 0 0 0 0 0 0 0 0 0 0 0 0]\n",
      "[NeMo I 2021-06-09 13:48:14 text_classification_callback:65] Sampled labels: [0 0 0 0 1 1 0 0 1 1 0 1 0 0 0 1 1 0 0 0]\n",
      "[NeMo I 2021-06-09 13:48:14 callback_utils:92] Confusion matrix:\n",
      "    [[366   0]\n",
      "     [136   0]]\n",
      "[NeMo I 2021-06-09 13:48:14 text_classification_callback:67]               precision    recall  f1-score   support\n",
      "    \n",
      "               0     0.7291    1.0000    0.8433       366\n",
      "               1     0.0000    0.0000    0.0000       136\n",
      "    \n",
      "        accuracy                         0.7291       502\n",
      "       macro avg     0.3645    0.5000    0.4217       502\n",
      "    weighted avg     0.5316    0.7291    0.6148       502\n",
      "    \n",
      "[NeMo I 2021-06-09 13:48:14 deprecated_callbacks:321] Evaluation time: 0.9883460998535156 seconds\n"
     ]
    },
    {
     "name": "stderr",
     "output_type": "stream",
     "text": [
      "/opt/conda/lib/python3.6/site-packages/sklearn/metrics/_classification.py:1268: UndefinedMetricWarning: Precision and F-score are ill-defined and being set to 0.0 in labels with no predicted samples. Use `zero_division` parameter to control this behavior.\n",
      "  _warn_prf(average, modifier, msg_start, len(result))\n"
     ]
    },
    {
     "name": "stdout",
     "output_type": "stream",
     "text": [
      "[NeMo I 2021-06-09 13:48:16 callbacks:232] loss: 0.6168225\n",
      "[NeMo I 2021-06-09 13:48:16 deprecated_callbacks:316] Doing Evaluation ..............................\n",
      "[NeMo I 2021-06-09 13:48:17 text_classification_callback:57] Accuracy: 0.7290836653386454\n",
      "[NeMo I 2021-06-09 13:48:17 text_classification_callback:64] Sampled preds: [0 0 0 0 0 0 0 0 0 0 0 0 0 0 0 0 0 0 0 0]\n",
      "[NeMo I 2021-06-09 13:48:17 text_classification_callback:65] Sampled labels: [0 0 1 0 0 0 1 1 0 0 0 0 0 0 0 0 1 0 0 0]\n",
      "[NeMo I 2021-06-09 13:48:17 callback_utils:92] Confusion matrix:\n",
      "    [[366   0]\n",
      "     [136   0]]\n",
      "[NeMo I 2021-06-09 13:48:17 text_classification_callback:67]               precision    recall  f1-score   support\n",
      "    \n",
      "               0     0.7291    1.0000    0.8433       366\n",
      "               1     0.0000    0.0000    0.0000       136\n",
      "    \n",
      "        accuracy                         0.7291       502\n",
      "       macro avg     0.3645    0.5000    0.4217       502\n",
      "    weighted avg     0.5316    0.7291    0.6148       502\n",
      "    \n",
      "[NeMo I 2021-06-09 13:48:17 deprecated_callbacks:321] Evaluation time: 0.9472503662109375 seconds\n",
      "[NeMo I 2021-06-09 13:48:20 callbacks:465] Saved checkpoint: /dli/task/data/logs-bbu/checkpoints/trainer-EPOCH-1.pt\n",
      "[NeMo I 2021-06-09 13:48:20 callbacks:232] loss: 0.54879534\n",
      "[NeMo I 2021-06-09 13:48:20 deprecated_callbacks:316] Doing Evaluation ..............................\n",
      "[NeMo I 2021-06-09 13:48:21 text_classification_callback:57] Accuracy: 0.7290836653386454\n",
      "[NeMo I 2021-06-09 13:48:21 text_classification_callback:64] Sampled preds: [0 0 0 0 0 0 0 0 0 0 0 0 0 0 0 0 0 0 0 0]\n",
      "[NeMo I 2021-06-09 13:48:21 text_classification_callback:65] Sampled labels: [0 0 0 1 0 0 0 0 1 0 0 0 0 0 0 0 1 1 1 0]\n",
      "[NeMo I 2021-06-09 13:48:21 callback_utils:92] Confusion matrix:\n",
      "    [[366   0]\n",
      "     [136   0]]\n",
      "[NeMo I 2021-06-09 13:48:21 text_classification_callback:67]               precision    recall  f1-score   support\n",
      "    \n",
      "               0     0.7291    1.0000    0.8433       366\n",
      "               1     0.0000    0.0000    0.0000       136\n",
      "    \n",
      "        accuracy                         0.7291       502\n",
      "       macro avg     0.3645    0.5000    0.4217       502\n",
      "    weighted avg     0.5316    0.7291    0.6148       502\n",
      "    \n",
      "[NeMo I 2021-06-09 13:48:21 deprecated_callbacks:321] Evaluation time: 0.9530918598175049 seconds\n",
      "[NeMo I 2021-06-09 13:48:24 callbacks:465] Saved checkpoint: /dli/task/data/logs-bbu/checkpoints/trainer-EPOCH-2.pt\n",
      "[NeMo I 2021-06-09 13:48:24 callbacks:232] loss: 0.4999677\n",
      "[NeMo I 2021-06-09 13:48:24 deprecated_callbacks:316] Doing Evaluation ..............................\n",
      "[NeMo I 2021-06-09 13:48:25 text_classification_callback:57] Accuracy: 0.7290836653386454\n",
      "[NeMo I 2021-06-09 13:48:25 text_classification_callback:64] Sampled preds: [0 0 0 0 0 0 0 0 0 0 0 0 0 0 0 0 0 0 0 0]\n",
      "[NeMo I 2021-06-09 13:48:25 text_classification_callback:65] Sampled labels: [0 0 0 0 1 0 1 0 0 0 0 0 0 0 1 0 0 0 1 1]\n",
      "[NeMo I 2021-06-09 13:48:25 callback_utils:92] Confusion matrix:\n",
      "    [[366   0]\n",
      "     [136   0]]\n",
      "[NeMo I 2021-06-09 13:48:25 text_classification_callback:67]               precision    recall  f1-score   support\n",
      "    \n",
      "               0     0.7291    1.0000    0.8433       366\n",
      "               1     0.0000    0.0000    0.0000       136\n",
      "    \n",
      "        accuracy                         0.7291       502\n",
      "       macro avg     0.3645    0.5000    0.4217       502\n",
      "    weighted avg     0.5316    0.7291    0.6148       502\n",
      "    \n",
      "[NeMo I 2021-06-09 13:48:25 deprecated_callbacks:321] Evaluation time: 0.962287425994873 seconds\n",
      "[NeMo I 2021-06-09 13:48:28 callbacks:465] Saved checkpoint: /dli/task/data/logs-bbu/checkpoints/trainer-EPOCH-3.pt\n",
      "[NeMo I 2021-06-09 13:48:28 callbacks:232] loss: 0.37368938\n",
      "[NeMo I 2021-06-09 13:48:28 deprecated_callbacks:316] Doing Evaluation ..............................\n",
      "[NeMo I 2021-06-09 13:48:29 text_classification_callback:57] Accuracy: 0.9243027888446215\n",
      "[NeMo I 2021-06-09 13:48:29 text_classification_callback:64] Sampled preds: [1 0 0 0 0 1 0 0 0 0 0 0 1 0 0 1 1 0 0 0]\n",
      "[NeMo I 2021-06-09 13:48:29 text_classification_callback:65] Sampled labels: [1 0 0 0 0 0 0 0 0 0 1 1 1 0 0 1 1 0 0 0]\n",
      "[NeMo I 2021-06-09 13:48:29 callback_utils:92] Confusion matrix:\n",
      "    [[344  22]\n",
      "     [ 16 120]]\n",
      "[NeMo I 2021-06-09 13:48:29 text_classification_callback:67]               precision    recall  f1-score   support\n",
      "    \n",
      "               0     0.9556    0.9399    0.9477       366\n",
      "               1     0.8451    0.8824    0.8633       136\n",
      "    \n",
      "        accuracy                         0.9243       502\n",
      "       macro avg     0.9003    0.9111    0.9055       502\n",
      "    weighted avg     0.9256    0.9243    0.9248       502\n",
      "    \n",
      "[NeMo I 2021-06-09 13:48:29 deprecated_callbacks:321] Evaluation time: 0.9649851322174072 seconds\n",
      "[NeMo I 2021-06-09 13:48:32 callbacks:465] Saved checkpoint: /dli/task/data/logs-bbu/checkpoints/trainer-EPOCH-4.pt\n",
      "[NeMo I 2021-06-09 13:48:32 callbacks:232] loss: 0.15500796\n",
      "[NeMo I 2021-06-09 13:48:32 deprecated_callbacks:316] Doing Evaluation ..............................\n",
      "[NeMo I 2021-06-09 13:48:33 text_classification_callback:57] Accuracy: 0.9880478087649402\n",
      "[NeMo I 2021-06-09 13:48:33 text_classification_callback:64] Sampled preds: [0 0 0 0 1 0 0 0 0 1 0 1 0 0 0 1 0 0 0 0]\n",
      "[NeMo I 2021-06-09 13:48:33 text_classification_callback:65] Sampled labels: [0 0 0 0 1 0 0 0 0 1 0 1 0 0 0 1 0 0 0 0]\n",
      "[NeMo I 2021-06-09 13:48:33 callback_utils:92] Confusion matrix:\n",
      "    [[363   3]\n",
      "     [  3 133]]\n",
      "[NeMo I 2021-06-09 13:48:33 text_classification_callback:67]               precision    recall  f1-score   support\n",
      "    \n",
      "               0     0.9918    0.9918    0.9918       366\n",
      "               1     0.9779    0.9779    0.9779       136\n",
      "    \n",
      "        accuracy                         0.9880       502\n",
      "       macro avg     0.9849    0.9849    0.9849       502\n",
      "    weighted avg     0.9880    0.9880    0.9880       502\n",
      "    \n",
      "[NeMo I 2021-06-09 13:48:33 deprecated_callbacks:321] Evaluation time: 0.9542629718780518 seconds\n",
      "[NeMo I 2021-06-09 13:48:36 callbacks:465] Saved checkpoint: /dli/task/data/logs-bbu/checkpoints/trainer-EPOCH-5.pt\n",
      "[NeMo I 2021-06-09 13:48:36 callbacks:232] loss: 0.021718837\n",
      "[NeMo I 2021-06-09 13:48:36 deprecated_callbacks:316] Doing Evaluation ..............................\n",
      "[NeMo I 2021-06-09 13:48:37 text_classification_callback:57] Accuracy: 0.9960159362549801\n",
      "[NeMo I 2021-06-09 13:48:37 text_classification_callback:64] Sampled preds: [0 1 0 1 1 1 0 0 0 0 0 0 1 0 0 0 0 1 0 1]\n",
      "[NeMo I 2021-06-09 13:48:37 text_classification_callback:65] Sampled labels: [0 1 0 1 1 1 0 0 0 0 0 0 1 0 0 0 0 1 0 1]\n",
      "[NeMo I 2021-06-09 13:48:37 callback_utils:92] Confusion matrix:\n",
      "    [[366   0]\n",
      "     [  2 134]]\n",
      "[NeMo I 2021-06-09 13:48:37 text_classification_callback:67]               precision    recall  f1-score   support\n",
      "    \n",
      "               0     0.9946    1.0000    0.9973       366\n",
      "               1     1.0000    0.9853    0.9926       136\n",
      "    \n",
      "        accuracy                         0.9960       502\n",
      "       macro avg     0.9973    0.9926    0.9949       502\n",
      "    weighted avg     0.9960    0.9960    0.9960       502\n",
      "    \n",
      "[NeMo I 2021-06-09 13:48:37 deprecated_callbacks:321] Evaluation time: 0.9606249332427979 seconds\n",
      "Gradient overflow.  Skipping step, loss scaler 0 reducing loss scale to 32768.0\n",
      "[NeMo I 2021-06-09 13:48:40 callbacks:465] Saved checkpoint: /dli/task/data/logs-bbu/checkpoints/trainer-EPOCH-6.pt\n",
      "[NeMo I 2021-06-09 13:48:41 callbacks:232] loss: 0.048420653\n",
      "[NeMo I 2021-06-09 13:48:41 deprecated_callbacks:316] Doing Evaluation ..............................\n",
      "[NeMo I 2021-06-09 13:48:42 text_classification_callback:57] Accuracy: 0.9840637450199203\n",
      "[NeMo I 2021-06-09 13:48:42 text_classification_callback:64] Sampled preds: [1 0 1 0 0 0 0 0 0 0 1 1 0 1 0 0 0 0 1 0]\n",
      "[NeMo I 2021-06-09 13:48:42 text_classification_callback:65] Sampled labels: [1 0 1 0 0 0 0 0 0 0 1 1 0 1 0 0 0 0 1 0]\n",
      "[NeMo I 2021-06-09 13:48:42 callback_utils:92] Confusion matrix:\n",
      "    [[358   8]\n",
      "     [  0 136]]\n",
      "[NeMo I 2021-06-09 13:48:42 text_classification_callback:67]               precision    recall  f1-score   support\n",
      "    \n",
      "               0     1.0000    0.9781    0.9890       366\n",
      "               1     0.9444    1.0000    0.9714       136\n",
      "    \n",
      "        accuracy                         0.9841       502\n",
      "       macro avg     0.9722    0.9891    0.9802       502\n",
      "    weighted avg     0.9849    0.9841    0.9842       502\n",
      "    \n",
      "[NeMo I 2021-06-09 13:48:42 deprecated_callbacks:321] Evaluation time: 0.99251389503479 seconds\n",
      "[NeMo I 2021-06-09 13:48:44 callbacks:465] Saved checkpoint: /dli/task/data/logs-bbu/checkpoints/trainer-EPOCH-7.pt\n",
      "[NeMo I 2021-06-09 13:48:45 callbacks:232] loss: 0.021550318\n",
      "[NeMo I 2021-06-09 13:48:45 deprecated_callbacks:316] Doing Evaluation ..............................\n",
      "[NeMo I 2021-06-09 13:48:46 text_classification_callback:57] Accuracy: 0.9780876494023905\n",
      "[NeMo I 2021-06-09 13:48:46 text_classification_callback:64] Sampled preds: [0 0 1 0 0 0 0 1 0 0 0 0 0 1 1 1 0 0 0 0]\n",
      "[NeMo I 2021-06-09 13:48:46 text_classification_callback:65] Sampled labels: [0 0 1 0 0 0 0 1 0 0 0 0 0 1 1 1 0 0 0 0]\n",
      "[NeMo I 2021-06-09 13:48:46 callback_utils:92] Confusion matrix:\n",
      "    [[355  11]\n",
      "     [  0 136]]\n",
      "[NeMo I 2021-06-09 13:48:46 text_classification_callback:67]               precision    recall  f1-score   support\n",
      "    \n",
      "               0     1.0000    0.9699    0.9847       366\n",
      "               1     0.9252    1.0000    0.9611       136\n",
      "    \n",
      "        accuracy                         0.9781       502\n",
      "       macro avg     0.9626    0.9850    0.9729       502\n",
      "    weighted avg     0.9797    0.9781    0.9783       502\n",
      "    \n",
      "[NeMo I 2021-06-09 13:48:46 deprecated_callbacks:321] Evaluation time: 0.972902774810791 seconds\n",
      "[NeMo I 2021-06-09 13:48:52 callbacks:465] Saved checkpoint: /dli/task/data/logs-bbu/checkpoints/trainer-EPOCH-8.pt\n",
      "[NeMo I 2021-06-09 13:48:52 callbacks:232] loss: 0.08406572\n",
      "[NeMo I 2021-06-09 13:48:52 deprecated_callbacks:316] Doing Evaluation ..............................\n",
      "[NeMo I 2021-06-09 13:48:53 text_classification_callback:57] Accuracy: 0.99800796812749\n",
      "[NeMo I 2021-06-09 13:48:53 text_classification_callback:64] Sampled preds: [0 0 0 1 0 0 0 1 0 0 0 0 0 0 1 0 0 1 0 0]\n",
      "[NeMo I 2021-06-09 13:48:53 text_classification_callback:65] Sampled labels: [0 0 0 1 0 0 0 1 0 0 0 0 0 0 1 0 0 1 0 0]\n",
      "[NeMo I 2021-06-09 13:48:53 callback_utils:92] Confusion matrix:\n",
      "    [[366   0]\n",
      "     [  1 135]]\n",
      "[NeMo I 2021-06-09 13:48:54 text_classification_callback:67]               precision    recall  f1-score   support\n",
      "    \n",
      "               0     0.9973    1.0000    0.9986       366\n",
      "               1     1.0000    0.9926    0.9963       136\n",
      "    \n",
      "        accuracy                         0.9980       502\n",
      "       macro avg     0.9986    0.9963    0.9975       502\n",
      "    weighted avg     0.9980    0.9980    0.9980       502\n",
      "    \n",
      "[NeMo I 2021-06-09 13:48:54 deprecated_callbacks:321] Evaluation time: 1.1143195629119873 seconds\n",
      "[NeMo I 2021-06-09 13:48:56 callbacks:465] Saved checkpoint: /dli/task/data/logs-bbu/checkpoints/trainer-EPOCH-9.pt\n",
      "[NeMo I 2021-06-09 13:48:56 callbacks:232] loss: 0.012702564\n",
      "[NeMo I 2021-06-09 13:48:57 deprecated_callbacks:316] Doing Evaluation ..............................\n",
      "[NeMo I 2021-06-09 13:48:57 text_classification_callback:57] Accuracy: 0.99800796812749\n",
      "[NeMo I 2021-06-09 13:48:57 text_classification_callback:64] Sampled preds: [1 0 0 0 0 1 0 1 0 0 0 0 0 1 0 0 1 0 0 0]\n",
      "[NeMo I 2021-06-09 13:48:57 text_classification_callback:65] Sampled labels: [1 0 0 0 0 1 0 1 0 0 0 0 0 1 0 0 1 0 0 0]\n",
      "[NeMo I 2021-06-09 13:48:57 callback_utils:92] Confusion matrix:\n",
      "    [[365   1]\n",
      "     [  0 136]]\n",
      "[NeMo I 2021-06-09 13:48:57 text_classification_callback:67]               precision    recall  f1-score   support\n",
      "    \n",
      "               0     1.0000    0.9973    0.9986       366\n",
      "               1     0.9927    1.0000    0.9963       136\n",
      "    \n",
      "        accuracy                         0.9980       502\n",
      "       macro avg     0.9964    0.9986    0.9975       502\n",
      "    weighted avg     0.9980    0.9980    0.9980       502\n",
      "    \n",
      "[NeMo I 2021-06-09 13:48:57 deprecated_callbacks:321] Evaluation time: 0.8994491100311279 seconds\n",
      "[NeMo I 2021-06-09 13:49:00 callbacks:465] Saved checkpoint: /dli/task/data/logs-bbu/checkpoints/trainer-EPOCH-10.pt\n",
      "[NeMo I 2021-06-09 13:49:01 callbacks:232] loss: 0.004797334\n",
      "[NeMo I 2021-06-09 13:49:01 deprecated_callbacks:316] Doing Evaluation ..............................\n",
      "[NeMo I 2021-06-09 13:49:02 text_classification_callback:57] Accuracy: 1.0\n",
      "[NeMo I 2021-06-09 13:49:02 text_classification_callback:64] Sampled preds: [1 0 0 0 0 1 0 0 0 0 0 1 0 0 1 1 0 0 0 0]\n",
      "[NeMo I 2021-06-09 13:49:02 text_classification_callback:65] Sampled labels: [1 0 0 0 0 1 0 0 0 0 0 1 0 0 1 1 0 0 0 0]\n",
      "[NeMo I 2021-06-09 13:49:02 callback_utils:92] Confusion matrix:\n",
      "    [[366   0]\n",
      "     [  0 136]]\n",
      "[NeMo I 2021-06-09 13:49:02 text_classification_callback:67]               precision    recall  f1-score   support\n",
      "    \n",
      "               0     1.0000    1.0000    1.0000       366\n",
      "               1     1.0000    1.0000    1.0000       136\n",
      "    \n",
      "        accuracy                         1.0000       502\n",
      "       macro avg     1.0000    1.0000    1.0000       502\n",
      "    weighted avg     1.0000    1.0000    1.0000       502\n",
      "    \n",
      "[NeMo I 2021-06-09 13:49:02 deprecated_callbacks:321] Evaluation time: 0.9201438426971436 seconds\n",
      "[NeMo I 2021-06-09 13:49:04 callbacks:465] Saved checkpoint: /dli/task/data/logs-bbu/checkpoints/trainer-EPOCH-11.pt\n",
      "[NeMo I 2021-06-09 13:49:05 callbacks:232] loss: 0.0046208953\n",
      "[NeMo I 2021-06-09 13:49:05 deprecated_callbacks:316] Doing Evaluation ..............................\n",
      "[NeMo I 2021-06-09 13:49:06 text_classification_callback:57] Accuracy: 1.0\n",
      "[NeMo I 2021-06-09 13:49:06 text_classification_callback:64] Sampled preds: [1 0 0 1 1 0 0 0 1 1 0 0 0 1 0 0 0 0 0 1]\n",
      "[NeMo I 2021-06-09 13:49:06 text_classification_callback:65] Sampled labels: [1 0 0 1 1 0 0 0 1 1 0 0 0 1 0 0 0 0 0 1]\n",
      "[NeMo I 2021-06-09 13:49:06 callback_utils:92] Confusion matrix:\n",
      "    [[366   0]\n",
      "     [  0 136]]\n",
      "[NeMo I 2021-06-09 13:49:06 text_classification_callback:67]               precision    recall  f1-score   support\n",
      "    \n",
      "               0     1.0000    1.0000    1.0000       366\n",
      "               1     1.0000    1.0000    1.0000       136\n",
      "    \n",
      "        accuracy                         1.0000       502\n",
      "       macro avg     1.0000    1.0000    1.0000       502\n",
      "    weighted avg     1.0000    1.0000    1.0000       502\n",
      "    \n",
      "[NeMo I 2021-06-09 13:49:06 deprecated_callbacks:321] Evaluation time: 0.9260613918304443 seconds\n",
      "[NeMo I 2021-06-09 13:49:08 callbacks:465] Saved checkpoint: /dli/task/data/logs-bbu/checkpoints/trainer-EPOCH-12.pt\n",
      "[NeMo I 2021-06-09 13:49:09 callbacks:232] loss: 0.004016127\n",
      "[NeMo I 2021-06-09 13:49:09 deprecated_callbacks:316] Doing Evaluation ..............................\n",
      "[NeMo I 2021-06-09 13:49:10 text_classification_callback:57] Accuracy: 1.0\n",
      "[NeMo I 2021-06-09 13:49:10 text_classification_callback:64] Sampled preds: [0 1 1 0 0 0 0 0 0 0 0 0 0 0 0 1 1 1 0 1]\n",
      "[NeMo I 2021-06-09 13:49:10 text_classification_callback:65] Sampled labels: [0 1 1 0 0 0 0 0 0 0 0 0 0 0 0 1 1 1 0 1]\n",
      "[NeMo I 2021-06-09 13:49:10 callback_utils:92] Confusion matrix:\n",
      "    [[366   0]\n",
      "     [  0 136]]\n",
      "[NeMo I 2021-06-09 13:49:10 text_classification_callback:67]               precision    recall  f1-score   support\n",
      "    \n",
      "               0     1.0000    1.0000    1.0000       366\n",
      "               1     1.0000    1.0000    1.0000       136\n",
      "    \n",
      "        accuracy                         1.0000       502\n",
      "       macro avg     1.0000    1.0000    1.0000       502\n",
      "    weighted avg     1.0000    1.0000    1.0000       502\n",
      "    \n",
      "[NeMo I 2021-06-09 13:49:10 deprecated_callbacks:321] Evaluation time: 0.9090373516082764 seconds\n",
      "[NeMo I 2021-06-09 13:49:12 callbacks:465] Saved checkpoint: /dli/task/data/logs-bbu/checkpoints/trainer-EPOCH-13.pt\n",
      "[NeMo I 2021-06-09 13:49:13 callbacks:232] loss: 0.004304947\n",
      "[NeMo I 2021-06-09 13:49:13 deprecated_callbacks:316] Doing Evaluation ..............................\n",
      "[NeMo I 2021-06-09 13:49:14 text_classification_callback:57] Accuracy: 1.0\n",
      "[NeMo I 2021-06-09 13:49:14 text_classification_callback:64] Sampled preds: [1 0 0 0 1 0 0 0 0 0 0 0 1 0 0 0 0 0 0 0]\n",
      "[NeMo I 2021-06-09 13:49:14 text_classification_callback:65] Sampled labels: [1 0 0 0 1 0 0 0 0 0 0 0 1 0 0 0 0 0 0 0]\n",
      "[NeMo I 2021-06-09 13:49:14 callback_utils:92] Confusion matrix:\n",
      "    [[366   0]\n",
      "     [  0 136]]\n",
      "[NeMo I 2021-06-09 13:49:14 text_classification_callback:67]               precision    recall  f1-score   support\n",
      "    \n",
      "               0     1.0000    1.0000    1.0000       366\n",
      "               1     1.0000    1.0000    1.0000       136\n",
      "    \n",
      "        accuracy                         1.0000       502\n",
      "       macro avg     1.0000    1.0000    1.0000       502\n",
      "    weighted avg     1.0000    1.0000    1.0000       502\n",
      "    \n",
      "[NeMo I 2021-06-09 13:49:14 deprecated_callbacks:321] Evaluation time: 0.9279699325561523 seconds\n",
      "[NeMo I 2021-06-09 13:49:16 callbacks:465] Saved checkpoint: /dli/task/data/logs-bbu/checkpoints/trainer-EPOCH-14.pt\n",
      "[NeMo I 2021-06-09 13:49:16 deprecated_callbacks:339] Final Evaluation ..............................\n",
      "[NeMo I 2021-06-09 13:49:17 text_classification_callback:57] Accuracy: 1.0\n",
      "[NeMo I 2021-06-09 13:49:17 text_classification_callback:64] Sampled preds: [0 0 0 0 0 0 0 0 0 0 0 1 1 0 0 0 0 0 1 0]\n",
      "[NeMo I 2021-06-09 13:49:17 text_classification_callback:65] Sampled labels: [0 0 0 0 0 0 0 0 0 0 0 1 1 0 0 0 0 0 1 0]\n",
      "[NeMo I 2021-06-09 13:49:17 callback_utils:92] Confusion matrix:\n",
      "    [[366   0]\n",
      "     [  0 136]]\n",
      "[NeMo I 2021-06-09 13:49:17 text_classification_callback:67]               precision    recall  f1-score   support\n",
      "    \n",
      "               0     1.0000    1.0000    1.0000       366\n",
      "               1     1.0000    1.0000    1.0000       136\n",
      "    \n",
      "        accuracy                         1.0000       502\n",
      "       macro avg     1.0000    1.0000    1.0000       502\n",
      "    weighted avg     1.0000    1.0000    1.0000       502\n",
      "    \n",
      "[NeMo I 2021-06-09 13:49:17 deprecated_callbacks:344] Evaluation time: 0.8952476978302002 seconds\n",
      "[NeMo I 2021-06-09 13:49:19 callbacks:465] Saved checkpoint: /dli/task/data/logs-bbu/checkpoints/trainer-EPOCH-15.pt\n",
      "CPU times: user 29.6 s, sys: 30.7 s, total: 1min\n",
      "Wall time: 1min 6s\n"
     ]
    },
    {
     "data": {
      "image/png": "[encoded data removed]",
      "text/plain": [
       "<Figure size 432x288 with 2 Axes>"
      ]
     },
     "metadata": {
      "needs_background": "light"
     },
     "output_type": "display_data"
    },
    {
     "data": {
      "image/png": "[encoded data removed]",
      "text/plain": [
       "<Figure size 432x288 with 2 Axes>"
      ]
     },
     "metadata": {
      "needs_background": "light"
     },
     "output_type": "display_data"
    },
    {
     "data": {
      "image/png": "[encoded data removed]",
      "text/plain": [
       "<Figure size 432x288 with 2 Axes>"
      ]
     },
     "metadata": {
      "needs_background": "light"
     },
     "output_type": "display_data"
    },
    {
     "data": {
      "image/png": "[encoded data removed]",
      "text/plain": [
       "<Figure size 432x288 with 2 Axes>"
      ]
     },
     "metadata": {
      "needs_background": "light"
     },
     "output_type": "display_data"
    },
    {
     "data": {
      "image/png": "[encoded data removed]",
      "text/plain": [
       "<Figure size 432x288 with 2 Axes>"
      ]
     },
     "metadata": {
      "needs_background": "light"
     },
     "output_type": "display_data"
    },
    {
     "data": {
      "image/png": "[encoded data removed]",
      "text/plain": [
       "<Figure size 432x288 with 2 Axes>"
      ]
     },
     "metadata": {
      "needs_background": "light"
     },
     "output_type": "display_data"
    },
    {
     "data": {
      "image/png": "[encoded data removed]",
      "text/plain": [
       "<Figure size 432x288 with 2 Axes>"
      ]
     },
     "metadata": {
      "needs_background": "light"
     },
     "output_type": "display_data"
    },
    {
     "data": {
      "image/png": "[encoded data removed]",
      "text/plain": [
       "<Figure size 432x288 with 2 Axes>"
      ]
     },
     "metadata": {
      "needs_background": "light"
     },
     "output_type": "display_data"
    },
    {
     "data": {
      "image/png": "[encoded data removed]",
      "text/plain": [
       "<Figure size 432x288 with 2 Axes>"
      ]
     },
     "metadata": {
      "needs_background": "light"
     },
     "output_type": "display_data"
    },
    {
     "data": {
      "image/png": "[encoded data removed]",
      "text/plain": [
       "<Figure size 432x288 with 2 Axes>"
      ]
     },
     "metadata": {
      "needs_background": "light"
     },
     "output_type": "display_data"
    },
    {
     "data": {
      "image/png": "[encoded data removed]",
      "text/plain": [
       "<Figure size 432x288 with 2 Axes>"
      ]
     },
     "metadata": {
      "needs_background": "light"
     },
     "output_type": "display_data"
    },
    {
     "data": {
      "image/png": "[encoded data removed]",
      "text/plain": [
       "<Figure size 432x288 with 2 Axes>"
      ]
     },
     "metadata": {
      "needs_background": "light"
     },
     "output_type": "display_data"
    },
    {
     "data": {
      "image/png": "[encoded data removed]",
      "text/plain": [
       "<Figure size 432x288 with 2 Axes>"
      ]
     },
     "metadata": {
      "needs_background": "light"
     },
     "output_type": "display_data"
    },
    {
     "data": {
      "image/png": "[encoded data removed]",
      "text/plain": [
       "<Figure size 432x288 with 2 Axes>"
      ]
     },
     "metadata": {
      "needs_background": "light"
     },
     "output_type": "display_data"
    },
    {
     "data": {
      "image/png": "[encoded data removed]",
      "text/plain": [
       "<Figure size 432x288 with 2 Axes>"
      ]
     },
     "metadata": {
      "needs_background": "light"
     },
     "output_type": "display_data"
    },
    {
     "data": {
      "image/png": "[encoded data removed]",
      "text/plain": [
       "<Figure size 432x288 with 2 Axes>"
      ]
     },
     "metadata": {
      "needs_background": "light"
     },
     "output_type": "display_data"
    }
   ],
   "source": [
    "%%time\n",
    "nemo.core.NeuralModuleFactory.reset_trainer(nf)\n",
    "#FIXME Complete the nf.train parameters\n",
    "nf.train(tensors_to_optimize=[train_loss],\n",
    "         callbacks=[train_callback, tensorboard_callback, eval_callback, ckpt_callback],\n",
    "         lr_policy=lr_policy_fn,\n",
    "         optimizer=OPTIMIZER,\n",
    "         optimization_params={'num_epochs': NUM_EPOCHS, 'lr': LEARNING_RATE})"
   ]
  },
  {
   "cell_type": "markdown",
   "metadata": {},
   "source": [
    "# Step 5: Infer"
   ]
  },
  {
   "cell_type": "markdown",
   "metadata": {},
   "source": [
    "### Prepare the Test Data for Each Paper (not graded)"
   ]
  },
  {
   "cell_type": "code",
   "execution_count": 22,
   "metadata": {},
   "outputs": [],
   "source": [
    "def add_label_to_test_data(input_file, output_file):\n",
    "    \"\"\" Add a nominal 'label' column to each test file and save it \"\"\"\n",
    "    df = pd.read_csv(input_file, sep='\\t')\n",
    "    # verify not done already\n",
    "    if 'label' not in df:\n",
    "        df['label'] = 0\n",
    "        df = df[['sentence', 'label']]\n",
    "    df.to_csv(output_file, sep='\\t', index=False)\n",
    "    \n",
    "def sample_classification(sample):\n",
    "    \"\"\" Extract the tensor probabilities from inference \"\"\"\n",
    "    sentence = sample.sentence\n",
    "    prob0 = sample.prob0.values[0]\n",
    "    prob1 = sample.prob1.values[0]\n",
    "    result = f'{sentence} \\n HAMILTON | MADISON \\n {prob0} | {prob1}'\n",
    "    return result\n",
    "\n",
    "# Add the label column to all the test sets by disputed paper\n",
    "test_files = [\n",
    "    'test49.tsv',\n",
    "    'test50.tsv',\n",
    "    'test51.tsv',\n",
    "    'test52.tsv',\n",
    "    'test53.tsv',\n",
    "    'test54.tsv', \n",
    "    'test55.tsv',\n",
    "    'test56.tsv',\n",
    "    'test57.tsv',\n",
    "    'test62.tsv',\n",
    "]\n",
    "\n",
    "for test_file in test_files:\n",
    "    add_label_to_test_data(DATA_DIR + test_file, DATA_DIR + 'labeled_' + test_file)"
   ]
  },
  {
   "cell_type": "markdown",
   "metadata": {},
   "source": [
    "### Create Test Inference Runner (not graded)"
   ]
  },
  {
   "cell_type": "code",
   "execution_count": 23,
   "metadata": {},
   "outputs": [],
   "source": [
    "def classify_paper(nf, tokenizer, bert, mlp, test_file, save_file):\n",
    "    \"\"\" Run inference on a test_file and save the probabilities found \"\"\"\n",
    "    \n",
    "    # Create the data layer neural module and test graph\n",
    "    dl_tmp = BertTextClassificationDataLayer(input_file=test_file,\n",
    "                                               tokenizer=tokenizer,\n",
    "                                               max_seq_length=MAX_SEQ_LEN,\n",
    "                                               batch_size=1)\n",
    "    \n",
    "    tmp_data = dl_tmp()\n",
    "    tmp_embeddings = bert(input_ids=tmp_data.input_ids,\n",
    "                          token_type_ids=tmp_data.input_type_ids,\n",
    "                          attention_mask=tmp_data.input_mask)\n",
    "    tmp_logits = mlp(hidden_states=tmp_embeddings)\n",
    "    \n",
    "    # Run inference\n",
    "    tmp_logits_tensors = nf.infer(tensors=[tmp_logits, tmp_embeddings])\n",
    "    \n",
    "    # Convert the tensor likelilhoods to probabilities and save\n",
    "    tmp_probs = [torch.nn.functional.softmax(torch.cat(tmp_logits_tensors[0]), dim=1).numpy()[:, label_index] for label_index in range(NUM_CLASSES)]\n",
    "    tmp_df = pd.read_csv(test_file, sep='\\t')\n",
    "    tmp_df['prob0'] = tmp_probs[0] \n",
    "    tmp_df['prob1'] = tmp_probs[1]\n",
    "    tmp_df.to_csv(save_file, sep='\\t', index=False)\n",
    "    \n",
    "    # Prepare an information output string\n",
    "    avg = round(float(tmp_df['prob0'].mean()),3)\n",
    "    std = round(float(tmp_df['prob0'].std()),3)\n",
    "    name = 'HAMILTON' if avg > 0.5 else 'MADISON'\n",
    "    result_string = '{} {} mean: {} std: {}\\n'.format(name, test_file, avg, std)\n",
    "    return result_string"
   ]
  },
  {
   "cell_type": "markdown",
   "metadata": {},
   "source": [
    "### Run Inference (graded)\n",
    "Run the inference blocks to see and save the results."
   ]
  },
  {
   "cell_type": "code",
   "execution_count": 24,
   "metadata": {
    "scrolled": true
   },
   "outputs": [
    {
     "name": "stdout",
     "output_type": "stream",
     "text": [
      "[NeMo I 2021-06-09 13:53:24 text_classification_dataset:82] /dli/task/data/federalist_papers_HM/labeled_test49.tsv: 7\n",
      "[NeMo I 2021-06-09 13:53:24 data_preprocessing:250] Min: 258 |                  Max: 322 |                  Mean: 287.42857142857144 |                  Median: 283.0\n",
      "[NeMo I 2021-06-09 13:53:24 data_preprocessing:252] 75 percentile: 295.5\n",
      "[NeMo I 2021-06-09 13:53:24 data_preprocessing:253] 99 percentile: 320.8\n",
      "[NeMo I 2021-06-09 13:53:24 text_classification_dataset:118] 7 out of 7                         sentences with more than 128 subtokens.\n",
      "[NeMo I 2021-06-09 13:53:24 text_classification_dataset:175] *** Example ***\n",
      "[NeMo I 2021-06-09 13:53:24 text_classification_dataset:176] example_index: 0\n",
      "[NeMo I 2021-06-09 13:53:24 text_classification_dataset:177] subtokens: [CLS] ought to be guarded . one of the precautions which he proposes , and on which he appears ultimately to rely as a pal ##lad ##ium to the weaker departments of power against the invasions of the stronger , is perhaps altogether his own , and as it immediately relates to the subject of our present inquiry , ought not to be overlooked . his proposition is , ` ` that whenever any two of the three branches of government shall con ##cu ##r in opinion , each by the voices of two thirds of their whole number , that a convention is necessary for altering the constitution , or correct ##ing breach ##es of it , a convention shall be called for the purpose . [SEP]\n",
      "[NeMo I 2021-06-09 13:53:24 text_classification_dataset:178] sent_label: 0\n",
      "[NeMo I 2021-06-09 13:53:24 text_classification_dataset:179] input_ids: 101 11276 2000 2022 13802 1012 2028 1997 1996 29361 2029 2002 17146 1010 1998 2006 2029 2002 3544 4821 2000 11160 2004 1037 14412 27266 5007 2000 1996 15863 7640 1997 2373 2114 1996 23536 1997 1996 6428 1010 2003 3383 10462 2010 2219 1010 1998 2004 2009 3202 14623 2000 1996 3395 1997 2256 2556 9934 1010 11276 2025 2000 2022 17092 1012 2010 14848 2003 1010 1036 1036 2008 7188 2151 2048 1997 1996 2093 5628 1997 2231 4618 9530 10841 2099 1999 5448 1010 2169 2011 1996 5755 1997 2048 12263 1997 2037 2878 2193 1010 2008 1037 4680 2003 4072 2005 22552 1996 4552 1010 2030 6149 2075 12510 2229 1997 2009 1010 1037 4680 4618 2022 2170 2005 1996 3800 1012 102\n",
      "[NeMo I 2021-06-09 13:53:24 text_classification_dataset:180] input_mask: 1 1 1 1 1 1 1 1 1 1 1 1 1 1 1 1 1 1 1 1 1 1 1 1 1 1 1 1 1 1 1 1 1 1 1 1 1 1 1 1 1 1 1 1 1 1 1 1 1 1 1 1 1 1 1 1 1 1 1 1 1 1 1 1 1 1 1 1 1 1 1 1 1 1 1 1 1 1 1 1 1 1 1 1 1 1 1 1 1 1 1 1 1 1 1 1 1 1 1 1 1 1 1 1 1 1 1 1 1 1 1 1 1 1 1 1 1 1 1 1 1 1 1 1 1 1 1 1\n",
      "[NeMo I 2021-06-09 13:53:24 text_classification_dataset:175] *** Example ***\n",
      "[NeMo I 2021-06-09 13:53:24 text_classification_dataset:176] example_index: 1\n",
      "[NeMo I 2021-06-09 13:53:24 text_classification_dataset:177] subtokens: [CLS] prevented , or the wrong ##s of the weaker to be red ##ressed , without an appeal to the people themselves , who , as the grant ##ors of the commissions , can alone declare its true meaning , and enforce its ob ##ser ##vance ? there is certainly great force in this reasoning , and it must be allowed to prove that a constitutional road to the decision of the people ought to be marked out and kept open , for certain great and extraordinary occasions . but there appear to be ins ##up ##era ##ble objections against the proposed rec ##ur ##rence to the people , as a provision in all cases for keeping the several departments of power within their constitutional limits . [SEP]\n",
      "[NeMo I 2021-06-09 13:53:24 text_classification_dataset:178] sent_label: 0\n",
      "[NeMo I 2021-06-09 13:53:24 text_classification_dataset:179] input_ids: 101 8729 1010 2030 1996 3308 2015 1997 1996 15863 2000 2022 2417 16119 1010 2302 2019 5574 2000 1996 2111 3209 1010 2040 1010 2004 1996 3946 5668 1997 1996 13239 1010 2064 2894 13520 2049 2995 3574 1010 1998 16306 2049 27885 8043 21789 1029 2045 2003 5121 2307 2486 1999 2023 13384 1010 1998 2009 2442 2022 3039 2000 6011 2008 1037 6543 2346 2000 1996 3247 1997 1996 2111 11276 2000 2022 4417 2041 1998 2921 2330 1010 2005 3056 2307 1998 9313 6642 1012 2021 2045 3711 2000 2022 16021 6279 6906 3468 17304 2114 1996 3818 28667 3126 24413 2000 1996 2111 1010 2004 1037 9347 1999 2035 3572 2005 4363 1996 2195 7640 1997 2373 2306 2037 6543 6537 1012 102\n",
      "[NeMo I 2021-06-09 13:53:24 text_classification_dataset:180] input_mask: 1 1 1 1 1 1 1 1 1 1 1 1 1 1 1 1 1 1 1 1 1 1 1 1 1 1 1 1 1 1 1 1 1 1 1 1 1 1 1 1 1 1 1 1 1 1 1 1 1 1 1 1 1 1 1 1 1 1 1 1 1 1 1 1 1 1 1 1 1 1 1 1 1 1 1 1 1 1 1 1 1 1 1 1 1 1 1 1 1 1 1 1 1 1 1 1 1 1 1 1 1 1 1 1 1 1 1 1 1 1 1 1 1 1 1 1 1 1 1 1 1 1 1 1 1 1 1 1\n",
      "[NeMo I 2021-06-09 13:53:24 text_classification_dataset:175] *** Example ***\n",
      "[NeMo I 2021-06-09 13:53:24 text_classification_dataset:176] example_index: 2\n",
      "[NeMo I 2021-06-09 13:53:24 text_classification_dataset:177] subtokens: [CLS] a great measure , de ##pr ##ive the government of that ve ##ner ##ation which time best ##ows on every thing , and without which perhaps the wise ##st and free ##st governments would not possess the re ##quisite stability . if it be true that all governments rest on opinion , it is no less true that the strength of opinion in each individual , and its practical influence on his conduct , depend much on the number which he suppose ##s to have entertained the same opinion . the reason of man , like man himself , is tim ##id and cautious when left alone , and acquire ##s firm ##ness and confidence in proportion to the number with which it is associated . [SEP]\n",
      "[NeMo I 2021-06-09 13:53:24 text_classification_dataset:178] sent_label: 0\n",
      "[NeMo I 2021-06-09 13:53:24 text_classification_dataset:179] input_ids: 101 1037 2307 5468 1010 2139 18098 3512 1996 2231 1997 2008 2310 3678 3370 2029 2051 2190 15568 2006 2296 2518 1010 1998 2302 2029 3383 1996 7968 3367 1998 2489 3367 6867 2052 2025 10295 1996 2128 24871 9211 1012 2065 2009 2022 2995 2008 2035 6867 2717 2006 5448 1010 2009 2003 2053 2625 2995 2008 1996 3997 1997 5448 1999 2169 3265 1010 1998 2049 6742 3747 2006 2010 6204 1010 12530 2172 2006 1996 2193 2029 2002 6814 2015 2000 2031 21474 1996 2168 5448 1012 1996 3114 1997 2158 1010 2066 2158 2370 1010 2003 5199 3593 1998 17145 2043 2187 2894 1010 1998 9878 2015 3813 2791 1998 7023 1999 10817 2000 1996 2193 2007 2029 2009 2003 3378 1012 102\n",
      "[NeMo I 2021-06-09 13:53:24 text_classification_dataset:180] input_mask: 1 1 1 1 1 1 1 1 1 1 1 1 1 1 1 1 1 1 1 1 1 1 1 1 1 1 1 1 1 1 1 1 1 1 1 1 1 1 1 1 1 1 1 1 1 1 1 1 1 1 1 1 1 1 1 1 1 1 1 1 1 1 1 1 1 1 1 1 1 1 1 1 1 1 1 1 1 1 1 1 1 1 1 1 1 1 1 1 1 1 1 1 1 1 1 1 1 1 1 1 1 1 1 1 1 1 1 1 1 1 1 1 1 1 1 1 1 1 1 1 1 1 1 1 1 1 1 1\n",
      "[NeMo I 2021-06-09 13:53:24 text_classification_dataset:175] *** Example ***\n",
      "[NeMo I 2021-06-09 13:53:24 text_classification_dataset:176] example_index: 3\n",
      "[NeMo I 2021-06-09 13:53:24 text_classification_dataset:177] subtokens: [CLS] a nature to be un ##ne ##ces ##sari ##ly multiplied . we are to rec ##oll ##ect that all the existing constitution ##s were formed in the midst of a danger which rep ##ressed the passions most un ##fr ##ien ##dly to order and concord ; of an enthusiastic confidence of the people in their patriotic leaders , which stifled the ordinary diversity of opinions on great national questions ; of a universal ar ##dor for new and opposite forms , produced by a universal resentment and ind ##ign ##ation against the ancient government ; and whilst no spirit of party connected with the changes to be made , or the abuses to be reformed , could ming ##le its leave ##n in the operation . [SEP]\n",
      "[NeMo I 2021-06-09 13:53:24 text_classification_dataset:178] sent_label: 0\n",
      "[NeMo I 2021-06-09 13:53:24 text_classification_dataset:179] input_ids: 101 1037 3267 2000 2022 4895 2638 9623 22740 2135 28608 1012 2057 2024 2000 28667 14511 22471 2008 2035 1996 4493 4552 2015 2020 2719 1999 1996 12930 1997 1037 5473 2029 16360 16119 1996 25289 2087 4895 19699 9013 18718 2000 2344 1998 16557 1025 1997 2019 14727 7023 1997 1996 2111 1999 2037 14314 4177 1010 2029 27146 1996 6623 8906 1997 10740 2006 2307 2120 3980 1025 1997 1037 5415 12098 7983 2005 2047 1998 4500 3596 1010 2550 2011 1037 5415 20234 1998 27427 23773 3370 2114 1996 3418 2231 1025 1998 5819 2053 4382 1997 2283 4198 2007 1996 3431 2000 2022 2081 1010 2030 1996 21078 2000 2022 9114 1010 2071 11861 2571 2049 2681 2078 1999 1996 3169 1012 102\n",
      "[NeMo I 2021-06-09 13:53:24 text_classification_dataset:180] input_mask: 1 1 1 1 1 1 1 1 1 1 1 1 1 1 1 1 1 1 1 1 1 1 1 1 1 1 1 1 1 1 1 1 1 1 1 1 1 1 1 1 1 1 1 1 1 1 1 1 1 1 1 1 1 1 1 1 1 1 1 1 1 1 1 1 1 1 1 1 1 1 1 1 1 1 1 1 1 1 1 1 1 1 1 1 1 1 1 1 1 1 1 1 1 1 1 1 1 1 1 1 1 1 1 1 1 1 1 1 1 1 1 1 1 1 1 1 1 1 1 1 1 1 1 1 1 1 1 1\n",
      "[NeMo I 2021-06-09 13:53:24 text_classification_dataset:175] *** Example ***\n",
      "[NeMo I 2021-06-09 13:53:24 text_classification_dataset:176] example_index: 4\n",
      "[NeMo I 2021-06-09 13:53:24 text_classification_dataset:177] subtokens: [CLS] personally known to a small part only of the people . the latter , by the mode of their appointment , as well as by the nature and per ##man ##ency of it , are too far removed from the people to share much in their prep ##oss ##ess ##ions . the former are generally the objects of jealousy , and their administration is always liable to be disco ##lore ##d and rendered unpopular . the members of the legislative department , on the other hand , are number ##ous . they are distributed and dwell among the people at large . their connections of blood , of friendship , and of acquaintance embrace a great proportion of the most influential part of the society . [SEP]\n",
      "[NeMo I 2021-06-09 13:53:24 text_classification_dataset:178] sent_label: 0\n",
      "[NeMo I 2021-06-09 13:53:24 text_classification_dataset:179] input_ids: 101 7714 2124 2000 1037 2235 2112 2069 1997 1996 2111 1012 1996 3732 1010 2011 1996 5549 1997 2037 6098 1010 2004 2092 2004 2011 1996 3267 1998 2566 2386 11916 1997 2009 1010 2024 2205 2521 3718 2013 1996 2111 2000 3745 2172 1999 2037 17463 15094 7971 8496 1012 1996 2280 2024 3227 1996 5200 1997 14225 1010 1998 2037 3447 2003 2467 20090 2000 2022 12532 20186 2094 1998 10155 19657 1012 1996 2372 1997 1996 4884 2533 1010 2006 1996 2060 2192 1010 2024 2193 3560 1012 2027 2024 5500 1998 23120 2426 1996 2111 2012 2312 1012 2037 7264 1997 2668 1010 1997 6860 1010 1998 1997 18363 9979 1037 2307 10817 1997 1996 2087 6383 2112 1997 1996 2554 1012 102\n",
      "[NeMo I 2021-06-09 13:53:24 text_classification_dataset:180] input_mask: 1 1 1 1 1 1 1 1 1 1 1 1 1 1 1 1 1 1 1 1 1 1 1 1 1 1 1 1 1 1 1 1 1 1 1 1 1 1 1 1 1 1 1 1 1 1 1 1 1 1 1 1 1 1 1 1 1 1 1 1 1 1 1 1 1 1 1 1 1 1 1 1 1 1 1 1 1 1 1 1 1 1 1 1 1 1 1 1 1 1 1 1 1 1 1 1 1 1 1 1 1 1 1 1 1 1 1 1 1 1 1 1 1 1 1 1 1 1 1 1 1 1 1 1 1 1 1 1\n",
      "[NeMo I 2021-06-09 13:53:24 actions:695] Evaluating batch 0 out of 7\n",
      "[NeMo I 2021-06-09 13:53:24 actions:695] Evaluating batch 1 out of 7\n",
      "[NeMo I 2021-06-09 13:53:24 actions:695] Evaluating batch 2 out of 7\n",
      "[NeMo I 2021-06-09 13:53:25 actions:695] Evaluating batch 3 out of 7\n",
      "[NeMo I 2021-06-09 13:53:25 actions:695] Evaluating batch 4 out of 7\n",
      "[NeMo I 2021-06-09 13:53:25 actions:695] Evaluating batch 5 out of 7\n",
      "[NeMo I 2021-06-09 13:53:25 actions:695] Evaluating batch 6 out of 7\n",
      "[NeMo I 2021-06-09 13:53:25 text_classification_dataset:82] /dli/task/data/federalist_papers_HM/labeled_test50.tsv: 4\n",
      "[NeMo I 2021-06-09 13:53:25 data_preprocessing:250] Min: 276 |                  Max: 307 |                  Mean: 293.0 |                  Median: 294.5\n",
      "[NeMo I 2021-06-09 13:53:25 data_preprocessing:252] 75 percentile: 302.5\n",
      "[NeMo I 2021-06-09 13:53:25 data_preprocessing:253] 99 percentile: 306.82\n",
      "[NeMo I 2021-06-09 13:53:25 text_classification_dataset:118] 4 out of 4                         sentences with more than 128 subtokens.\n",
      "[NeMo I 2021-06-09 13:53:25 text_classification_dataset:175] *** Example ***\n",
      "[NeMo I 2021-06-09 13:53:25 text_classification_dataset:176] example_index: 0\n",
      "[NeMo I 2021-06-09 13:53:25 text_classification_dataset:177] subtokens: [CLS] recent date , and will be connected with all the circumstances which tend to vi ##tia ##te and per ##vert the result of occasional revisions . if the periods be distant from each other , the same remark will be applicable to all recent measures ; and in proportion as the remote ##ness of the others may favor a di ##sp ##ass ##ion ##ate review of them , this advantage is ins ##ep ##arable from inc ##on ##ven ##ience ##s which seem to counter ##balance it . in the first place , a distant prospect of public ce ##ns ##ure would be a very fee ##ble restraint on power from those excess ##es to which it might be urged by the force of present motives . [SEP]\n",
      "[NeMo I 2021-06-09 13:53:25 text_classification_dataset:178] sent_label: 0\n",
      "[NeMo I 2021-06-09 13:53:25 text_classification_dataset:179] input_ids: 101 3522 3058 1010 1998 2097 2022 4198 2007 2035 1996 6214 2029 7166 2000 6819 10711 2618 1998 2566 16874 1996 2765 1997 8138 24699 1012 2065 1996 6993 2022 6802 2013 2169 2060 1010 1996 2168 17674 2097 2022 12711 2000 2035 3522 5761 1025 1998 1999 10817 2004 1996 6556 2791 1997 1996 2500 2089 5684 1037 4487 13102 12054 3258 3686 3319 1997 2068 1010 2023 5056 2003 16021 13699 25236 2013 4297 2239 8159 13684 2015 2029 4025 2000 4675 26657 2009 1012 1999 1996 2034 2173 1010 1037 6802 9824 1997 2270 8292 3619 5397 2052 2022 1037 2200 7408 3468 19355 2006 2373 2013 2216 9987 2229 2000 2029 2009 2453 2022 9720 2011 1996 2486 1997 2556 17108 1012 102\n",
      "[NeMo I 2021-06-09 13:53:25 text_classification_dataset:180] input_mask: 1 1 1 1 1 1 1 1 1 1 1 1 1 1 1 1 1 1 1 1 1 1 1 1 1 1 1 1 1 1 1 1 1 1 1 1 1 1 1 1 1 1 1 1 1 1 1 1 1 1 1 1 1 1 1 1 1 1 1 1 1 1 1 1 1 1 1 1 1 1 1 1 1 1 1 1 1 1 1 1 1 1 1 1 1 1 1 1 1 1 1 1 1 1 1 1 1 1 1 1 1 1 1 1 1 1 1 1 1 1 1 1 1 1 1 1 1 1 1 1 1 1 1 1 1 1 1 1\n",
      "[NeMo I 2021-06-09 13:53:25 text_classification_dataset:175] *** Example ***\n",
      "[NeMo I 2021-06-09 13:53:25 text_classification_dataset:176] example_index: 1\n",
      "[NeMo I 2021-06-09 13:53:25 text_classification_dataset:177] subtokens: [CLS] it , as well as for other purposes , has been actually tried in one of the states . one of the objects of the council of ce ##nsor ##s which met in pennsylvania in 1783 and 1784 , was , as we have seen , to in ##qui ##re , ` ` whether the constitution had been violated , and whether the legislative and executive departments had en ##cr ##oa ##ched upon each other . ` ` this important and novel experiment in politics merits , in several points of view , very particular attention . in some of them it may , perhaps , as a single experiment , made under circumstances somewhat peculiar , be thought to be not absolutely con ##clusive . [SEP]\n",
      "[NeMo I 2021-06-09 13:53:25 text_classification_dataset:178] sent_label: 0\n",
      "[NeMo I 2021-06-09 13:53:25 text_classification_dataset:179] input_ids: 101 2009 1010 2004 2092 2004 2005 2060 5682 1010 2038 2042 2941 2699 1999 2028 1997 1996 2163 1012 2028 1997 1996 5200 1997 1996 2473 1997 8292 29577 2015 2029 2777 1999 3552 1999 15331 1998 16496 1010 2001 1010 2004 2057 2031 2464 1010 2000 1999 15549 2890 1010 1036 1036 3251 1996 4552 2018 2042 14424 1010 1998 3251 1996 4884 1998 3237 7640 2018 4372 26775 10441 7690 2588 2169 2060 1012 1036 1036 2023 2590 1998 3117 7551 1999 4331 22617 1010 1999 2195 2685 1997 3193 1010 2200 3327 3086 1012 1999 2070 1997 2068 2009 2089 1010 3383 1010 2004 1037 2309 7551 1010 2081 2104 6214 5399 14099 1010 2022 2245 2000 2022 2025 7078 9530 23633 1012 102\n",
      "[NeMo I 2021-06-09 13:53:25 text_classification_dataset:180] input_mask: 1 1 1 1 1 1 1 1 1 1 1 1 1 1 1 1 1 1 1 1 1 1 1 1 1 1 1 1 1 1 1 1 1 1 1 1 1 1 1 1 1 1 1 1 1 1 1 1 1 1 1 1 1 1 1 1 1 1 1 1 1 1 1 1 1 1 1 1 1 1 1 1 1 1 1 1 1 1 1 1 1 1 1 1 1 1 1 1 1 1 1 1 1 1 1 1 1 1 1 1 1 1 1 1 1 1 1 1 1 1 1 1 1 1 1 1 1 1 1 1 1 1 1 1 1 1 1 1\n",
      "[NeMo I 2021-06-09 13:53:25 text_classification_dataset:175] *** Example ***\n",
      "[NeMo I 2021-06-09 13:53:25 text_classification_dataset:176] example_index: 2\n",
      "[NeMo I 2021-06-09 13:53:25 text_classification_dataset:177] subtokens: [CLS] . one of them had been speaker , and a number of others distinguished members , of the legislative assembly within the same period . third ##ly . every page of their proceedings witnesses the effect of all these circumstances on the temper of their del ##ibe ##rations . throughout the con ##tin ##uance of the council , it was split into two fixed and violent parties . the fact is acknowledged and lame ##nted by themselves . had this not been the case , the face of their proceedings exhibits a proof equally satisfactory . in all questions , however un ##im ##port ##ant in themselves , or un ##connected with each other , the same names stand invariably contrasted on the opposite columns . [SEP]\n",
      "[NeMo I 2021-06-09 13:53:25 text_classification_dataset:178] sent_label: 0\n",
      "[NeMo I 2021-06-09 13:53:25 text_classification_dataset:179] input_ids: 101 1012 2028 1997 2068 2018 2042 5882 1010 1998 1037 2193 1997 2500 5182 2372 1010 1997 1996 4884 3320 2306 1996 2168 2558 1012 2353 2135 1012 2296 3931 1997 2037 8931 9390 1996 3466 1997 2035 2122 6214 2006 1996 12178 1997 2037 3972 20755 28893 1012 2802 1996 9530 7629 26620 1997 1996 2473 1010 2009 2001 3975 2046 2048 4964 1998 6355 4243 1012 1996 2755 2003 8969 1998 20342 14706 2011 3209 1012 2018 2023 2025 2042 1996 2553 1010 1996 2227 1997 2037 8931 10637 1037 6947 8053 23045 1012 1999 2035 3980 1010 2174 4895 5714 6442 4630 1999 3209 1010 2030 4895 24230 2007 2169 2060 1010 1996 2168 3415 3233 26597 22085 2006 1996 4500 7753 1012 102\n",
      "[NeMo I 2021-06-09 13:53:25 text_classification_dataset:180] input_mask: 1 1 1 1 1 1 1 1 1 1 1 1 1 1 1 1 1 1 1 1 1 1 1 1 1 1 1 1 1 1 1 1 1 1 1 1 1 1 1 1 1 1 1 1 1 1 1 1 1 1 1 1 1 1 1 1 1 1 1 1 1 1 1 1 1 1 1 1 1 1 1 1 1 1 1 1 1 1 1 1 1 1 1 1 1 1 1 1 1 1 1 1 1 1 1 1 1 1 1 1 1 1 1 1 1 1 1 1 1 1 1 1 1 1 1 1 1 1 1 1 1 1 1 1 1 1 1 1\n",
      "[NeMo I 2021-06-09 13:53:25 text_classification_dataset:175] *** Example ***\n",
      "[NeMo I 2021-06-09 13:53:25 text_classification_dataset:176] example_index: 3\n",
      "[NeMo I 2021-06-09 13:53:25 text_classification_dataset:177] subtokens: [CLS] formed , have had any effect in varying the practice founded on legislative constructions . it even appears , if i mistake not , that in one instance the contemporary legislature denied the constructions of the council , and actually prevailed in the contest . this ce ##nsor ##ial body , therefore , proves at the same time , by its researches , the existence of the disease , and by its example , the in ##ef ##fi ##ca ##cy of the remedy . this conclusion can not be invalid ##ated by alleging that the state in which the experiment was made was at that crisis , and had been for a long time before , violently heated and distracted by the rage of party . [SEP]\n",
      "[NeMo I 2021-06-09 13:53:25 text_classification_dataset:178] sent_label: 0\n",
      "[NeMo I 2021-06-09 13:53:25 text_classification_dataset:179] input_ids: 101 2719 1010 2031 2018 2151 3466 1999 9671 1996 3218 2631 2006 4884 21913 1012 2009 2130 3544 1010 2065 1045 6707 2025 1010 2008 1999 2028 6013 1996 3824 6372 6380 1996 21913 1997 1996 2473 1010 1998 2941 19914 1999 1996 5049 1012 2023 8292 29577 4818 2303 1010 3568 1010 16481 2012 1996 2168 2051 1010 2011 2049 27338 1010 1996 4598 1997 1996 4295 1010 1998 2011 2049 2742 1010 1996 1999 12879 8873 3540 5666 1997 1996 19519 1012 2023 7091 2064 2025 2022 19528 4383 2011 23294 2008 1996 2110 1999 2029 1996 7551 2001 2081 2001 2012 2008 5325 1010 1998 2018 2042 2005 1037 2146 2051 2077 1010 14196 9685 1998 11116 2011 1996 7385 1997 2283 1012 102\n",
      "[NeMo I 2021-06-09 13:53:25 text_classification_dataset:180] input_mask: 1 1 1 1 1 1 1 1 1 1 1 1 1 1 1 1 1 1 1 1 1 1 1 1 1 1 1 1 1 1 1 1 1 1 1 1 1 1 1 1 1 1 1 1 1 1 1 1 1 1 1 1 1 1 1 1 1 1 1 1 1 1 1 1 1 1 1 1 1 1 1 1 1 1 1 1 1 1 1 1 1 1 1 1 1 1 1 1 1 1 1 1 1 1 1 1 1 1 1 1 1 1 1 1 1 1 1 1 1 1 1 1 1 1 1 1 1 1 1 1 1 1 1 1 1 1 1 1\n",
      "[NeMo I 2021-06-09 13:53:25 actions:695] Evaluating batch 0 out of 4\n",
      "[NeMo I 2021-06-09 13:53:25 actions:695] Evaluating batch 1 out of 4\n",
      "[NeMo I 2021-06-09 13:53:25 actions:695] Evaluating batch 2 out of 4\n",
      "[NeMo I 2021-06-09 13:53:25 actions:695] Evaluating batch 3 out of 4\n",
      "[NeMo I 2021-06-09 13:53:25 text_classification_dataset:82] /dli/task/data/federalist_papers_HM/labeled_test51.tsv: 8\n",
      "[NeMo I 2021-06-09 13:53:26 data_preprocessing:250] Min: 256 |                  Max: 320 |                  Mean: 284.875 |                  Median: 281.0\n",
      "[NeMo I 2021-06-09 13:53:26 data_preprocessing:252] 75 percentile: 290.5\n",
      "[NeMo I 2021-06-09 13:53:26 data_preprocessing:253] 99 percentile: 318.67\n",
      "[NeMo I 2021-06-09 13:53:26 text_classification_dataset:118] 8 out of 8                         sentences with more than 128 subtokens.\n",
      "[NeMo I 2021-06-09 13:53:26 text_classification_dataset:175] *** Example ***\n",
      "[NeMo I 2021-06-09 13:53:26 text_classification_dataset:176] example_index: 0\n",
      "[NeMo I 2021-06-09 13:53:26 text_classification_dataset:177] subtokens: [CLS] of this important idea , i will hazard a few general observations , which may perhaps place it in a clearer light , and enable us to form a more correct judgment of the principles and structure of the government planned by the convention . in order to lay a due foundation for that separate and distinct exercise of the different powers of government , which to a certain extent is admitted on all hands to be essential to the preservation of liberty , it is evident that each department should have a will of its own ; and consequently should be so constituted that the members of each should have as little agency as possible in the appointment of the members of the others . [SEP]\n",
      "[NeMo I 2021-06-09 13:53:26 text_classification_dataset:178] sent_label: 0\n",
      "[NeMo I 2021-06-09 13:53:26 text_classification_dataset:179] input_ids: 101 1997 2023 2590 2801 1010 1045 2097 15559 1037 2261 2236 9420 1010 2029 2089 3383 2173 2009 1999 1037 24509 2422 1010 1998 9585 2149 2000 2433 1037 2062 6149 8689 1997 1996 6481 1998 3252 1997 1996 2231 3740 2011 1996 4680 1012 1999 2344 2000 3913 1037 2349 3192 2005 2008 3584 1998 5664 6912 1997 1996 2367 4204 1997 2231 1010 2029 2000 1037 3056 6698 2003 4914 2006 2035 2398 2000 2022 6827 2000 1996 8347 1997 7044 1010 2009 2003 10358 2008 2169 2533 2323 2031 1037 2097 1997 2049 2219 1025 1998 8821 2323 2022 2061 11846 2008 1996 2372 1997 2169 2323 2031 2004 2210 4034 2004 2825 1999 1996 6098 1997 1996 2372 1997 1996 2500 1012 102\n",
      "[NeMo I 2021-06-09 13:53:26 text_classification_dataset:180] input_mask: 1 1 1 1 1 1 1 1 1 1 1 1 1 1 1 1 1 1 1 1 1 1 1 1 1 1 1 1 1 1 1 1 1 1 1 1 1 1 1 1 1 1 1 1 1 1 1 1 1 1 1 1 1 1 1 1 1 1 1 1 1 1 1 1 1 1 1 1 1 1 1 1 1 1 1 1 1 1 1 1 1 1 1 1 1 1 1 1 1 1 1 1 1 1 1 1 1 1 1 1 1 1 1 1 1 1 1 1 1 1 1 1 1 1 1 1 1 1 1 1 1 1 1 1 1 1 1 1\n",
      "[NeMo I 2021-06-09 13:53:26 text_classification_dataset:175] *** Example ***\n",
      "[NeMo I 2021-06-09 13:53:26 text_classification_dataset:176] example_index: 1\n",
      "[NeMo I 2021-06-09 13:53:26 text_classification_dataset:177] subtokens: [CLS] in that department , must soon destroy all sense of dependence on the authority con ##fer ##ring them . it is equally evident , that the members of each department should be as little dependent as possible on those of the others , for the em ##ol ##umen ##ts annexed to their offices . were the executive magistrate , or the judges , not independent of the legislature in this particular , their independence in every other would be merely nominal . but the great security against a gradual concentration of the several powers in the same department , consists in giving to those who administer each department the necessary constitutional means and personal motives to resist en ##cr ##oa ##chment ##s of the others . [SEP]\n",
      "[NeMo I 2021-06-09 13:53:26 text_classification_dataset:178] sent_label: 0\n",
      "[NeMo I 2021-06-09 13:53:26 text_classification_dataset:179] input_ids: 101 1999 2008 2533 1010 2442 2574 6033 2035 3168 1997 18642 2006 1996 3691 9530 7512 4892 2068 1012 2009 2003 8053 10358 1010 2008 1996 2372 1997 2169 2533 2323 2022 2004 2210 7790 2004 2825 2006 2216 1997 1996 2500 1010 2005 1996 7861 4747 27417 3215 13291 2000 2037 4822 1012 2020 1996 3237 14351 1010 2030 1996 6794 1010 2025 2981 1997 1996 6372 1999 2023 3327 1010 2037 4336 1999 2296 2060 2052 2022 6414 15087 1012 2021 1996 2307 3036 2114 1037 16612 6693 1997 1996 2195 4204 1999 1996 2168 2533 1010 3774 1999 3228 2000 2216 2040 21497 2169 2533 1996 4072 6543 2965 1998 3167 17108 2000 9507 4372 26775 10441 22729 2015 1997 1996 2500 1012 102\n",
      "[NeMo I 2021-06-09 13:53:26 text_classification_dataset:180] input_mask: 1 1 1 1 1 1 1 1 1 1 1 1 1 1 1 1 1 1 1 1 1 1 1 1 1 1 1 1 1 1 1 1 1 1 1 1 1 1 1 1 1 1 1 1 1 1 1 1 1 1 1 1 1 1 1 1 1 1 1 1 1 1 1 1 1 1 1 1 1 1 1 1 1 1 1 1 1 1 1 1 1 1 1 1 1 1 1 1 1 1 1 1 1 1 1 1 1 1 1 1 1 1 1 1 1 1 1 1 1 1 1 1 1 1 1 1 1 1 1 1 1 1 1 1 1 1 1 1\n",
      "[NeMo I 2021-06-09 13:53:26 text_classification_dataset:175] *** Example ***\n",
      "[NeMo I 2021-06-09 13:53:26 text_classification_dataset:176] example_index: 2\n",
      "[NeMo I 2021-06-09 13:53:26 text_classification_dataset:177] subtokens: [CLS] place ob ##li ##ge it to control itself . a dependence on the people is , no doubt , the primary control on the government ; but experience has taught mankind the necessity of auxiliary precautions . this policy of supplying , by opposite and rival interests , the defect of better motives , might be traced through the whole system of human affairs , private as well as public . we see it particularly displayed in all the subordinate distributions of power , where the constant aim is to divide and arrange the several offices in such a manner as that each may be a check on the other that the private interest of every individual may be a sentinel over the public rights . [SEP]\n",
      "[NeMo I 2021-06-09 13:53:26 text_classification_dataset:178] sent_label: 0\n",
      "[NeMo I 2021-06-09 13:53:26 text_classification_dataset:179] input_ids: 101 2173 27885 3669 3351 2009 2000 2491 2993 1012 1037 18642 2006 1996 2111 2003 1010 2053 4797 1010 1996 3078 2491 2006 1996 2231 1025 2021 3325 2038 4036 14938 1996 13185 1997 9830 29361 1012 2023 3343 1997 17731 1010 2011 4500 1998 6538 5426 1010 1996 21262 1997 2488 17108 1010 2453 2022 9551 2083 1996 2878 2291 1997 2529 3821 1010 2797 2004 2092 2004 2270 1012 2057 2156 2009 3391 6913 1999 2035 1996 15144 20611 1997 2373 1010 2073 1996 5377 6614 2003 2000 11443 1998 13621 1996 2195 4822 1999 2107 1037 5450 2004 2008 2169 2089 2022 1037 4638 2006 1996 2060 2008 1996 2797 3037 1997 2296 3265 2089 2022 1037 16074 2058 1996 2270 2916 1012 102\n",
      "[NeMo I 2021-06-09 13:53:26 text_classification_dataset:180] input_mask: 1 1 1 1 1 1 1 1 1 1 1 1 1 1 1 1 1 1 1 1 1 1 1 1 1 1 1 1 1 1 1 1 1 1 1 1 1 1 1 1 1 1 1 1 1 1 1 1 1 1 1 1 1 1 1 1 1 1 1 1 1 1 1 1 1 1 1 1 1 1 1 1 1 1 1 1 1 1 1 1 1 1 1 1 1 1 1 1 1 1 1 1 1 1 1 1 1 1 1 1 1 1 1 1 1 1 1 1 1 1 1 1 1 1 1 1 1 1 1 1 1 1 1 1 1 1 1 1\n",
      "[NeMo I 2021-06-09 13:53:26 text_classification_dataset:175] *** Example ***\n",
      "[NeMo I 2021-06-09 13:53:26 text_classification_dataset:176] example_index: 3\n",
      "[NeMo I 2021-06-09 13:53:26 text_classification_dataset:177] subtokens: [CLS] be fortified . an absolute negative on the legislature appears , at first view , to be the natural defense with which the executive magistrate should be armed . but perhaps it would be neither altogether safe nor alone sufficient . on ordinary occasions it might not be ex ##erted with the re ##quisite firm ##ness , and on extraordinary occasions it might be per ##fi ##dio ##usly abused . may not this defect of an absolute negative be supplied by some qualified connection between this weaker department and the weaker branch of the stronger department , by which the latter may be led to support the constitutional rights of the former , without being too much detached from the rights of its own department ? [SEP]\n",
      "[NeMo I 2021-06-09 13:53:26 text_classification_dataset:178] sent_label: 0\n",
      "[NeMo I 2021-06-09 13:53:26 text_classification_dataset:179] input_ids: 101 2022 13313 1012 2019 7619 4997 2006 1996 6372 3544 1010 2012 2034 3193 1010 2000 2022 1996 3019 3639 2007 2029 1996 3237 14351 2323 2022 4273 1012 2021 3383 2009 2052 2022 4445 10462 3647 4496 2894 7182 1012 2006 6623 6642 2009 2453 2025 2022 4654 28728 2007 1996 2128 24871 3813 2791 1010 1998 2006 9313 6642 2009 2453 2022 2566 8873 20617 27191 16999 1012 2089 2025 2023 21262 1997 2019 7619 4997 2022 8127 2011 2070 4591 4434 2090 2023 15863 2533 1998 1996 15863 3589 1997 1996 6428 2533 1010 2011 2029 1996 3732 2089 2022 2419 2000 2490 1996 6543 2916 1997 1996 2280 1010 2302 2108 2205 2172 12230 2013 1996 2916 1997 2049 2219 2533 1029 102\n",
      "[NeMo I 2021-06-09 13:53:26 text_classification_dataset:180] input_mask: 1 1 1 1 1 1 1 1 1 1 1 1 1 1 1 1 1 1 1 1 1 1 1 1 1 1 1 1 1 1 1 1 1 1 1 1 1 1 1 1 1 1 1 1 1 1 1 1 1 1 1 1 1 1 1 1 1 1 1 1 1 1 1 1 1 1 1 1 1 1 1 1 1 1 1 1 1 1 1 1 1 1 1 1 1 1 1 1 1 1 1 1 1 1 1 1 1 1 1 1 1 1 1 1 1 1 1 1 1 1 1 1 1 1 1 1 1 1 1 1 1 1 1 1 1 1 1 1\n",
      "[NeMo I 2021-06-09 13:53:26 text_classification_dataset:175] *** Example ***\n",
      "[NeMo I 2021-06-09 13:53:26 text_classification_dataset:176] example_index: 4\n",
      "[NeMo I 2021-06-09 13:53:26 text_classification_dataset:177] subtokens: [CLS] division of the government into distinct and separate departments . in the compound republic of america , the power surrendered by the people is first divided between two distinct governments , and then the portion allotted to each subdivided among distinct and separate departments . hence a double security arises to the rights of the people . the different governments will control each other , at the same time that each will be controlled by itself . second . it is of great importance in a republic not only to guard the society against the oppression of its rulers , but to guard one part of the society against the injustice of the other part . different interests necessarily exist in different classes of citizens . [SEP]\n",
      "[NeMo I 2021-06-09 13:53:26 text_classification_dataset:178] sent_label: 0\n",
      "[NeMo I 2021-06-09 13:53:26 text_classification_dataset:179] input_ids: 101 2407 1997 1996 2231 2046 5664 1998 3584 7640 1012 1999 1996 7328 3072 1997 2637 1010 1996 2373 10795 2011 1996 2111 2003 2034 4055 2090 2048 5664 6867 1010 1998 2059 1996 4664 23932 2000 2169 15369 2426 5664 1998 3584 7640 1012 6516 1037 3313 3036 18653 2000 1996 2916 1997 1996 2111 1012 1996 2367 6867 2097 2491 2169 2060 1010 2012 1996 2168 2051 2008 2169 2097 2022 4758 2011 2993 1012 2117 1012 2009 2003 1997 2307 5197 1999 1037 3072 2025 2069 2000 3457 1996 2554 2114 1996 20489 1997 2049 11117 1010 2021 2000 3457 2028 2112 1997 1996 2554 2114 1996 21321 1997 1996 2060 2112 1012 2367 5426 9352 4839 1999 2367 4280 1997 4480 1012 102\n",
      "[NeMo I 2021-06-09 13:53:26 text_classification_dataset:180] input_mask: 1 1 1 1 1 1 1 1 1 1 1 1 1 1 1 1 1 1 1 1 1 1 1 1 1 1 1 1 1 1 1 1 1 1 1 1 1 1 1 1 1 1 1 1 1 1 1 1 1 1 1 1 1 1 1 1 1 1 1 1 1 1 1 1 1 1 1 1 1 1 1 1 1 1 1 1 1 1 1 1 1 1 1 1 1 1 1 1 1 1 1 1 1 1 1 1 1 1 1 1 1 1 1 1 1 1 1 1 1 1 1 1 1 1 1 1 1 1 1 1 1 1 1 1 1 1 1 1\n",
      "[NeMo I 2021-06-09 13:53:26 actions:695] Evaluating batch 0 out of 8\n",
      "[NeMo I 2021-06-09 13:53:26 actions:695] Evaluating batch 1 out of 8\n",
      "[NeMo I 2021-06-09 13:53:26 actions:695] Evaluating batch 2 out of 8\n",
      "[NeMo I 2021-06-09 13:53:26 actions:695] Evaluating batch 3 out of 8\n",
      "[NeMo I 2021-06-09 13:53:26 actions:695] Evaluating batch 4 out of 8\n",
      "[NeMo I 2021-06-09 13:53:26 actions:695] Evaluating batch 5 out of 8\n",
      "[NeMo I 2021-06-09 13:53:26 actions:695] Evaluating batch 6 out of 8\n",
      "[NeMo I 2021-06-09 13:53:26 actions:695] Evaluating batch 7 out of 8\n",
      "[NeMo I 2021-06-09 13:53:26 text_classification_dataset:82] /dli/task/data/federalist_papers_HM/labeled_test52.tsv: 7\n",
      "[NeMo I 2021-06-09 13:53:26 data_preprocessing:250] Min: 267 |                  Max: 299 |                  Mean: 282.42857142857144 |                  Median: 284.0\n",
      "[NeMo I 2021-06-09 13:53:26 data_preprocessing:252] 75 percentile: 288.0\n",
      "[NeMo I 2021-06-09 13:53:26 data_preprocessing:253] 99 percentile: 298.46\n",
      "[NeMo I 2021-06-09 13:53:26 text_classification_dataset:118] 7 out of 7                         sentences with more than 128 subtokens.\n",
      "[NeMo I 2021-06-09 13:53:26 text_classification_dataset:175] *** Example ***\n",
      "[NeMo I 2021-06-09 13:53:26 text_classification_dataset:176] example_index: 0\n",
      "[NeMo I 2021-06-09 13:53:26 text_classification_dataset:177] subtokens: [CLS] , to define and establish this right in the constitution . to have left it open for the occasional regulation of the congress , would have been improper for the reason just mentioned . to have submitted it to the legislative discretion of the states , would have been improper for the same reason ; and for the additional reason that it would have rendered too dependent on the state governments that branch of the federal government which ought to be dependent on the people alone . to have reduced the different qualifications in the different states to one uniform rule , would probably have been as di ##ssa ##tis ##factory to some of the states as it would have been difficult to the convention . [SEP]\n",
      "[NeMo I 2021-06-09 13:53:26 text_classification_dataset:178] sent_label: 0\n",
      "[NeMo I 2021-06-09 13:53:26 text_classification_dataset:179] input_ids: 101 1010 2000 9375 1998 5323 2023 2157 1999 1996 4552 1012 2000 2031 2187 2009 2330 2005 1996 8138 7816 1997 1996 3519 1010 2052 2031 2042 24156 2005 1996 3114 2074 3855 1012 2000 2031 7864 2009 2000 1996 4884 19258 1997 1996 2163 1010 2052 2031 2042 24156 2005 1996 2168 3114 1025 1998 2005 1996 3176 3114 2008 2009 2052 2031 10155 2205 7790 2006 1996 2110 6867 2008 3589 1997 1996 2976 2231 2029 11276 2000 2022 7790 2006 1996 2111 2894 1012 2000 2031 4359 1996 2367 15644 1999 1996 2367 2163 2000 2028 6375 3627 1010 2052 2763 2031 2042 2004 4487 11488 7315 21450 2000 2070 1997 1996 2163 2004 2009 2052 2031 2042 3697 2000 1996 4680 1012 102\n",
      "[NeMo I 2021-06-09 13:53:26 text_classification_dataset:180] input_mask: 1 1 1 1 1 1 1 1 1 1 1 1 1 1 1 1 1 1 1 1 1 1 1 1 1 1 1 1 1 1 1 1 1 1 1 1 1 1 1 1 1 1 1 1 1 1 1 1 1 1 1 1 1 1 1 1 1 1 1 1 1 1 1 1 1 1 1 1 1 1 1 1 1 1 1 1 1 1 1 1 1 1 1 1 1 1 1 1 1 1 1 1 1 1 1 1 1 1 1 1 1 1 1 1 1 1 1 1 1 1 1 1 1 1 1 1 1 1 1 1 1 1 1 1 1 1 1 1\n",
      "[NeMo I 2021-06-09 13:53:26 text_classification_dataset:175] *** Example ***\n",
      "[NeMo I 2021-06-09 13:53:26 text_classification_dataset:176] example_index: 1\n",
      "[NeMo I 2021-06-09 13:53:26 text_classification_dataset:177] subtokens: [CLS] properly considered and regulated by the convention . a representative of the united states must be of the age of twenty - five years ; must have been seven years a citizen of the united states ; must , at the time of his election , be an inhabit ##ant of the state he is to represent ; and , during the time of his service , must be in no office under the united states . under these reasonable limitations , the door of this part of the federal government is open to merit of every description , whether native or adoptive , whether young or old , and without regard to poverty or wealth , or to any particular profession of religious faith . [SEP]\n",
      "[NeMo I 2021-06-09 13:53:26 text_classification_dataset:178] sent_label: 0\n",
      "[NeMo I 2021-06-09 13:53:26 text_classification_dataset:179] input_ids: 101 7919 2641 1998 12222 2011 1996 4680 1012 1037 4387 1997 1996 2142 2163 2442 2022 1997 1996 2287 1997 3174 1011 2274 2086 1025 2442 2031 2042 2698 2086 1037 6926 1997 1996 2142 2163 1025 2442 1010 2012 1996 2051 1997 2010 2602 1010 2022 2019 21490 4630 1997 1996 2110 2002 2003 2000 5050 1025 1998 1010 2076 1996 2051 1997 2010 2326 1010 2442 2022 1999 2053 2436 2104 1996 2142 2163 1012 2104 2122 9608 12546 1010 1996 2341 1997 2023 2112 1997 1996 2976 2231 2003 2330 2000 7857 1997 2296 6412 1010 3251 3128 2030 24787 1010 3251 2402 2030 2214 1010 1998 2302 7634 2000 5635 2030 7177 1010 2030 2000 2151 3327 9518 1997 3412 4752 1012 102\n",
      "[NeMo I 2021-06-09 13:53:26 text_classification_dataset:180] input_mask: 1 1 1 1 1 1 1 1 1 1 1 1 1 1 1 1 1 1 1 1 1 1 1 1 1 1 1 1 1 1 1 1 1 1 1 1 1 1 1 1 1 1 1 1 1 1 1 1 1 1 1 1 1 1 1 1 1 1 1 1 1 1 1 1 1 1 1 1 1 1 1 1 1 1 1 1 1 1 1 1 1 1 1 1 1 1 1 1 1 1 1 1 1 1 1 1 1 1 1 1 1 1 1 1 1 1 1 1 1 1 1 1 1 1 1 1 1 1 1 1 1 1 1 1 1 1 1 1\n",
      "[NeMo I 2021-06-09 13:53:26 text_classification_dataset:175] *** Example ***\n",
      "[NeMo I 2021-06-09 13:53:26 text_classification_dataset:176] example_index: 2\n",
      "[NeMo I 2021-06-09 13:53:26 text_classification_dataset:177] subtokens: [CLS] must depend on a variety of circumstances with which it may be connected . let us consult experience , the guide that ought always to be followed whenever it can be found . the scheme of representation , as a substitute for a meeting of the citizens in person , being at most but very imperfect ##ly known to ancient pol ##ity , it is in more modern times only that we are to expect ins ##truct ##ive examples . and even here , in order to avoid a research too vague and di ##ff ##us ##ive , it will be proper to con ##fine ourselves to the few examples which are best known , and which bear the greatest analogy to our particular case . [SEP]\n",
      "[NeMo I 2021-06-09 13:53:26 text_classification_dataset:178] sent_label: 0\n",
      "[NeMo I 2021-06-09 13:53:26 text_classification_dataset:179] input_ids: 101 2442 12530 2006 1037 3528 1997 6214 2007 2029 2009 2089 2022 4198 1012 2292 2149 23363 3325 1010 1996 5009 2008 11276 2467 2000 2022 2628 7188 2009 2064 2022 2179 1012 1996 5679 1997 6630 1010 2004 1037 7681 2005 1037 3116 1997 1996 4480 1999 2711 1010 2108 2012 2087 2021 2200 29238 2135 2124 2000 3418 14955 3012 1010 2009 2003 1999 2062 2715 2335 2069 2008 2057 2024 2000 5987 16021 18300 3512 4973 1012 1998 2130 2182 1010 1999 2344 2000 4468 1037 2470 2205 13727 1998 4487 4246 2271 3512 1010 2009 2097 2022 5372 2000 9530 23460 9731 2000 1996 2261 4973 2029 2024 2190 2124 1010 1998 2029 4562 1996 4602 23323 2000 2256 3327 2553 1012 102\n",
      "[NeMo I 2021-06-09 13:53:26 text_classification_dataset:180] input_mask: 1 1 1 1 1 1 1 1 1 1 1 1 1 1 1 1 1 1 1 1 1 1 1 1 1 1 1 1 1 1 1 1 1 1 1 1 1 1 1 1 1 1 1 1 1 1 1 1 1 1 1 1 1 1 1 1 1 1 1 1 1 1 1 1 1 1 1 1 1 1 1 1 1 1 1 1 1 1 1 1 1 1 1 1 1 1 1 1 1 1 1 1 1 1 1 1 1 1 1 1 1 1 1 1 1 1 1 1 1 1 1 1 1 1 1 1 1 1 1 1 1 1 1 1 1 1 1 1\n",
      "[NeMo I 2021-06-09 13:53:26 text_classification_dataset:175] *** Example ***\n",
      "[NeMo I 2021-06-09 13:53:26 text_classification_dataset:176] example_index: 3\n",
      "[NeMo I 2021-06-09 13:53:26 text_classification_dataset:177] subtokens: [CLS] pro ##tracted beyond a period of three years . on the accession of william iii . , when a revolution took place in the government , the subject was still more seriously resumed , and it was declared to be among the fundamental rights of the people that parliament ##s ought to be held frequently . by another statute , which passed a few years later in the same reign , the term ` ` frequently , ` ` which had all ##uded to the tri ##ennial period settled in the time of charles ii . , is reduced to a precise meaning , it being express ##ly enacted that a new parliament shall be called within three years after the termination of the former . [SEP]\n",
      "[NeMo I 2021-06-09 13:53:26 text_classification_dataset:178] sent_label: 0\n",
      "[NeMo I 2021-06-09 13:53:26 text_classification_dataset:179] input_ids: 101 4013 24301 3458 1037 2558 1997 2093 2086 1012 2006 1996 16993 1997 2520 3523 1012 1010 2043 1037 4329 2165 2173 1999 1996 2231 1010 1996 3395 2001 2145 2062 5667 7943 1010 1998 2009 2001 4161 2000 2022 2426 1996 8050 2916 1997 1996 2111 2008 3323 2015 11276 2000 2022 2218 4703 1012 2011 2178 11671 1010 2029 2979 1037 2261 2086 2101 1999 1996 2168 5853 1010 1996 2744 1036 1036 4703 1010 1036 1036 2029 2018 2035 13936 2000 1996 13012 22929 2558 3876 1999 1996 2051 1997 2798 2462 1012 1010 2003 4359 2000 1037 10480 3574 1010 2009 2108 4671 2135 11955 2008 1037 2047 3323 4618 2022 2170 2306 2093 2086 2044 1996 18287 1997 1996 2280 1012 102\n",
      "[NeMo I 2021-06-09 13:53:26 text_classification_dataset:180] input_mask: 1 1 1 1 1 1 1 1 1 1 1 1 1 1 1 1 1 1 1 1 1 1 1 1 1 1 1 1 1 1 1 1 1 1 1 1 1 1 1 1 1 1 1 1 1 1 1 1 1 1 1 1 1 1 1 1 1 1 1 1 1 1 1 1 1 1 1 1 1 1 1 1 1 1 1 1 1 1 1 1 1 1 1 1 1 1 1 1 1 1 1 1 1 1 1 1 1 1 1 1 1 1 1 1 1 1 1 1 1 1 1 1 1 1 1 1 1 1 1 1 1 1 1 1 1 1 1 1\n",
      "[NeMo I 2021-06-09 13:53:26 text_classification_dataset:175] *** Example ***\n",
      "[NeMo I 2021-06-09 13:53:26 text_classification_dataset:176] example_index: 4\n",
      "[NeMo I 2021-06-09 13:53:26 text_classification_dataset:177] subtokens: [CLS] , can not possibly be dangerous to the re ##quisite dependence of the house of representatives on their constituents . elections in ireland , till of late , were regulated entirely by the discretion of the crown , and were seldom repeated , except on the accession of a new prince , or some other contingent event . the parliament which commenced with george ii . was continued throughout his whole reign , a period of about thirty - five years . the only dependence of the representatives on the people consisted in the right of the latter to supply occasional va ##can ##cies by the election of new members , and in the chance of some event which might produce a general new election . [SEP]\n",
      "[NeMo I 2021-06-09 13:53:26 text_classification_dataset:178] sent_label: 0\n",
      "[NeMo I 2021-06-09 13:53:26 text_classification_dataset:179] input_ids: 101 1010 2064 2025 4298 2022 4795 2000 1996 2128 24871 18642 1997 1996 2160 1997 4505 2006 2037 24355 1012 3864 1999 3163 1010 6229 1997 2397 1010 2020 12222 4498 2011 1996 19258 1997 1996 4410 1010 1998 2020 15839 5567 1010 3272 2006 1996 16993 1997 1037 2047 3159 1010 2030 2070 2060 15445 2724 1012 1996 3323 2029 8420 2007 2577 2462 1012 2001 2506 2802 2010 2878 5853 1010 1037 2558 1997 2055 4228 1011 2274 2086 1012 1996 2069 18642 1997 1996 4505 2006 1996 2111 5031 1999 1996 2157 1997 1996 3732 2000 4425 8138 12436 9336 9243 2011 1996 2602 1997 2047 2372 1010 1998 1999 1996 3382 1997 2070 2724 2029 2453 3965 1037 2236 2047 2602 1012 102\n",
      "[NeMo I 2021-06-09 13:53:26 text_classification_dataset:180] input_mask: 1 1 1 1 1 1 1 1 1 1 1 1 1 1 1 1 1 1 1 1 1 1 1 1 1 1 1 1 1 1 1 1 1 1 1 1 1 1 1 1 1 1 1 1 1 1 1 1 1 1 1 1 1 1 1 1 1 1 1 1 1 1 1 1 1 1 1 1 1 1 1 1 1 1 1 1 1 1 1 1 1 1 1 1 1 1 1 1 1 1 1 1 1 1 1 1 1 1 1 1 1 1 1 1 1 1 1 1 1 1 1 1 1 1 1 1 1 1 1 1 1 1 1 1 1 1 1 1\n",
      "[NeMo I 2021-06-09 13:53:27 actions:695] Evaluating batch 0 out of 7\n",
      "[NeMo I 2021-06-09 13:53:27 actions:695] Evaluating batch 1 out of 7\n",
      "[NeMo I 2021-06-09 13:53:27 actions:695] Evaluating batch 2 out of 7\n",
      "[NeMo I 2021-06-09 13:53:27 actions:695] Evaluating batch 3 out of 7\n",
      "[NeMo I 2021-06-09 13:53:27 actions:695] Evaluating batch 4 out of 7\n",
      "[NeMo I 2021-06-09 13:53:27 actions:695] Evaluating batch 5 out of 7\n",
      "[NeMo I 2021-06-09 13:53:27 actions:695] Evaluating batch 6 out of 7\n",
      "[NeMo I 2021-06-09 13:53:27 text_classification_dataset:82] /dli/task/data/federalist_papers_HM/labeled_test53.tsv: 9\n",
      "[NeMo I 2021-06-09 13:53:27 data_preprocessing:250] Min: 262 |                  Max: 314 |                  Mean: 285.22222222222223 |                  Median: 287.0\n",
      "[NeMo I 2021-06-09 13:53:27 data_preprocessing:252] 75 percentile: 299.0\n",
      "[NeMo I 2021-06-09 13:53:27 data_preprocessing:253] 99 percentile: 313.36\n",
      "[NeMo I 2021-06-09 13:53:27 text_classification_dataset:118] 9 out of 9                         sentences with more than 128 subtokens.\n",
      "[NeMo I 2021-06-09 13:53:27 text_classification_dataset:175] *** Example ***\n",
      "[NeMo I 2021-06-09 13:53:27 text_classification_dataset:176] example_index: 0\n",
      "[NeMo I 2021-06-09 13:53:27 text_classification_dataset:177] subtokens: [CLS] the sun or the seasons , and the period within which human virtue can bear the temptation ##s of power . happily for mankind , liberty is not , in this respect , confined to any single point of time ; but lies within extremes , which afford sufficient latitude for all the variations which may be required by the various situations and circumstances of civil society . the election of magistrates might be , if it were found ex ##ped ##ient , as in some instances it actually has been , daily , weekly , or monthly , as well as annual ; and if circumstances may require a deviation from the rule on one side , why not also on the other side ? [SEP]\n",
      "[NeMo I 2021-06-09 13:53:27 text_classification_dataset:178] sent_label: 0\n",
      "[NeMo I 2021-06-09 13:53:27 text_classification_dataset:179] input_ids: 101 1996 3103 2030 1996 3692 1010 1998 1996 2558 2306 2029 2529 11870 2064 4562 1996 17232 2015 1997 2373 1012 11361 2005 14938 1010 7044 2003 2025 1010 1999 2023 4847 1010 12302 2000 2151 2309 2391 1997 2051 1025 2021 3658 2306 28800 1010 2029 8984 7182 15250 2005 2035 1996 8358 2029 2089 2022 3223 2011 1996 2536 8146 1998 6214 1997 2942 2554 1012 1996 2602 1997 23007 2453 2022 1010 2065 2009 2020 2179 4654 5669 11638 1010 2004 1999 2070 12107 2009 2941 2038 2042 1010 3679 1010 4882 1010 2030 7058 1010 2004 2092 2004 3296 1025 1998 2065 6214 2089 5478 1037 24353 2013 1996 3627 2006 2028 2217 1010 2339 2025 2036 2006 1996 2060 2217 1029 102\n",
      "[NeMo I 2021-06-09 13:53:27 text_classification_dataset:180] input_mask: 1 1 1 1 1 1 1 1 1 1 1 1 1 1 1 1 1 1 1 1 1 1 1 1 1 1 1 1 1 1 1 1 1 1 1 1 1 1 1 1 1 1 1 1 1 1 1 1 1 1 1 1 1 1 1 1 1 1 1 1 1 1 1 1 1 1 1 1 1 1 1 1 1 1 1 1 1 1 1 1 1 1 1 1 1 1 1 1 1 1 1 1 1 1 1 1 1 1 1 1 1 1 1 1 1 1 1 1 1 1 1 1 1 1 1 1 1 1 1 1 1 1 1 1 1 1 1 1\n",
      "[NeMo I 2021-06-09 13:53:27 text_classification_dataset:175] *** Example ***\n",
      "[NeMo I 2021-06-09 13:53:27 text_classification_dataset:176] example_index: 1\n",
      "[NeMo I 2021-06-09 13:53:27 text_classification_dataset:177] subtokens: [CLS] is distinguished in these respects , and by these causes , from the states whose elections are different from both . in searching for the grounds of this doctrine , i can discover but one , and that is wholly ina ##pp ##lica ##ble to our case . the important distinction so well understood in america , between a constitution established by the people and una ##lter ##able by the government , and a law established by the government and alter ##able by the government , seems to have been little understood and less observed in any other country . wherever the supreme power of legislation has resided , has been supposed to reside also a full power to change the form of the government . [SEP]\n",
      "[NeMo I 2021-06-09 13:53:27 text_classification_dataset:178] sent_label: 0\n",
      "[NeMo I 2021-06-09 13:53:27 text_classification_dataset:179] input_ids: 101 2003 5182 1999 2122 17475 1010 1998 2011 2122 5320 1010 2013 1996 2163 3005 3864 2024 2367 2013 2119 1012 1999 6575 2005 1996 5286 1997 2023 8998 1010 1045 2064 7523 2021 2028 1010 1998 2008 2003 12590 27118 9397 19341 3468 2000 2256 2553 1012 1996 2590 7835 2061 2092 5319 1999 2637 1010 2090 1037 4552 2511 2011 1996 2111 1998 14477 21928 3085 2011 1996 2231 1010 1998 1037 2375 2511 2011 1996 2231 1998 11477 3085 2011 1996 2231 1010 3849 2000 2031 2042 2210 5319 1998 2625 5159 1999 2151 2060 2406 1012 11210 1996 4259 2373 1997 6094 2038 12427 1010 2038 2042 4011 2000 13960 2036 1037 2440 2373 2000 2689 1996 2433 1997 1996 2231 1012 102\n",
      "[NeMo I 2021-06-09 13:53:27 text_classification_dataset:180] input_mask: 1 1 1 1 1 1 1 1 1 1 1 1 1 1 1 1 1 1 1 1 1 1 1 1 1 1 1 1 1 1 1 1 1 1 1 1 1 1 1 1 1 1 1 1 1 1 1 1 1 1 1 1 1 1 1 1 1 1 1 1 1 1 1 1 1 1 1 1 1 1 1 1 1 1 1 1 1 1 1 1 1 1 1 1 1 1 1 1 1 1 1 1 1 1 1 1 1 1 1 1 1 1 1 1 1 1 1 1 1 1 1 1 1 1 1 1 1 1 1 1 1 1 1 1 1 1 1 1\n",
      "[NeMo I 2021-06-09 13:53:27 text_classification_dataset:175] *** Example ***\n",
      "[NeMo I 2021-06-09 13:53:27 text_classification_dataset:176] example_index: 2\n",
      "[NeMo I 2021-06-09 13:53:27 text_classification_dataset:177] subtokens: [CLS] which frequency of elections is the corner - stone ; and has led them to seek for some security to liberty , against the danger to which it is exposed . where no constitution , paramount to the government , either existed or could be obtained , no constitutional security , similar to that established in the united states , was to be attempted . some other security , therefore , was to be sought for ; and what better security would the case admit , than that of selecting and appealing to some simple and familiar portion of time , as a standard for measuring the danger of innovations , for fixing the national sentiment , and for uniting the patriotic ex ##ert ##ions ? [SEP]\n",
      "[NeMo I 2021-06-09 13:53:27 text_classification_dataset:178] sent_label: 0\n",
      "[NeMo I 2021-06-09 13:53:27 text_classification_dataset:179] input_ids: 101 2029 6075 1997 3864 2003 1996 3420 1011 2962 1025 1998 2038 2419 2068 2000 6148 2005 2070 3036 2000 7044 1010 2114 1996 5473 2000 2029 2009 2003 6086 1012 2073 2053 4552 1010 11734 2000 1996 2231 1010 2593 5839 2030 2071 2022 4663 1010 2053 6543 3036 1010 2714 2000 2008 2511 1999 1996 2142 2163 1010 2001 2000 2022 4692 1012 2070 2060 3036 1010 3568 1010 2001 2000 2022 4912 2005 1025 1998 2054 2488 3036 2052 1996 2553 6449 1010 2084 2008 1997 17739 1998 16004 2000 2070 3722 1998 5220 4664 1997 2051 1010 2004 1037 3115 2005 9854 1996 5473 1997 15463 1010 2005 15887 1996 2120 15792 1010 1998 2005 26112 1996 14314 4654 8743 8496 1029 102\n",
      "[NeMo I 2021-06-09 13:53:27 text_classification_dataset:180] input_mask: 1 1 1 1 1 1 1 1 1 1 1 1 1 1 1 1 1 1 1 1 1 1 1 1 1 1 1 1 1 1 1 1 1 1 1 1 1 1 1 1 1 1 1 1 1 1 1 1 1 1 1 1 1 1 1 1 1 1 1 1 1 1 1 1 1 1 1 1 1 1 1 1 1 1 1 1 1 1 1 1 1 1 1 1 1 1 1 1 1 1 1 1 1 1 1 1 1 1 1 1 1 1 1 1 1 1 1 1 1 1 1 1 1 1 1 1 1 1 1 1 1 1 1 1 1 1 1 1\n",
      "[NeMo I 2021-06-09 13:53:27 text_classification_dataset:175] *** Example ***\n",
      "[NeMo I 2021-06-09 13:53:27 text_classification_dataset:176] example_index: 3\n",
      "[NeMo I 2021-06-09 13:53:27 text_classification_dataset:177] subtokens: [CLS] than those of any other nation would be , where elections were annual , or even more frequent , but subject to alterations by the ordinary power of the government ? the second question stated is , whether biennial elections be necessary or useful . the prop ##riety of answering this question in the affirmative will appear from several very obvious considerations . no man can be a competent legislator who does not add to an upright intention and a sound judgment a certain degree of knowledge of the subjects on which he is to leg ##is ##late . a part of this knowledge may be acquired by means of information which lie within the compass of men in private as well as public stations . [SEP]\n",
      "[NeMo I 2021-06-09 13:53:27 text_classification_dataset:178] sent_label: 0\n",
      "[NeMo I 2021-06-09 13:53:27 text_classification_dataset:179] input_ids: 101 2084 2216 1997 2151 2060 3842 2052 2022 1010 2073 3864 2020 3296 1010 2030 2130 2062 6976 1010 2021 3395 2000 16705 2011 1996 6623 2373 1997 1996 2231 1029 1996 2117 3160 3090 2003 1010 3251 20313 3864 2022 4072 2030 6179 1012 1996 17678 27840 1997 10739 2023 3160 1999 1996 27352 2097 3711 2013 2195 2200 5793 16852 1012 2053 2158 2064 2022 1037 17824 22964 2040 2515 2025 5587 2000 2019 10051 6808 1998 1037 2614 8689 1037 3056 3014 1997 3716 1997 1996 5739 2006 2029 2002 2003 2000 4190 2483 13806 1012 1037 2112 1997 2023 3716 2089 2022 3734 2011 2965 1997 2592 2029 4682 2306 1996 16681 1997 2273 1999 2797 2004 2092 2004 2270 3703 1012 102\n",
      "[NeMo I 2021-06-09 13:53:27 text_classification_dataset:180] input_mask: 1 1 1 1 1 1 1 1 1 1 1 1 1 1 1 1 1 1 1 1 1 1 1 1 1 1 1 1 1 1 1 1 1 1 1 1 1 1 1 1 1 1 1 1 1 1 1 1 1 1 1 1 1 1 1 1 1 1 1 1 1 1 1 1 1 1 1 1 1 1 1 1 1 1 1 1 1 1 1 1 1 1 1 1 1 1 1 1 1 1 1 1 1 1 1 1 1 1 1 1 1 1 1 1 1 1 1 1 1 1 1 1 1 1 1 1 1 1 1 1 1 1 1 1 1 1 1 1\n",
      "[NeMo I 2021-06-09 13:53:27 text_classification_dataset:175] *** Example ***\n",
      "[NeMo I 2021-06-09 13:53:27 text_classification_dataset:176] example_index: 4\n",
      "[NeMo I 2021-06-09 13:53:27 text_classification_dataset:177] subtokens: [CLS] to the general affairs of the state , which lie within a small compass , are not very diversified , and occupy much of the attention and conversation of every class of people . the great theatre of the united states presents a very different scene . the laws are so far from being uniform , that they vary in every state ; whilst the public affairs of the union are spread throughout a very extensive region , and are extremely diversified by t e local affairs connected with them , and can with difficulty be correctly learnt in any other place than in the central councils to which a knowledge of them will be brought by the representatives of every part of the empire . [SEP]\n",
      "[NeMo I 2021-06-09 13:53:27 text_classification_dataset:178] sent_label: 0\n",
      "[NeMo I 2021-06-09 13:53:27 text_classification_dataset:179] input_ids: 101 2000 1996 2236 3821 1997 1996 2110 1010 2029 4682 2306 1037 2235 16681 1010 2024 2025 2200 24908 1010 1998 11494 2172 1997 1996 3086 1998 4512 1997 2296 2465 1997 2111 1012 1996 2307 3004 1997 1996 2142 2163 7534 1037 2200 2367 3496 1012 1996 4277 2024 2061 2521 2013 2108 6375 1010 2008 2027 8137 1999 2296 2110 1025 5819 1996 2270 3821 1997 1996 2586 2024 3659 2802 1037 2200 4866 2555 1010 1998 2024 5186 24908 2011 1056 1041 2334 3821 4198 2007 2068 1010 1998 2064 2007 7669 2022 11178 20215 1999 2151 2060 2173 2084 1999 1996 2430 10784 2000 2029 1037 3716 1997 2068 2097 2022 2716 2011 1996 4505 1997 2296 2112 1997 1996 3400 1012 102\n",
      "[NeMo I 2021-06-09 13:53:27 text_classification_dataset:180] input_mask: 1 1 1 1 1 1 1 1 1 1 1 1 1 1 1 1 1 1 1 1 1 1 1 1 1 1 1 1 1 1 1 1 1 1 1 1 1 1 1 1 1 1 1 1 1 1 1 1 1 1 1 1 1 1 1 1 1 1 1 1 1 1 1 1 1 1 1 1 1 1 1 1 1 1 1 1 1 1 1 1 1 1 1 1 1 1 1 1 1 1 1 1 1 1 1 1 1 1 1 1 1 1 1 1 1 1 1 1 1 1 1 1 1 1 1 1 1 1 1 1 1 1 1 1 1 1 1 1\n",
      "[NeMo I 2021-06-09 13:53:27 actions:695] Evaluating batch 0 out of 9\n",
      "[NeMo I 2021-06-09 13:53:28 actions:695] Evaluating batch 1 out of 9\n",
      "[NeMo I 2021-06-09 13:53:28 actions:695] Evaluating batch 2 out of 9\n",
      "[NeMo I 2021-06-09 13:53:28 actions:695] Evaluating batch 3 out of 9\n",
      "[NeMo I 2021-06-09 13:53:28 actions:695] Evaluating batch 4 out of 9\n",
      "[NeMo I 2021-06-09 13:53:28 actions:695] Evaluating batch 5 out of 9\n",
      "[NeMo I 2021-06-09 13:53:28 actions:695] Evaluating batch 6 out of 9\n",
      "[NeMo I 2021-06-09 13:53:28 actions:695] Evaluating batch 7 out of 9\n",
      "[NeMo I 2021-06-09 13:53:28 actions:695] Evaluating batch 8 out of 9\n",
      "[NeMo I 2021-06-09 13:53:28 text_classification_dataset:82] /dli/task/data/federalist_papers_HM/labeled_test54.tsv: 8\n",
      "[NeMo I 2021-06-09 13:53:28 data_preprocessing:250] Min: 261 |                  Max: 328 |                  Mean: 275.5 |                  Median: 266.0\n",
      "[NeMo I 2021-06-09 13:53:28 data_preprocessing:252] 75 percentile: 276.75\n",
      "[NeMo I 2021-06-09 13:53:28 data_preprocessing:253] 99 percentile: 324.57\n",
      "[NeMo I 2021-06-09 13:53:28 text_classification_dataset:118] 8 out of 8                         sentences with more than 128 subtokens.\n",
      "[NeMo I 2021-06-09 13:53:28 text_classification_dataset:175] *** Example ***\n",
      "[NeMo I 2021-06-09 13:53:28 text_classification_dataset:176] example_index: 0\n",
      "[NeMo I 2021-06-09 13:53:28 text_classification_dataset:177] subtokens: [CLS] means founded on the same principle . in the former case , the rule is understood to refer to the personal rights of the people , with which it has a natural and universal connection . in the latter , it has reference to the proportion of wealth , of which it is in no case a precise measure , and in ordinary cases a very unfit one . but notwithstanding the imperfect ##ion of the rule as applied to the relative wealth and contributions of the states , it is evidently the least objection ##able among the pr ##actic ##able rules , and had too recently obtained the general san ##ction of america , not to have found a ready preference with the convention . [SEP]\n",
      "[NeMo I 2021-06-09 13:53:28 text_classification_dataset:178] sent_label: 0\n",
      "[NeMo I 2021-06-09 13:53:28 text_classification_dataset:179] input_ids: 101 2965 2631 2006 1996 2168 6958 1012 1999 1996 2280 2553 1010 1996 3627 2003 5319 2000 6523 2000 1996 3167 2916 1997 1996 2111 1010 2007 2029 2009 2038 1037 3019 1998 5415 4434 1012 1999 1996 3732 1010 2009 2038 4431 2000 1996 10817 1997 7177 1010 1997 2029 2009 2003 1999 2053 2553 1037 10480 5468 1010 1998 1999 6623 3572 1037 2200 29439 2028 1012 2021 26206 1996 29238 3258 1997 1996 3627 2004 4162 2000 1996 5816 7177 1998 5857 1997 1996 2163 1010 2009 2003 15329 1996 2560 22224 3085 2426 1996 10975 28804 3085 3513 1010 1998 2018 2205 3728 4663 1996 2236 2624 7542 1997 2637 1010 2025 2000 2031 2179 1037 3201 12157 2007 1996 4680 1012 102\n",
      "[NeMo I 2021-06-09 13:53:28 text_classification_dataset:180] input_mask: 1 1 1 1 1 1 1 1 1 1 1 1 1 1 1 1 1 1 1 1 1 1 1 1 1 1 1 1 1 1 1 1 1 1 1 1 1 1 1 1 1 1 1 1 1 1 1 1 1 1 1 1 1 1 1 1 1 1 1 1 1 1 1 1 1 1 1 1 1 1 1 1 1 1 1 1 1 1 1 1 1 1 1 1 1 1 1 1 1 1 1 1 1 1 1 1 1 1 1 1 1 1 1 1 1 1 1 1 1 1 1 1 1 1 1 1 1 1 1 1 1 1 1 1 1 1 1 1\n",
      "[NeMo I 2021-06-09 13:53:28 text_classification_dataset:175] *** Example ***\n",
      "[NeMo I 2021-06-09 13:53:28 text_classification_dataset:176] example_index: 1\n",
      "[NeMo I 2021-06-09 13:53:28 text_classification_dataset:177] subtokens: [CLS] respect whatever as persons . the true state of the case is , that they part ##ake of both these qualities : being considered by our laws , in some respects , as persons , and in other respects as property . in being compelled to labor , not for himself , but for a master ; in being ve ##ndi ##ble by one master to another master ; and in being subject at all times to be restrained in his liberty and cha ##stis ##ed in his body , by the cap ##ric ##ious will of another , the slave may appear to be degraded from the human rank , and classed with those irrational animals which fall under the legal denomination of property . [SEP]\n",
      "[NeMo I 2021-06-09 13:53:28 text_classification_dataset:178] sent_label: 0\n",
      "[NeMo I 2021-06-09 13:53:28 text_classification_dataset:179] input_ids: 101 4847 3649 2004 5381 1012 1996 2995 2110 1997 1996 2553 2003 1010 2008 2027 2112 13808 1997 2119 2122 11647 1024 2108 2641 2011 2256 4277 1010 1999 2070 17475 1010 2004 5381 1010 1998 1999 2060 17475 2004 3200 1012 1999 2108 15055 2000 4450 1010 2025 2005 2370 1010 2021 2005 1037 3040 1025 1999 2108 2310 16089 3468 2011 2028 3040 2000 2178 3040 1025 1998 1999 2108 3395 2012 2035 2335 2000 2022 19868 1999 2010 7044 1998 15775 29472 2098 1999 2010 2303 1010 2011 1996 6178 7277 6313 2097 1997 2178 1010 1996 6658 2089 3711 2000 2022 26131 2013 1996 2529 4635 1010 1998 27811 2007 2216 23179 4176 2029 2991 2104 1996 3423 18683 1997 3200 1012 102\n",
      "[NeMo I 2021-06-09 13:53:28 text_classification_dataset:180] input_mask: 1 1 1 1 1 1 1 1 1 1 1 1 1 1 1 1 1 1 1 1 1 1 1 1 1 1 1 1 1 1 1 1 1 1 1 1 1 1 1 1 1 1 1 1 1 1 1 1 1 1 1 1 1 1 1 1 1 1 1 1 1 1 1 1 1 1 1 1 1 1 1 1 1 1 1 1 1 1 1 1 1 1 1 1 1 1 1 1 1 1 1 1 1 1 1 1 1 1 1 1 1 1 1 1 1 1 1 1 1 1 1 1 1 1 1 1 1 1 1 1 1 1 1 1 1 1 1 1\n",
      "[NeMo I 2021-06-09 13:53:28 text_classification_dataset:175] *** Example ***\n",
      "[NeMo I 2021-06-09 13:53:28 text_classification_dataset:176] example_index: 2\n",
      "[NeMo I 2021-06-09 13:53:28 text_classification_dataset:177] subtokens: [CLS] live ; and it will not be denied , that these are the proper criterion ; because it is only under the pre ##text that the laws have transformed the negro ##es into subjects of property , that a place is disputed them in the computation of numbers ; and it is admitted , that if the laws were to restore the rights which have been taken away , the negro ##es could no longer be refused an equal share of representation with the other inhabitants . ` ` this question may be placed in another light . it is agreed on all sides , that numbers are the best scale of wealth and taxation , as they are the only proper scale of representation . [SEP]\n",
      "[NeMo I 2021-06-09 13:53:28 text_classification_dataset:178] sent_label: 0\n",
      "[NeMo I 2021-06-09 13:53:28 text_classification_dataset:179] input_ids: 101 2444 1025 1998 2009 2097 2025 2022 6380 1010 2008 2122 2024 1996 5372 19229 1025 2138 2009 2003 2069 2104 1996 3653 18209 2008 1996 4277 2031 8590 1996 12593 2229 2046 5739 1997 3200 1010 2008 1037 2173 2003 11621 2068 1999 1996 22334 1997 3616 1025 1998 2009 2003 4914 1010 2008 2065 1996 4277 2020 2000 9239 1996 2916 2029 2031 2042 2579 2185 1010 1996 12593 2229 2071 2053 2936 2022 4188 2019 5020 3745 1997 6630 2007 1996 2060 4864 1012 1036 1036 2023 3160 2089 2022 2872 1999 2178 2422 1012 2009 2003 3530 2006 2035 3903 1010 2008 3616 2024 1996 2190 4094 1997 7177 1998 14952 1010 2004 2027 2024 1996 2069 5372 4094 1997 6630 1012 102\n",
      "[NeMo I 2021-06-09 13:53:28 text_classification_dataset:180] input_mask: 1 1 1 1 1 1 1 1 1 1 1 1 1 1 1 1 1 1 1 1 1 1 1 1 1 1 1 1 1 1 1 1 1 1 1 1 1 1 1 1 1 1 1 1 1 1 1 1 1 1 1 1 1 1 1 1 1 1 1 1 1 1 1 1 1 1 1 1 1 1 1 1 1 1 1 1 1 1 1 1 1 1 1 1 1 1 1 1 1 1 1 1 1 1 1 1 1 1 1 1 1 1 1 1 1 1 1 1 1 1 1 1 1 1 1 1 1 1 1 1 1 1 1 1 1 1 1 1\n",
      "[NeMo I 2021-06-09 13:53:28 text_classification_dataset:175] *** Example ***\n",
      "[NeMo I 2021-06-09 13:53:28 text_classification_dataset:176] example_index: 3\n",
      "[NeMo I 2021-06-09 13:53:28 text_classification_dataset:177] subtokens: [CLS] should themselves contend , that the government to which all the states are to be parties , ought to consider this unfortunate race more completely in the unnatural light of property , than the very laws of which they complain ? ` ` it may be replied , perhaps , that slaves are not included in the estimate of representatives in any of the states possessing them . they neither vote themselves nor increase the votes of their masters . upon what principle , then , ought they to be taken into the federal estimate of representation ? in rejecting them altogether , the constitution would , in this respect , have followed the very laws which have been appealed to as the proper guide . [SEP]\n",
      "[NeMo I 2021-06-09 13:53:28 text_classification_dataset:178] sent_label: 0\n",
      "[NeMo I 2021-06-09 13:53:28 text_classification_dataset:179] input_ids: 101 2323 3209 27481 1010 2008 1996 2231 2000 2029 2035 1996 2163 2024 2000 2022 4243 1010 11276 2000 5136 2023 15140 2679 2062 3294 1999 1996 21242 2422 1997 3200 1010 2084 1996 2200 4277 1997 2029 2027 17612 1029 1036 1036 2009 2089 2022 3880 1010 3383 1010 2008 7179 2024 2025 2443 1999 1996 10197 1997 4505 1999 2151 1997 1996 2163 18840 2068 1012 2027 4445 3789 3209 4496 3623 1996 4494 1997 2037 5972 1012 2588 2054 6958 1010 2059 1010 11276 2027 2000 2022 2579 2046 1996 2976 10197 1997 6630 1029 1999 21936 2068 10462 1010 1996 4552 2052 1010 1999 2023 4847 1010 2031 2628 1996 2200 4277 2029 2031 2042 12068 2000 2004 1996 5372 5009 1012 102\n",
      "[NeMo I 2021-06-09 13:53:28 text_classification_dataset:180] input_mask: 1 1 1 1 1 1 1 1 1 1 1 1 1 1 1 1 1 1 1 1 1 1 1 1 1 1 1 1 1 1 1 1 1 1 1 1 1 1 1 1 1 1 1 1 1 1 1 1 1 1 1 1 1 1 1 1 1 1 1 1 1 1 1 1 1 1 1 1 1 1 1 1 1 1 1 1 1 1 1 1 1 1 1 1 1 1 1 1 1 1 1 1 1 1 1 1 1 1 1 1 1 1 1 1 1 1 1 1 1 1 1 1 1 1 1 1 1 1 1 1 1 1 1 1 1 1 1 1\n",
      "[NeMo I 2021-06-09 13:53:28 text_classification_dataset:175] *** Example ***\n",
      "[NeMo I 2021-06-09 13:53:28 text_classification_dataset:176] example_index: 4\n",
      "[NeMo I 2021-06-09 13:53:28 text_classification_dataset:177] subtokens: [CLS] the census by which the federal constitution app ##ort ##ions the representatives . in this point of view the southern states might re ##tort the complaint , by insisting that the principle laid down by the convention required that no regard should be had to the policy of particular states towards their own inhabitants ; and consequently , that the slaves , as inhabitants , should have been admitted into the census according to their full number , in like manner with other inhabitants , who , by the policy of other states , are not admitted to all the rights of citizens . a rigorous adherence , however , to this principle , is waived by those who would be gain ##ers by it . [SEP]\n",
      "[NeMo I 2021-06-09 13:53:28 text_classification_dataset:178] sent_label: 0\n",
      "[NeMo I 2021-06-09 13:53:28 text_classification_dataset:179] input_ids: 101 1996 2883 2011 2029 1996 2976 4552 10439 11589 8496 1996 4505 1012 1999 2023 2391 1997 3193 1996 2670 2163 2453 2128 25485 1996 12087 1010 2011 22604 2008 1996 6958 4201 2091 2011 1996 4680 3223 2008 2053 7634 2323 2022 2018 2000 1996 3343 1997 3327 2163 2875 2037 2219 4864 1025 1998 8821 1010 2008 1996 7179 1010 2004 4864 1010 2323 2031 2042 4914 2046 1996 2883 2429 2000 2037 2440 2193 1010 1999 2066 5450 2007 2060 4864 1010 2040 1010 2011 1996 3343 1997 2060 2163 1010 2024 2025 4914 2000 2035 1996 2916 1997 4480 1012 1037 20001 29235 1010 2174 1010 2000 2023 6958 1010 2003 16301 2011 2216 2040 2052 2022 5114 2545 2011 2009 1012 102\n",
      "[NeMo I 2021-06-09 13:53:28 text_classification_dataset:180] input_mask: 1 1 1 1 1 1 1 1 1 1 1 1 1 1 1 1 1 1 1 1 1 1 1 1 1 1 1 1 1 1 1 1 1 1 1 1 1 1 1 1 1 1 1 1 1 1 1 1 1 1 1 1 1 1 1 1 1 1 1 1 1 1 1 1 1 1 1 1 1 1 1 1 1 1 1 1 1 1 1 1 1 1 1 1 1 1 1 1 1 1 1 1 1 1 1 1 1 1 1 1 1 1 1 1 1 1 1 1 1 1 1 1 1 1 1 1 1 1 1 1 1 1 1 1 1 1 1 1\n",
      "[NeMo I 2021-06-09 13:53:28 actions:695] Evaluating batch 0 out of 8\n",
      "[NeMo I 2021-06-09 13:53:28 actions:695] Evaluating batch 1 out of 8\n",
      "[NeMo I 2021-06-09 13:53:28 actions:695] Evaluating batch 2 out of 8\n",
      "[NeMo I 2021-06-09 13:53:28 actions:695] Evaluating batch 3 out of 8\n",
      "[NeMo I 2021-06-09 13:53:29 actions:695] Evaluating batch 4 out of 8\n",
      "[NeMo I 2021-06-09 13:53:29 actions:695] Evaluating batch 5 out of 8\n",
      "[NeMo I 2021-06-09 13:53:29 actions:695] Evaluating batch 6 out of 8\n",
      "[NeMo I 2021-06-09 13:53:29 actions:695] Evaluating batch 7 out of 8\n",
      "[NeMo I 2021-06-09 13:53:29 text_classification_dataset:82] /dli/task/data/federalist_papers_HM/labeled_test55.tsv: 8\n",
      "[NeMo I 2021-06-09 13:53:29 data_preprocessing:250] Min: 273 |                  Max: 328 |                  Mean: 295.875 |                  Median: 289.0\n",
      "[NeMo I 2021-06-09 13:53:29 data_preprocessing:252] 75 percentile: 316.0\n",
      "[NeMo I 2021-06-09 13:53:29 data_preprocessing:253] 99 percentile: 327.37\n",
      "[NeMo I 2021-06-09 13:53:29 text_classification_dataset:118] 8 out of 8                         sentences with more than 128 subtokens.\n",
      "[NeMo I 2021-06-09 13:53:29 text_classification_dataset:175] *** Example ***\n",
      "[NeMo I 2021-06-09 13:53:29 text_classification_dataset:176] example_index: 0\n",
      "[NeMo I 2021-06-09 13:53:29 text_classification_dataset:177] subtokens: [CLS] ##ly , that defective as the number will be in the first instance , it will be more and more di ##sp ##rop ##ort ##ion ##ate , by the increase of the people , and the obstacles which will prevent a correspondent increase of the representatives . in general it may be remarked on this subject , that no political problem is less susceptible of a precise solution than that which relates to the number most convenient for a representative legislature ; nor is there any point on which the policy of the several states is more at variance , whether we compare their legislative assemblies directly with each other , or consider the proportions which they respectively bear to the number of their constituents . [SEP]\n",
      "[NeMo I 2021-06-09 13:53:29 text_classification_dataset:178] sent_label: 0\n",
      "[NeMo I 2021-06-09 13:53:29 text_classification_dataset:179] input_ids: 101 2135 1010 2008 28829 2004 1996 2193 2097 2022 1999 1996 2034 6013 1010 2009 2097 2022 2062 1998 2062 4487 13102 18981 11589 3258 3686 1010 2011 1996 3623 1997 1996 2111 1010 1998 1996 15314 2029 2097 4652 1037 11370 3623 1997 1996 4505 1012 1999 2236 2009 2089 2022 10783 2006 2023 3395 1010 2008 2053 2576 3291 2003 2625 18002 1997 1037 10480 5576 2084 2008 2029 14623 2000 1996 2193 2087 14057 2005 1037 4387 6372 1025 4496 2003 2045 2151 2391 2006 2029 1996 3343 1997 1996 2195 2163 2003 2062 2012 23284 1010 3251 2057 12826 2037 4884 17720 3495 2007 2169 2060 1010 2030 5136 1996 19173 2029 2027 4414 4562 2000 1996 2193 1997 2037 24355 1012 102\n",
      "[NeMo I 2021-06-09 13:53:29 text_classification_dataset:180] input_mask: 1 1 1 1 1 1 1 1 1 1 1 1 1 1 1 1 1 1 1 1 1 1 1 1 1 1 1 1 1 1 1 1 1 1 1 1 1 1 1 1 1 1 1 1 1 1 1 1 1 1 1 1 1 1 1 1 1 1 1 1 1 1 1 1 1 1 1 1 1 1 1 1 1 1 1 1 1 1 1 1 1 1 1 1 1 1 1 1 1 1 1 1 1 1 1 1 1 1 1 1 1 1 1 1 1 1 1 1 1 1 1 1 1 1 1 1 1 1 1 1 1 1 1 1 1 1 1 1\n",
      "[NeMo I 2021-06-09 13:53:29 text_classification_dataset:175] *** Example ***\n",
      "[NeMo I 2021-06-09 13:53:29 text_classification_dataset:176] example_index: 1\n",
      "[NeMo I 2021-06-09 13:53:29 text_classification_dataset:177] subtokens: [CLS] they bear a proportion of at least one for every thousand . and according to the constitution of georgia , the proportion may be carried to one to every ten electors ; and must una ##vo ##ida ##bly far exceed the proportion in any of the other states . another general remark to be made is , that the ratio between the representatives and the people ought not to be the same where the latter are very numerous as where they are very few . were the representatives in virginia to be regulated by the standard in rhode island , they would , at this time , amount to between four and five hundred ; and twenty or thirty years hence , to a thousand . [SEP]\n",
      "[NeMo I 2021-06-09 13:53:29 text_classification_dataset:178] sent_label: 0\n",
      "[NeMo I 2021-06-09 13:53:29 text_classification_dataset:179] input_ids: 101 2027 4562 1037 10817 1997 2012 2560 2028 2005 2296 4595 1012 1998 2429 2000 1996 4552 1997 4108 1010 1996 10817 2089 2022 3344 2000 2028 2000 2296 2702 19165 1025 1998 2442 14477 6767 8524 6321 2521 13467 1996 10817 1999 2151 1997 1996 2060 2163 1012 2178 2236 17674 2000 2022 2081 2003 1010 2008 1996 6463 2090 1996 4505 1998 1996 2111 11276 2025 2000 2022 1996 2168 2073 1996 3732 2024 2200 3365 2004 2073 2027 2024 2200 2261 1012 2020 1996 4505 1999 3448 2000 2022 12222 2011 1996 3115 1999 9763 2479 1010 2027 2052 1010 2012 2023 2051 1010 3815 2000 2090 2176 1998 2274 3634 1025 1998 3174 2030 4228 2086 6516 1010 2000 1037 4595 1012 102\n",
      "[NeMo I 2021-06-09 13:53:29 text_classification_dataset:180] input_mask: 1 1 1 1 1 1 1 1 1 1 1 1 1 1 1 1 1 1 1 1 1 1 1 1 1 1 1 1 1 1 1 1 1 1 1 1 1 1 1 1 1 1 1 1 1 1 1 1 1 1 1 1 1 1 1 1 1 1 1 1 1 1 1 1 1 1 1 1 1 1 1 1 1 1 1 1 1 1 1 1 1 1 1 1 1 1 1 1 1 1 1 1 1 1 1 1 1 1 1 1 1 1 1 1 1 1 1 1 1 1 1 1 1 1 1 1 1 1 1 1 1 1 1 1 1 1 1 1\n",
      "[NeMo I 2021-06-09 13:53:29 text_classification_dataset:175] *** Example ***\n",
      "[NeMo I 2021-06-09 13:53:29 text_classification_dataset:176] example_index: 2\n",
      "[NeMo I 2021-06-09 13:53:29 text_classification_dataset:177] subtokens: [CLS] very numerous assemblies , of whatever character composed , passion never fails to wr ##est the sc ##ept ##re from reason . had every athenian citizen been a socrates , every athenian assembly would still have been a mob . it is necessary also to rec ##oll ##ect here the observations which were applied to the case of biennial elections . for the same reason that the limited powers of the congress , and the control of the state legislatures , justify less frequent elections than the public safely might otherwise require , the members of the congress need be less numerous than if they possessed the whole power of legislation , and were under no other than the ordinary restraints of other legislative bodies . [SEP]\n",
      "[NeMo I 2021-06-09 13:53:29 text_classification_dataset:178] sent_label: 0\n",
      "[NeMo I 2021-06-09 13:53:29 text_classification_dataset:179] input_ids: 101 2200 3365 17720 1010 1997 3649 2839 3605 1010 6896 2196 11896 2000 23277 4355 1996 8040 23606 2890 2013 3114 1012 2018 2296 26956 6926 2042 1037 26772 1010 2296 26956 3320 2052 2145 2031 2042 1037 11240 1012 2009 2003 4072 2036 2000 28667 14511 22471 2182 1996 9420 2029 2020 4162 2000 1996 2553 1997 20313 3864 1012 2005 1996 2168 3114 2008 1996 3132 4204 1997 1996 3519 1010 1998 1996 2491 1997 1996 2110 27977 1010 16114 2625 6976 3864 2084 1996 2270 9689 2453 4728 5478 1010 1996 2372 1997 1996 3519 2342 2022 2625 3365 2084 2065 2027 8679 1996 2878 2373 1997 6094 1010 1998 2020 2104 2053 2060 2084 1996 6623 28054 1997 2060 4884 4230 1012 102\n",
      "[NeMo I 2021-06-09 13:53:29 text_classification_dataset:180] input_mask: 1 1 1 1 1 1 1 1 1 1 1 1 1 1 1 1 1 1 1 1 1 1 1 1 1 1 1 1 1 1 1 1 1 1 1 1 1 1 1 1 1 1 1 1 1 1 1 1 1 1 1 1 1 1 1 1 1 1 1 1 1 1 1 1 1 1 1 1 1 1 1 1 1 1 1 1 1 1 1 1 1 1 1 1 1 1 1 1 1 1 1 1 1 1 1 1 1 1 1 1 1 1 1 1 1 1 1 1 1 1 1 1 1 1 1 1 1 1 1 1 1 1 1 1 1 1 1 1\n",
      "[NeMo I 2021-06-09 13:53:29 text_classification_dataset:175] *** Example ***\n",
      "[NeMo I 2021-06-09 13:53:29 text_classification_dataset:176] example_index: 3\n",
      "[NeMo I 2021-06-09 13:53:29 text_classification_dataset:177] subtokens: [CLS] , at the rate of one for every thirty thousand , raise the number of representatives to at least one hundred . est ##imating the negro ##es in the proportion of three fifth ##s , it can scarcely be doubted that the population of the united states will by that time , if it does not already , amount to three millions . at the ex ##piration of twenty - five years , according to the computed rate of increase , the number of representatives will amount to two hundred , and of fifty years , to four hundred . this is a number which , i pre ##sume , will put an end to all fears arising from the small ##ness of the body . [SEP]\n",
      "[NeMo I 2021-06-09 13:53:29 text_classification_dataset:178] sent_label: 0\n",
      "[NeMo I 2021-06-09 13:53:29 text_classification_dataset:179] input_ids: 101 1010 2012 1996 3446 1997 2028 2005 2296 4228 4595 1010 5333 1996 2193 1997 4505 2000 2012 2560 2028 3634 1012 9765 22835 1996 12593 2229 1999 1996 10817 1997 2093 3587 2015 1010 2009 2064 20071 2022 12979 2008 1996 2313 1997 1996 2142 2163 2097 2011 2008 2051 1010 2065 2009 2515 2025 2525 1010 3815 2000 2093 8817 1012 2012 1996 4654 16781 1997 3174 1011 2274 2086 1010 2429 2000 1996 24806 3446 1997 3623 1010 1996 2193 1997 4505 2097 3815 2000 2048 3634 1010 1998 1997 5595 2086 1010 2000 2176 3634 1012 2023 2003 1037 2193 2029 1010 1045 3653 23545 1010 2097 2404 2019 2203 2000 2035 10069 17707 2013 1996 2235 2791 1997 1996 2303 1012 102\n",
      "[NeMo I 2021-06-09 13:53:29 text_classification_dataset:180] input_mask: 1 1 1 1 1 1 1 1 1 1 1 1 1 1 1 1 1 1 1 1 1 1 1 1 1 1 1 1 1 1 1 1 1 1 1 1 1 1 1 1 1 1 1 1 1 1 1 1 1 1 1 1 1 1 1 1 1 1 1 1 1 1 1 1 1 1 1 1 1 1 1 1 1 1 1 1 1 1 1 1 1 1 1 1 1 1 1 1 1 1 1 1 1 1 1 1 1 1 1 1 1 1 1 1 1 1 1 1 1 1 1 1 1 1 1 1 1 1 1 1 1 1 1 1 1 1 1 1\n",
      "[NeMo I 2021-06-09 13:53:29 text_classification_dataset:175] *** Example ***\n",
      "[NeMo I 2021-06-09 13:53:29 text_classification_dataset:176] example_index: 4\n",
      "[NeMo I 2021-06-09 13:53:29 text_classification_dataset:177] subtokens: [CLS] class of citizens i am unable to con ##ce ##ive that the people of america , in their present temper , or under any circumstances which can speed ##ily happen , will choose , and every second year repeat the choice of , sixty - five or a hundred men who would be disposed to form and pursue a scheme of ty ##ran ##ny or tre ##ache ##ry . i am unable to con ##ce ##ive that the state legislatures , which must feel so many motives to watch , and which possess so many means of counter ##act ##ing , the federal legislature , would fail either to detect or to defeat a conspiracy of the latter against the liberties of their common constituents . [SEP]\n",
      "[NeMo I 2021-06-09 13:53:29 text_classification_dataset:178] sent_label: 0\n",
      "[NeMo I 2021-06-09 13:53:29 text_classification_dataset:179] input_ids: 101 2465 1997 4480 1045 2572 4039 2000 9530 3401 3512 2008 1996 2111 1997 2637 1010 1999 2037 2556 12178 1010 2030 2104 2151 6214 2029 2064 3177 6588 4148 1010 2097 5454 1010 1998 2296 2117 2095 9377 1996 3601 1997 1010 8442 1011 2274 2030 1037 3634 2273 2040 2052 2022 21866 2000 2433 1998 7323 1037 5679 1997 5939 5521 4890 2030 29461 15395 2854 1012 1045 2572 4039 2000 9530 3401 3512 2008 1996 2110 27977 1010 2029 2442 2514 2061 2116 17108 2000 3422 1010 1998 2029 10295 2061 2116 2965 1997 4675 18908 2075 1010 1996 2976 6372 1010 2052 8246 2593 2000 11487 2030 2000 4154 1037 9714 1997 1996 3732 2114 1996 18271 1997 2037 2691 24355 1012 102\n",
      "[NeMo I 2021-06-09 13:53:29 text_classification_dataset:180] input_mask: 1 1 1 1 1 1 1 1 1 1 1 1 1 1 1 1 1 1 1 1 1 1 1 1 1 1 1 1 1 1 1 1 1 1 1 1 1 1 1 1 1 1 1 1 1 1 1 1 1 1 1 1 1 1 1 1 1 1 1 1 1 1 1 1 1 1 1 1 1 1 1 1 1 1 1 1 1 1 1 1 1 1 1 1 1 1 1 1 1 1 1 1 1 1 1 1 1 1 1 1 1 1 1 1 1 1 1 1 1 1 1 1 1 1 1 1 1 1 1 1 1 1 1 1 1 1 1 1\n",
      "[NeMo I 2021-06-09 13:53:29 actions:695] Evaluating batch 0 out of 8\n",
      "[NeMo I 2021-06-09 13:53:29 actions:695] Evaluating batch 1 out of 8\n",
      "[NeMo I 2021-06-09 13:53:29 actions:695] Evaluating batch 2 out of 8\n",
      "[NeMo I 2021-06-09 13:53:29 actions:695] Evaluating batch 3 out of 8\n",
      "[NeMo I 2021-06-09 13:53:29 actions:695] Evaluating batch 4 out of 8\n",
      "[NeMo I 2021-06-09 13:53:29 actions:695] Evaluating batch 5 out of 8\n",
      "[NeMo I 2021-06-09 13:53:29 actions:695] Evaluating batch 6 out of 8\n",
      "[NeMo I 2021-06-09 13:53:29 actions:695] Evaluating batch 7 out of 8\n",
      "[NeMo I 2021-06-09 13:53:30 text_classification_dataset:82] /dli/task/data/federalist_papers_HM/labeled_test56.tsv: 6\n",
      "[NeMo I 2021-06-09 13:53:30 data_preprocessing:250] Min: 259 |                  Max: 313 |                  Mean: 285.0 |                  Median: 285.0\n",
      "[NeMo I 2021-06-09 13:53:30 data_preprocessing:252] 75 percentile: 299.75\n",
      "[NeMo I 2021-06-09 13:53:30 data_preprocessing:253] 99 percentile: 312.45000000000005\n",
      "[NeMo I 2021-06-09 13:53:30 text_classification_dataset:118] 6 out of 6                         sentences with more than 128 subtokens.\n",
      "[NeMo I 2021-06-09 13:53:30 text_classification_dataset:175] *** Example ***\n",
      "[NeMo I 2021-06-09 13:53:30 text_classification_dataset:176] example_index: 0\n",
      "[NeMo I 2021-06-09 13:53:30 text_classification_dataset:177] subtokens: [CLS] be a brief explanation of these peculiar ##ities . it is a sound and important principle that the representative ought to be acquainted with the interests and circumstances of his constituents . but this principle can extend no further than to those circumstances and interests to which the authority and care of the representative relate . an ignorance of a variety of minute and particular objects , which do not lie within the compass of legislation , is consistent with every attribute necessary to a due performance of the legislative trust . in determining the extent of information required in the exercise of a particular authority , rec ##ours ##e then must be had to the objects within the pu ##r ##view of that authority . [SEP]\n",
      "[NeMo I 2021-06-09 13:53:30 text_classification_dataset:178] sent_label: 0\n",
      "[NeMo I 2021-06-09 13:53:30 text_classification_dataset:179] input_ids: 101 2022 1037 4766 7526 1997 2122 14099 6447 1012 2009 2003 1037 2614 1998 2590 6958 2008 1996 4387 11276 2000 2022 19056 2007 1996 5426 1998 6214 1997 2010 24355 1012 2021 2023 6958 2064 7949 2053 2582 2084 2000 2216 6214 1998 5426 2000 2029 1996 3691 1998 2729 1997 1996 4387 14396 1012 2019 18173 1997 1037 3528 1997 3371 1998 3327 5200 1010 2029 2079 2025 4682 2306 1996 16681 1997 6094 1010 2003 8335 2007 2296 17961 4072 2000 1037 2349 2836 1997 1996 4884 3404 1012 1999 12515 1996 6698 1997 2592 3223 1999 1996 6912 1997 1037 3327 3691 1010 28667 22957 2063 2059 2442 2022 2018 2000 1996 5200 2306 1996 16405 2099 8584 1997 2008 3691 1012 102\n",
      "[NeMo I 2021-06-09 13:53:30 text_classification_dataset:180] input_mask: 1 1 1 1 1 1 1 1 1 1 1 1 1 1 1 1 1 1 1 1 1 1 1 1 1 1 1 1 1 1 1 1 1 1 1 1 1 1 1 1 1 1 1 1 1 1 1 1 1 1 1 1 1 1 1 1 1 1 1 1 1 1 1 1 1 1 1 1 1 1 1 1 1 1 1 1 1 1 1 1 1 1 1 1 1 1 1 1 1 1 1 1 1 1 1 1 1 1 1 1 1 1 1 1 1 1 1 1 1 1 1 1 1 1 1 1 1 1 1 1 1 1 1 1 1 1 1 1\n",
      "[NeMo I 2021-06-09 13:53:30 text_classification_dataset:175] *** Example ***\n",
      "[NeMo I 2021-06-09 13:53:30 text_classification_dataset:176] example_index: 1\n",
      "[NeMo I 2021-06-09 13:53:30 text_classification_dataset:177] subtokens: [CLS] within the state ? divide the largest state into ten or twelve districts , and it will be found that there will be no peculiar local interests in either , which will not be within the knowledge of the representative of the district . besides this source of information , the laws of the state , framed by representatives from every part of it , will be almost of themselves a sufficient guide . in every state there have been made , and must continue to be made , regulations on this subject which will , in many cases , leave little more to be done by the federal legislature , than to review the different laws , and reduce them in one general act . [SEP]\n",
      "[NeMo I 2021-06-09 13:53:30 text_classification_dataset:178] sent_label: 0\n",
      "[NeMo I 2021-06-09 13:53:30 text_classification_dataset:179] input_ids: 101 2306 1996 2110 1029 11443 1996 2922 2110 2046 2702 2030 4376 4733 1010 1998 2009 2097 2022 2179 2008 2045 2097 2022 2053 14099 2334 5426 1999 2593 1010 2029 2097 2025 2022 2306 1996 3716 1997 1996 4387 1997 1996 2212 1012 4661 2023 3120 1997 2592 1010 1996 4277 1997 1996 2110 1010 10366 2011 4505 2013 2296 2112 1997 2009 1010 2097 2022 2471 1997 3209 1037 7182 5009 1012 1999 2296 2110 2045 2031 2042 2081 1010 1998 2442 3613 2000 2022 2081 1010 7040 2006 2023 3395 2029 2097 1010 1999 2116 3572 1010 2681 2210 2062 2000 2022 2589 2011 1996 2976 6372 1010 2084 2000 3319 1996 2367 4277 1010 1998 5547 2068 1999 2028 2236 2552 1012 102\n",
      "[NeMo I 2021-06-09 13:53:30 text_classification_dataset:180] input_mask: 1 1 1 1 1 1 1 1 1 1 1 1 1 1 1 1 1 1 1 1 1 1 1 1 1 1 1 1 1 1 1 1 1 1 1 1 1 1 1 1 1 1 1 1 1 1 1 1 1 1 1 1 1 1 1 1 1 1 1 1 1 1 1 1 1 1 1 1 1 1 1 1 1 1 1 1 1 1 1 1 1 1 1 1 1 1 1 1 1 1 1 1 1 1 1 1 1 1 1 1 1 1 1 1 1 1 1 1 1 1 1 1 1 1 1 1 1 1 1 1 1 1 1 1 1 1 1 1\n",
      "[NeMo I 2021-06-09 13:53:30 text_classification_dataset:175] *** Example ***\n",
      "[NeMo I 2021-06-09 13:53:30 text_classification_dataset:176] example_index: 2\n",
      "[NeMo I 2021-06-09 13:53:30 text_classification_dataset:177] subtokens: [CLS] proceedings , which would very much short ##en the labor ##s of the general legislature , and render a much smaller number of members sufficient for it ? the federal councils will derive great advantage from another circumstance . the representatives of each state will not only bring with them a considerable knowledge of its laws , and a local knowledge of their respective districts , but will probably in all cases have been members , and may even at the very time be members , of the state legislature , where all the local information and interests of the state are assembled , and from when ##ce they may easily be conveyed by a very few hands into the legislature of the united states . [SEP]\n",
      "[NeMo I 2021-06-09 13:53:30 text_classification_dataset:178] sent_label: 0\n",
      "[NeMo I 2021-06-09 13:53:30 text_classification_dataset:179] input_ids: 101 8931 1010 2029 2052 2200 2172 2460 2368 1996 4450 2015 1997 1996 2236 6372 1010 1998 17552 1037 2172 3760 2193 1997 2372 7182 2005 2009 1029 1996 2976 10784 2097 18547 2307 5056 2013 2178 25652 1012 1996 4505 1997 2169 2110 2097 2025 2069 3288 2007 2068 1037 6196 3716 1997 2049 4277 1010 1998 1037 2334 3716 1997 2037 7972 4733 1010 2021 2097 2763 1999 2035 3572 2031 2042 2372 1010 1998 2089 2130 2012 1996 2200 2051 2022 2372 1010 1997 1996 2110 6372 1010 2073 2035 1996 2334 2592 1998 5426 1997 1996 2110 2024 9240 1010 1998 2013 2043 3401 2027 2089 4089 2022 21527 2011 1037 2200 2261 2398 2046 1996 6372 1997 1996 2142 2163 1012 102\n",
      "[NeMo I 2021-06-09 13:53:30 text_classification_dataset:180] input_mask: 1 1 1 1 1 1 1 1 1 1 1 1 1 1 1 1 1 1 1 1 1 1 1 1 1 1 1 1 1 1 1 1 1 1 1 1 1 1 1 1 1 1 1 1 1 1 1 1 1 1 1 1 1 1 1 1 1 1 1 1 1 1 1 1 1 1 1 1 1 1 1 1 1 1 1 1 1 1 1 1 1 1 1 1 1 1 1 1 1 1 1 1 1 1 1 1 1 1 1 1 1 1 1 1 1 1 1 1 1 1 1 1 1 1 1 1 1 1 1 1 1 1 1 1 1 1 1 1\n",
      "[NeMo I 2021-06-09 13:53:30 text_classification_dataset:175] *** Example ***\n",
      "[NeMo I 2021-06-09 13:53:30 text_classification_dataset:176] example_index: 3\n",
      "[NeMo I 2021-06-09 13:53:30 text_classification_dataset:177] subtokens: [CLS] and its interests but little diversified . a few men , therefore , will possess all the knowledge re ##quisite for a proper representation of them . were the interests and affairs of each individual state perfectly simple and uniform , a knowledge of them in one part would involve a knowledge of them in every other , and the whole state might be competent ##ly represented by a single member taken from any part of it . on a comparison of the different states together , we find a great di ##ssi ##mi ##lar ##ity in their laws , and in many other circumstances connected with the objects of federal legislation , with all of which the federal representatives ought to have some acquaintance . [SEP]\n",
      "[NeMo I 2021-06-09 13:53:30 text_classification_dataset:178] sent_label: 0\n",
      "[NeMo I 2021-06-09 13:53:30 text_classification_dataset:179] input_ids: 101 1998 2049 5426 2021 2210 24908 1012 1037 2261 2273 1010 3568 1010 2097 10295 2035 1996 3716 2128 24871 2005 1037 5372 6630 1997 2068 1012 2020 1996 5426 1998 3821 1997 2169 3265 2110 6669 3722 1998 6375 1010 1037 3716 1997 2068 1999 2028 2112 2052 9125 1037 3716 1997 2068 1999 2296 2060 1010 1998 1996 2878 2110 2453 2022 17824 2135 3421 2011 1037 2309 2266 2579 2013 2151 2112 1997 2009 1012 2006 1037 7831 1997 1996 2367 2163 2362 1010 2057 2424 1037 2307 4487 18719 4328 8017 3012 1999 2037 4277 1010 1998 1999 2116 2060 6214 4198 2007 1996 5200 1997 2976 6094 1010 2007 2035 1997 2029 1996 2976 4505 11276 2000 2031 2070 18363 1012 102\n",
      "[NeMo I 2021-06-09 13:53:30 text_classification_dataset:180] input_mask: 1 1 1 1 1 1 1 1 1 1 1 1 1 1 1 1 1 1 1 1 1 1 1 1 1 1 1 1 1 1 1 1 1 1 1 1 1 1 1 1 1 1 1 1 1 1 1 1 1 1 1 1 1 1 1 1 1 1 1 1 1 1 1 1 1 1 1 1 1 1 1 1 1 1 1 1 1 1 1 1 1 1 1 1 1 1 1 1 1 1 1 1 1 1 1 1 1 1 1 1 1 1 1 1 1 1 1 1 1 1 1 1 1 1 1 1 1 1 1 1 1 1 1 1 1 1 1 1\n",
      "[NeMo I 2021-06-09 13:53:30 text_classification_dataset:175] *** Example ***\n",
      "[NeMo I 2021-06-09 13:53:30 text_classification_dataset:176] example_index: 4\n",
      "[NeMo I 2021-06-09 13:53:30 text_classification_dataset:177] subtokens: [CLS] fruits of a more advanced population , and will require , on the part of each state , a fuller representation . the fore ##sight of the convention has accordingly taken care that the progress of population may be accompanied with a proper increase of the representative branch of the government . the experience of great britain , which presents to mankind so many political lessons , both of the monitor ##y and exemplary kind , and which has been frequently consulted in the course of these inquiries , co ##rro ##bor ##ates the result of the reflections which we have just made . the number of inhabitants in the two kingdoms of england and scotland can not be stated at less than eight millions . [SEP]\n",
      "[NeMo I 2021-06-09 13:53:30 text_classification_dataset:178] sent_label: 0\n",
      "[NeMo I 2021-06-09 13:53:30 text_classification_dataset:179] input_ids: 101 10962 1997 1037 2062 3935 2313 1010 1998 2097 5478 1010 2006 1996 2112 1997 2169 2110 1010 1037 12548 6630 1012 1996 18921 25807 1997 1996 4680 2038 11914 2579 2729 2008 1996 5082 1997 2313 2089 2022 5642 2007 1037 5372 3623 1997 1996 4387 3589 1997 1996 2231 1012 1996 3325 1997 2307 3725 1010 2029 7534 2000 14938 2061 2116 2576 8220 1010 2119 1997 1996 8080 2100 1998 27792 2785 1010 1998 2029 2038 2042 4703 17535 1999 1996 2607 1997 2122 27050 1010 2522 18933 12821 8520 1996 2765 1997 1996 16055 2029 2057 2031 2074 2081 1012 1996 2193 1997 4864 1999 1996 2048 12028 1997 2563 1998 3885 2064 2025 2022 3090 2012 2625 2084 2809 8817 1012 102\n",
      "[NeMo I 2021-06-09 13:53:30 text_classification_dataset:180] input_mask: 1 1 1 1 1 1 1 1 1 1 1 1 1 1 1 1 1 1 1 1 1 1 1 1 1 1 1 1 1 1 1 1 1 1 1 1 1 1 1 1 1 1 1 1 1 1 1 1 1 1 1 1 1 1 1 1 1 1 1 1 1 1 1 1 1 1 1 1 1 1 1 1 1 1 1 1 1 1 1 1 1 1 1 1 1 1 1 1 1 1 1 1 1 1 1 1 1 1 1 1 1 1 1 1 1 1 1 1 1 1 1 1 1 1 1 1 1 1 1 1 1 1 1 1 1 1 1 1\n",
      "[NeMo I 2021-06-09 13:53:30 actions:695] Evaluating batch 0 out of 6\n",
      "[NeMo I 2021-06-09 13:53:30 actions:695] Evaluating batch 1 out of 6\n",
      "[NeMo I 2021-06-09 13:53:30 actions:695] Evaluating batch 2 out of 6\n",
      "[NeMo I 2021-06-09 13:53:30 actions:695] Evaluating batch 3 out of 6\n",
      "[NeMo I 2021-06-09 13:53:30 actions:695] Evaluating batch 4 out of 6\n",
      "[NeMo I 2021-06-09 13:53:30 actions:695] Evaluating batch 5 out of 6\n",
      "[NeMo I 2021-06-09 13:53:30 text_classification_dataset:82] /dli/task/data/federalist_papers_HM/labeled_test57.tsv: 9\n",
      "[NeMo I 2021-06-09 13:53:31 data_preprocessing:250] Min: 263 |                  Max: 320 |                  Mean: 289.6666666666667 |                  Median: 286.0\n",
      "[NeMo I 2021-06-09 13:53:31 data_preprocessing:252] 75 percentile: 298.0\n",
      "[NeMo I 2021-06-09 13:53:31 data_preprocessing:253] 99 percentile: 319.6\n",
      "[NeMo I 2021-06-09 13:53:31 text_classification_dataset:118] 9 out of 9                         sentences with more than 128 subtokens.\n",
      "[NeMo I 2021-06-09 13:53:31 text_classification_dataset:175] *** Example ***\n",
      "[NeMo I 2021-06-09 13:53:31 text_classification_dataset:176] example_index: 0\n",
      "[NeMo I 2021-06-09 13:53:31 text_classification_dataset:177] subtokens: [CLS] every political constitution is , or ought to be , first to obtain for rulers men who possess most wisdom to disc ##ern , and most virtue to pursue , the common good of the society ; and in the next place , to take the most effect ##ual precautions for keeping them vi ##rt ##uous whilst they continue to hold their public trust . the elect ##ive mode of obtaining rulers is the characteristic policy of republican government . the means relied on in this form of government for preventing their de ##gen ##era ##cy are numerous and various . the most effect ##ual one , is such a limitation of the term of appointments as will maintain a proper responsibility to the people . [SEP]\n",
      "[NeMo I 2021-06-09 13:53:31 text_classification_dataset:178] sent_label: 0\n",
      "[NeMo I 2021-06-09 13:53:31 text_classification_dataset:179] input_ids: 101 2296 2576 4552 2003 1010 2030 11276 2000 2022 1010 2034 2000 6855 2005 11117 2273 2040 10295 2087 9866 2000 5860 11795 1010 1998 2087 11870 2000 7323 1010 1996 2691 2204 1997 1996 2554 1025 1998 1999 1996 2279 2173 1010 2000 2202 1996 2087 3466 8787 29361 2005 4363 2068 6819 5339 8918 5819 2027 3613 2000 2907 2037 2270 3404 1012 1996 11322 3512 5549 1997 11381 11117 2003 1996 8281 3343 1997 3951 2231 1012 1996 2965 13538 2006 1999 2023 2433 1997 2231 2005 10723 2037 2139 6914 6906 5666 2024 3365 1998 2536 1012 1996 2087 3466 8787 2028 1010 2003 2107 1037 22718 1997 1996 2744 1997 14651 2004 2097 5441 1037 5372 5368 2000 1996 2111 1012 102\n",
      "[NeMo I 2021-06-09 13:53:31 text_classification_dataset:180] input_mask: 1 1 1 1 1 1 1 1 1 1 1 1 1 1 1 1 1 1 1 1 1 1 1 1 1 1 1 1 1 1 1 1 1 1 1 1 1 1 1 1 1 1 1 1 1 1 1 1 1 1 1 1 1 1 1 1 1 1 1 1 1 1 1 1 1 1 1 1 1 1 1 1 1 1 1 1 1 1 1 1 1 1 1 1 1 1 1 1 1 1 1 1 1 1 1 1 1 1 1 1 1 1 1 1 1 1 1 1 1 1 1 1 1 1 1 1 1 1 1 1 1 1 1 1 1 1 1 1\n",
      "[NeMo I 2021-06-09 13:53:31 text_classification_dataset:175] *** Example ***\n",
      "[NeMo I 2021-06-09 13:53:31 text_classification_dataset:176] example_index: 1\n",
      "[NeMo I 2021-06-09 13:53:31 text_classification_dataset:177] subtokens: [CLS] who exercise the right in every state of elect ##ing the corresponding branch of the legislature of the state . who are to be the objects of popular choice ? every citizen whose merit may recommend him to the esteem and confidence of his country . no qualification of wealth , of birth , of religious faith , or of civil profession is permitted to fe ##tter the judgement or di ##sa ##pp ##oint the inclination of the people . if we consider the situation of the men on whom the free suffrage ##s of their fellow - citizens may con ##fer the representative trust , we shall find it involving every security which can be devised or desired for their fidelity to their constituents . [SEP]\n",
      "[NeMo I 2021-06-09 13:53:31 text_classification_dataset:178] sent_label: 0\n",
      "[NeMo I 2021-06-09 13:53:31 text_classification_dataset:179] input_ids: 101 2040 6912 1996 2157 1999 2296 2110 1997 11322 2075 1996 7978 3589 1997 1996 6372 1997 1996 2110 1012 2040 2024 2000 2022 1996 5200 1997 2759 3601 1029 2296 6926 3005 7857 2089 16755 2032 2000 1996 19593 1998 7023 1997 2010 2406 1012 2053 8263 1997 7177 1010 1997 4182 1010 1997 3412 4752 1010 2030 1997 2942 9518 2003 7936 2000 10768 12079 1996 16646 2030 4487 3736 9397 25785 1996 21970 1997 1996 2111 1012 2065 2057 5136 1996 3663 1997 1996 2273 2006 3183 1996 2489 15178 2015 1997 2037 3507 1011 4480 2089 9530 7512 1996 4387 3404 1010 2057 4618 2424 2009 5994 2296 3036 2029 2064 2022 14917 2030 9059 2005 2037 22625 2000 2037 24355 1012 102\n",
      "[NeMo I 2021-06-09 13:53:31 text_classification_dataset:180] input_mask: 1 1 1 1 1 1 1 1 1 1 1 1 1 1 1 1 1 1 1 1 1 1 1 1 1 1 1 1 1 1 1 1 1 1 1 1 1 1 1 1 1 1 1 1 1 1 1 1 1 1 1 1 1 1 1 1 1 1 1 1 1 1 1 1 1 1 1 1 1 1 1 1 1 1 1 1 1 1 1 1 1 1 1 1 1 1 1 1 1 1 1 1 1 1 1 1 1 1 1 1 1 1 1 1 1 1 1 1 1 1 1 1 1 1 1 1 1 1 1 1 1 1 1 1 1 1 1 1\n",
      "[NeMo I 2021-06-09 13:53:31 text_classification_dataset:175] *** Example ***\n",
      "[NeMo I 2021-06-09 13:53:31 text_classification_dataset:176] example_index: 2\n",
      "[NeMo I 2021-06-09 13:53:31 text_classification_dataset:177] subtokens: [CLS] proof of the energy and prevalence of the contrary sentiment . in the third place , those ties which bind the representative to his constituents are strengthened by motives of a more selfish nature . his pride and vanity attach him to a form of government which favors his pre ##tension ##s and gives him a share in its honors and distinctions . whatever hopes or projects might be entertained by a few aspiring characters , it must generally happen that a great proportion of the men der ##iving their advancement from their influence with the people , would have more to hope from a preservation of the favor , than from innovations in the government sub ##vers ##ive of the authority of the people . [SEP]\n",
      "[NeMo I 2021-06-09 13:53:31 text_classification_dataset:178] sent_label: 0\n",
      "[NeMo I 2021-06-09 13:53:31 text_classification_dataset:179] input_ids: 101 6947 1997 1996 2943 1998 20272 1997 1996 10043 15792 1012 1999 1996 2353 2173 1010 2216 7208 2029 14187 1996 4387 2000 2010 24355 2024 13949 2011 17108 1997 1037 2062 14337 3267 1012 2010 6620 1998 18736 22476 2032 2000 1037 2433 1997 2231 2029 21191 2010 3653 29048 2015 1998 3957 2032 1037 3745 1999 2049 7836 1998 25995 1012 3649 8069 2030 3934 2453 2022 21474 2011 1037 2261 22344 3494 1010 2009 2442 3227 4148 2008 1037 2307 10817 1997 1996 2273 4315 14966 2037 12607 2013 2037 3747 2007 1996 2111 1010 2052 2031 2062 2000 3246 2013 1037 8347 1997 1996 5684 1010 2084 2013 15463 1999 1996 2231 4942 14028 3512 1997 1996 3691 1997 1996 2111 1012 102\n",
      "[NeMo I 2021-06-09 13:53:31 text_classification_dataset:180] input_mask: 1 1 1 1 1 1 1 1 1 1 1 1 1 1 1 1 1 1 1 1 1 1 1 1 1 1 1 1 1 1 1 1 1 1 1 1 1 1 1 1 1 1 1 1 1 1 1 1 1 1 1 1 1 1 1 1 1 1 1 1 1 1 1 1 1 1 1 1 1 1 1 1 1 1 1 1 1 1 1 1 1 1 1 1 1 1 1 1 1 1 1 1 1 1 1 1 1 1 1 1 1 1 1 1 1 1 1 1 1 1 1 1 1 1 1 1 1 1 1 1 1 1 1 1 1 1 1 1\n",
      "[NeMo I 2021-06-09 13:53:31 text_classification_dataset:175] *** Example ***\n",
      "[NeMo I 2021-06-09 13:53:31 text_classification_dataset:176] example_index: 3\n",
      "[NeMo I 2021-06-09 13:53:31 text_classification_dataset:177] subtokens: [CLS] representatives , restraining them from oppressive measures , that they can make no law which will not have its full operation on themselves and their friends , as well as on the great mass of the society . this has always been deemed one of the strongest bonds by which human policy can connect the rulers and the people together . it creates between them that communion of interests and sympathy of sentiments , of which few governments have furnished examples ; but without which every government de ##gen ##erate ##s into ty ##ran ##ny . if it be asked , what is to restrain the house of representatives from making legal discrimination ##s in favor of themselves and a particular class of the society ? [SEP]\n",
      "[NeMo I 2021-06-09 13:53:31 text_classification_dataset:178] sent_label: 0\n",
      "[NeMo I 2021-06-09 13:53:31 text_classification_dataset:179] input_ids: 101 4505 1010 28285 2068 2013 28558 5761 1010 2008 2027 2064 2191 2053 2375 2029 2097 2025 2031 2049 2440 3169 2006 3209 1998 2037 2814 1010 2004 2092 2004 2006 1996 2307 3742 1997 1996 2554 1012 2023 2038 2467 2042 8357 2028 1997 1996 10473 9547 2011 2029 2529 3343 2064 7532 1996 11117 1998 1996 2111 2362 1012 2009 9005 2090 2068 2008 15661 1997 5426 1998 11883 1997 23541 1010 1997 2029 2261 6867 2031 19851 4973 1025 2021 2302 2029 2296 2231 2139 6914 22139 2015 2046 5939 5521 4890 1012 2065 2009 2022 2356 1010 2054 2003 2000 28467 1996 2160 1997 4505 2013 2437 3423 9147 2015 1999 5684 1997 3209 1998 1037 3327 2465 1997 1996 2554 1029 102\n",
      "[NeMo I 2021-06-09 13:53:31 text_classification_dataset:180] input_mask: 1 1 1 1 1 1 1 1 1 1 1 1 1 1 1 1 1 1 1 1 1 1 1 1 1 1 1 1 1 1 1 1 1 1 1 1 1 1 1 1 1 1 1 1 1 1 1 1 1 1 1 1 1 1 1 1 1 1 1 1 1 1 1 1 1 1 1 1 1 1 1 1 1 1 1 1 1 1 1 1 1 1 1 1 1 1 1 1 1 1 1 1 1 1 1 1 1 1 1 1 1 1 1 1 1 1 1 1 1 1 1 1 1 1 1 1 1 1 1 1 1 1 1 1 1 1 1 1\n",
      "[NeMo I 2021-06-09 13:53:31 text_classification_dataset:175] *** Example ***\n",
      "[NeMo I 2021-06-09 13:53:31 text_classification_dataset:176] example_index: 4\n",
      "[NeMo I 2021-06-09 13:53:31 text_classification_dataset:177] subtokens: [CLS] republican government provides for the liberty and happiness of the people ? are they not the identical means on which every state government in the union relies for the attain ##ment of these important ends ? what then are we to understand by the objection which this paper has combat ##ed ? what are we to say to the men who prof ##ess the most flaming ze ##al for republican government , yet bold ##ly imp ##ea ##ch the fundamental principle of it ; who pretend to be champions for the right and the capacity of the people to choose their own rulers , yet maintain that they will prefer those only who will immediately and in ##fall ##ibly betray the trust committed to them ? [SEP]\n",
      "[NeMo I 2021-06-09 13:53:31 text_classification_dataset:178] sent_label: 0\n",
      "[NeMo I 2021-06-09 13:53:31 text_classification_dataset:179] input_ids: 101 3951 2231 3640 2005 1996 7044 1998 8404 1997 1996 2111 1029 2024 2027 2025 1996 7235 2965 2006 2029 2296 2110 2231 1999 1996 2586 16803 2005 1996 18759 3672 1997 2122 2590 4515 1029 2054 2059 2024 2057 2000 3305 2011 1996 22224 2029 2023 3259 2038 4337 2098 1029 2054 2024 2057 2000 2360 2000 1996 2273 2040 11268 7971 1996 2087 19091 27838 2389 2005 3951 2231 1010 2664 7782 2135 17727 5243 2818 1996 8050 6958 1997 2009 1025 2040 9811 2000 2022 3966 2005 1996 2157 1998 1996 3977 1997 1996 2111 2000 5454 2037 2219 11117 1010 2664 5441 2008 2027 2097 9544 2216 2069 2040 2097 3202 1998 1999 13976 17296 20895 1996 3404 5462 2000 2068 1029 102\n",
      "[NeMo I 2021-06-09 13:53:31 text_classification_dataset:180] input_mask: 1 1 1 1 1 1 1 1 1 1 1 1 1 1 1 1 1 1 1 1 1 1 1 1 1 1 1 1 1 1 1 1 1 1 1 1 1 1 1 1 1 1 1 1 1 1 1 1 1 1 1 1 1 1 1 1 1 1 1 1 1 1 1 1 1 1 1 1 1 1 1 1 1 1 1 1 1 1 1 1 1 1 1 1 1 1 1 1 1 1 1 1 1 1 1 1 1 1 1 1 1 1 1 1 1 1 1 1 1 1 1 1 1 1 1 1 1 1 1 1 1 1 1 1 1 1 1 1\n",
      "[NeMo I 2021-06-09 13:53:31 actions:695] Evaluating batch 0 out of 9\n",
      "[NeMo I 2021-06-09 13:53:31 actions:695] Evaluating batch 1 out of 9\n",
      "[NeMo I 2021-06-09 13:53:31 actions:695] Evaluating batch 2 out of 9\n",
      "[NeMo I 2021-06-09 13:53:31 actions:695] Evaluating batch 3 out of 9\n",
      "[NeMo I 2021-06-09 13:53:31 actions:695] Evaluating batch 4 out of 9\n",
      "[NeMo I 2021-06-09 13:53:31 actions:695] Evaluating batch 5 out of 9\n",
      "[NeMo I 2021-06-09 13:53:31 actions:695] Evaluating batch 6 out of 9\n",
      "[NeMo I 2021-06-09 13:53:31 actions:695] Evaluating batch 7 out of 9\n",
      "[NeMo I 2021-06-09 13:53:31 actions:695] Evaluating batch 8 out of 9\n",
      "[NeMo I 2021-06-09 13:53:31 text_classification_dataset:82] /dli/task/data/federalist_papers_HM/labeled_test62.tsv: 22\n",
      "[NeMo I 2021-06-09 13:53:32 data_preprocessing:250] Min: 264 |                  Max: 322 |                  Mean: 289.04545454545456 |                  Median: 286.5\n",
      "[NeMo I 2021-06-09 13:53:32 data_preprocessing:252] 75 percentile: 296.0\n",
      "[NeMo I 2021-06-09 13:53:32 data_preprocessing:253] 99 percentile: 321.78999999999996\n",
      "[NeMo I 2021-06-09 13:53:32 text_classification_dataset:118] 22 out of 22                         sentences with more than 128 subtokens.\n",
      "[NeMo I 2021-06-09 13:53:32 text_classification_dataset:175] *** Example ***\n",
      "[NeMo I 2021-06-09 13:53:32 text_classification_dataset:176] example_index: 0\n",
      "[NeMo I 2021-06-09 13:53:32 text_classification_dataset:177] subtokens: [CLS] thirty years of age at least ; as a representative must be twenty - five . and the former must have been a citizen nine years ; as seven years are required for the latter . the prop ##riety of these distinctions is explained by the nature of the senator ##ial trust , which , requiring greater extent of information and stability of character , requires at the same time that the senator should have reached a period of life most likely to supply these advantages ; and which , participating immediately in transactions with foreign nations , ought to be exercised by none who are not thoroughly we ##ane ##d from the prep ##oss ##ess ##ions and habits incident to foreign birth and education . [SEP]\n",
      "[NeMo I 2021-06-09 13:53:32 text_classification_dataset:178] sent_label: 0\n",
      "[NeMo I 2021-06-09 13:53:32 text_classification_dataset:179] input_ids: 101 4228 2086 1997 2287 2012 2560 1025 2004 1037 4387 2442 2022 3174 1011 2274 1012 1998 1996 2280 2442 2031 2042 1037 6926 3157 2086 1025 2004 2698 2086 2024 3223 2005 1996 3732 1012 1996 17678 27840 1997 2122 25995 2003 4541 2011 1996 3267 1997 1996 5205 4818 3404 1010 2029 1010 9034 3618 6698 1997 2592 1998 9211 1997 2839 1010 5942 2012 1996 2168 2051 2008 1996 5205 2323 2031 2584 1037 2558 1997 2166 2087 3497 2000 4425 2122 12637 1025 1998 2029 1010 8019 3202 1999 11817 2007 3097 3741 1010 11276 2000 2022 17747 2011 3904 2040 2024 2025 12246 2057 7231 2094 2013 1996 17463 15094 7971 8496 1998 14243 5043 2000 3097 4182 1998 2495 1012 102\n",
      "[NeMo I 2021-06-09 13:53:32 text_classification_dataset:180] input_mask: 1 1 1 1 1 1 1 1 1 1 1 1 1 1 1 1 1 1 1 1 1 1 1 1 1 1 1 1 1 1 1 1 1 1 1 1 1 1 1 1 1 1 1 1 1 1 1 1 1 1 1 1 1 1 1 1 1 1 1 1 1 1 1 1 1 1 1 1 1 1 1 1 1 1 1 1 1 1 1 1 1 1 1 1 1 1 1 1 1 1 1 1 1 1 1 1 1 1 1 1 1 1 1 1 1 1 1 1 1 1 1 1 1 1 1 1 1 1 1 1 1 1 1 1 1 1 1 1\n",
      "[NeMo I 2021-06-09 13:53:32 text_classification_dataset:175] *** Example ***\n",
      "[NeMo I 2021-06-09 13:53:32 text_classification_dataset:176] example_index: 1\n",
      "[NeMo I 2021-06-09 13:53:32 text_classification_dataset:177] subtokens: [CLS] the opposite pre ##tension ##s of the large and the small states , does not call for much discussion . if indeed it be right , that among a people thoroughly incorporated into one nation , every district ought to have a proportional share in the government , and that among independent and sovereign states , bound together by a simple league , the parties , however une ##qual in size , ought to have an equal share in the common councils , it does not appear to be without some reason that in a compound republic , part ##aking both of the national and federal character , the government ought to be founded on a mixture of the principles of proportional and equal representation . [SEP]\n",
      "[NeMo I 2021-06-09 13:53:32 text_classification_dataset:178] sent_label: 0\n",
      "[NeMo I 2021-06-09 13:53:32 text_classification_dataset:179] input_ids: 101 1996 4500 3653 29048 2015 1997 1996 2312 1998 1996 2235 2163 1010 2515 2025 2655 2005 2172 6594 1012 2065 5262 2009 2022 2157 1010 2008 2426 1037 2111 12246 5100 2046 2028 3842 1010 2296 2212 11276 2000 2031 1037 14267 3745 1999 1996 2231 1010 1998 2008 2426 2981 1998 11074 2163 1010 5391 2362 2011 1037 3722 2223 1010 1996 4243 1010 2174 16655 26426 1999 2946 1010 11276 2000 2031 2019 5020 3745 1999 1996 2691 10784 1010 2009 2515 2025 3711 2000 2022 2302 2070 3114 2008 1999 1037 7328 3072 1010 2112 15495 2119 1997 1996 2120 1998 2976 2839 1010 1996 2231 11276 2000 2022 2631 2006 1037 8150 1997 1996 6481 1997 14267 1998 5020 6630 1012 102\n",
      "[NeMo I 2021-06-09 13:53:32 text_classification_dataset:180] input_mask: 1 1 1 1 1 1 1 1 1 1 1 1 1 1 1 1 1 1 1 1 1 1 1 1 1 1 1 1 1 1 1 1 1 1 1 1 1 1 1 1 1 1 1 1 1 1 1 1 1 1 1 1 1 1 1 1 1 1 1 1 1 1 1 1 1 1 1 1 1 1 1 1 1 1 1 1 1 1 1 1 1 1 1 1 1 1 1 1 1 1 1 1 1 1 1 1 1 1 1 1 1 1 1 1 1 1 1 1 1 1 1 1 1 1 1 1 1 1 1 1 1 1 1 1 1 1 1 1\n",
      "[NeMo I 2021-06-09 13:53:32 text_classification_dataset:175] *** Example ***\n",
      "[NeMo I 2021-06-09 13:53:32 text_classification_dataset:176] example_index: 2\n",
      "[NeMo I 2021-06-09 13:53:32 text_classification_dataset:177] subtokens: [CLS] ##ul ##ging a fruit ##less anticipation of the possible mischief ##s which may en ##su ##e , to con ##tem ##plate rather the advantage ##ous consequences which may qualify the sacrifice . in this spirit it may be remarked , that the equal vote allowed to each state is at once a constitutional recognition of the portion of sovereignty remaining in the individual states , and an instrument for preserving that res ##id ##uary sovereignty . so far the equality ought to be no less acceptable to the large than to the small states ; since they are not less sol ##ici ##tou ##s to guard , by every possible ex ##ped ##ient , against an improper consolidation of the states into one simple republic . [SEP]\n",
      "[NeMo I 2021-06-09 13:53:32 text_classification_dataset:178] sent_label: 0\n",
      "[NeMo I 2021-06-09 13:53:32 text_classification_dataset:179] input_ids: 101 5313 4726 1037 5909 3238 11162 1997 1996 2825 25166 2015 2029 2089 4372 6342 2063 1010 2000 9530 18532 15725 2738 1996 5056 3560 8465 2029 2089 7515 1996 8688 1012 1999 2023 4382 2009 2089 2022 10783 1010 2008 1996 5020 3789 3039 2000 2169 2110 2003 2012 2320 1037 6543 5038 1997 1996 4664 1997 12601 3588 1999 1996 3265 2163 1010 1998 2019 6602 2005 15224 2008 24501 3593 24384 12601 1012 2061 2521 1996 9945 11276 2000 2022 2053 2625 11701 2000 1996 2312 2084 2000 1996 2235 2163 1025 2144 2027 2024 2025 2625 14017 28775 24826 2015 2000 3457 1010 2011 2296 2825 4654 5669 11638 1010 2114 2019 24156 17439 1997 1996 2163 2046 2028 3722 3072 1012 102\n",
      "[NeMo I 2021-06-09 13:53:32 text_classification_dataset:180] input_mask: 1 1 1 1 1 1 1 1 1 1 1 1 1 1 1 1 1 1 1 1 1 1 1 1 1 1 1 1 1 1 1 1 1 1 1 1 1 1 1 1 1 1 1 1 1 1 1 1 1 1 1 1 1 1 1 1 1 1 1 1 1 1 1 1 1 1 1 1 1 1 1 1 1 1 1 1 1 1 1 1 1 1 1 1 1 1 1 1 1 1 1 1 1 1 1 1 1 1 1 1 1 1 1 1 1 1 1 1 1 1 1 1 1 1 1 1 1 1 1 1 1 1 1 1 1 1 1 1\n",
      "[NeMo I 2021-06-09 13:53:32 text_classification_dataset:175] *** Example ***\n",
      "[NeMo I 2021-06-09 13:53:32 text_classification_dataset:176] example_index: 3\n",
      "[NeMo I 2021-06-09 13:53:32 text_classification_dataset:177] subtokens: [CLS] to be the diseases to which our governments are most liable , it is not impossible that this part of the constitution may be more convenient in practice than it appears to many in con ##tem ##pl ##ation . iv . the number of senators , and the duration of their appointment , come next to be considered . in order to form an accurate judgment on both of these points , it will be proper to in ##qui ##re into the purposes which are to be answered by a senate ; and in order to as ##cer ##tain these , it will be necessary to review the inc ##on ##ven ##ience ##s which a republic must suffer from the want of such an institution . [SEP]\n",
      "[NeMo I 2021-06-09 13:53:32 text_classification_dataset:178] sent_label: 0\n",
      "[NeMo I 2021-06-09 13:53:32 text_classification_dataset:179] input_ids: 101 2000 2022 1996 7870 2000 2029 2256 6867 2024 2087 20090 1010 2009 2003 2025 5263 2008 2023 2112 1997 1996 4552 2089 2022 2062 14057 1999 3218 2084 2009 3544 2000 2116 1999 9530 18532 24759 3370 1012 4921 1012 1996 2193 1997 10153 1010 1998 1996 9367 1997 2037 6098 1010 2272 2279 2000 2022 2641 1012 1999 2344 2000 2433 2019 8321 8689 2006 2119 1997 2122 2685 1010 2009 2097 2022 5372 2000 1999 15549 2890 2046 1996 5682 2029 2024 2000 2022 4660 2011 1037 4001 1025 1998 1999 2344 2000 2004 17119 18249 2122 1010 2009 2097 2022 4072 2000 3319 1996 4297 2239 8159 13684 2015 2029 1037 3072 2442 9015 2013 1996 2215 1997 2107 2019 5145 1012 102\n",
      "[NeMo I 2021-06-09 13:53:32 text_classification_dataset:180] input_mask: 1 1 1 1 1 1 1 1 1 1 1 1 1 1 1 1 1 1 1 1 1 1 1 1 1 1 1 1 1 1 1 1 1 1 1 1 1 1 1 1 1 1 1 1 1 1 1 1 1 1 1 1 1 1 1 1 1 1 1 1 1 1 1 1 1 1 1 1 1 1 1 1 1 1 1 1 1 1 1 1 1 1 1 1 1 1 1 1 1 1 1 1 1 1 1 1 1 1 1 1 1 1 1 1 1 1 1 1 1 1 1 1 1 1 1 1 1 1 1 1 1 1 1 1 1 1 1 1\n",
      "[NeMo I 2021-06-09 13:53:32 text_classification_dataset:175] *** Example ***\n",
      "[NeMo I 2021-06-09 13:53:32 text_classification_dataset:176] example_index: 4\n",
      "[NeMo I 2021-06-09 13:53:32 text_classification_dataset:177] subtokens: [CLS] ##ge on it . i will barely remark , that as the imp ##ro ##ba ##bility of sinister combinations will be in proportion to the di ##ssi ##mi ##lar ##ity in the genius of the two bodies , it must be pol ##itic to distinguish them from each other by every circumstance which will consist with a due harmony in all proper measures , and with the genuine principles of republican government . secondly . the necessity of a senate is not less indicated by the prop ##ens ##ity of all single and numerous assemblies to yield to the impulse of sudden and violent passions , and to be seduce ##d by fact ##ious leaders into int ##em ##per ##ate and per ##nic ##ious resolutions . [SEP]\n",
      "[NeMo I 2021-06-09 13:53:32 text_classification_dataset:178] sent_label: 0\n",
      "[NeMo I 2021-06-09 13:53:32 text_classification_dataset:179] input_ids: 101 3351 2006 2009 1012 1045 2097 4510 17674 1010 2008 2004 1996 17727 3217 3676 8553 1997 16491 14930 2097 2022 1999 10817 2000 1996 4487 18719 4328 8017 3012 1999 1996 11067 1997 1996 2048 4230 1010 2009 2442 2022 14955 18291 2000 10782 2068 2013 2169 2060 2011 2296 25652 2029 2097 8676 2007 1037 2349 9396 1999 2035 5372 5761 1010 1998 2007 1996 10218 6481 1997 3951 2231 1012 16378 1012 1996 13185 1997 1037 4001 2003 2025 2625 5393 2011 1996 17678 6132 3012 1997 2035 2309 1998 3365 17720 2000 10750 2000 1996 14982 1997 5573 1998 6355 25289 1010 1998 2000 2022 23199 2094 2011 2755 6313 4177 2046 20014 6633 4842 3686 1998 2566 8713 6313 18853 1012 102\n",
      "[NeMo I 2021-06-09 13:53:32 text_classification_dataset:180] input_mask: 1 1 1 1 1 1 1 1 1 1 1 1 1 1 1 1 1 1 1 1 1 1 1 1 1 1 1 1 1 1 1 1 1 1 1 1 1 1 1 1 1 1 1 1 1 1 1 1 1 1 1 1 1 1 1 1 1 1 1 1 1 1 1 1 1 1 1 1 1 1 1 1 1 1 1 1 1 1 1 1 1 1 1 1 1 1 1 1 1 1 1 1 1 1 1 1 1 1 1 1 1 1 1 1 1 1 1 1 1 1 1 1 1 1 1 1 1 1 1 1 1 1 1 1 1 1 1 1\n",
      "[NeMo I 2021-06-09 13:53:32 actions:695] Evaluating batch 0 out of 22\n",
      "[NeMo I 2021-06-09 13:53:32 actions:695] Evaluating batch 2 out of 22\n",
      "[NeMo I 2021-06-09 13:53:32 actions:695] Evaluating batch 4 out of 22\n",
      "[NeMo I 2021-06-09 13:53:32 actions:695] Evaluating batch 6 out of 22\n",
      "[NeMo I 2021-06-09 13:53:32 actions:695] Evaluating batch 8 out of 22\n",
      "[NeMo I 2021-06-09 13:53:33 actions:695] Evaluating batch 10 out of 22\n",
      "[NeMo I 2021-06-09 13:53:33 actions:695] Evaluating batch 12 out of 22\n",
      "[NeMo I 2021-06-09 13:53:33 actions:695] Evaluating batch 14 out of 22\n",
      "[NeMo I 2021-06-09 13:53:33 actions:695] Evaluating batch 16 out of 22\n",
      "[NeMo I 2021-06-09 13:53:33 actions:695] Evaluating batch 18 out of 22\n",
      "[NeMo I 2021-06-09 13:53:33 actions:695] Evaluating batch 20 out of 22\n"
     ]
    }
   ],
   "source": [
    "print_collated_output = ''\n",
    "for test_file in test_files:\n",
    "    result = classify_paper(nf, tokenizer, lm, classifier, DATA_DIR + 'labeled_' + test_file, DATA_DIR + 'inference_result_' + test_file)\n",
    "    print_collated_output += result"
   ]
  },
  {
   "cell_type": "code",
   "execution_count": 25,
   "metadata": {},
   "outputs": [
    {
     "name": "stdout",
     "output_type": "stream",
     "text": [
      "HAMILTON /dli/task/data/federalist_papers_HM/labeled_test49.tsv mean: 0.836 std: 0.37\n",
      "HAMILTON /dli/task/data/federalist_papers_HM/labeled_test50.tsv mean: 0.595 std: 0.486\n",
      "MADISON /dli/task/data/federalist_papers_HM/labeled_test51.tsv mean: 0.274 std: 0.408\n",
      "HAMILTON /dli/task/data/federalist_papers_HM/labeled_test52.tsv mean: 0.587 std: 0.505\n",
      "HAMILTON /dli/task/data/federalist_papers_HM/labeled_test53.tsv mean: 0.636 std: 0.466\n",
      "MADISON /dli/task/data/federalist_papers_HM/labeled_test54.tsv mean: 0.306 std: 0.441\n",
      "HAMILTON /dli/task/data/federalist_papers_HM/labeled_test55.tsv mean: 0.537 std: 0.499\n",
      "HAMILTON /dli/task/data/federalist_papers_HM/labeled_test56.tsv mean: 0.869 std: 0.311\n",
      "HAMILTON /dli/task/data/federalist_papers_HM/labeled_test57.tsv mean: 0.67 std: 0.486\n",
      "HAMILTON /dli/task/data/federalist_papers_HM/labeled_test62.tsv mean: 0.694 std: 0.43\n",
      "\n"
     ]
    }
   ],
   "source": [
    "print(print_collated_output)"
   ]
  },
  {
   "cell_type": "markdown",
   "metadata": {},
   "source": [
    "<a href=\"https://www.nvidia.com/dli\"> <img src=\"../images/DLI_Header.png\" alt=\"Header\" style=\"width: 400px;\"/> </a>"
   ]
  }
 ],
 "metadata": {
  "kernelspec": {
   "display_name": "Python 3",
   "language": "python",
   "name": "python3"
  },
  "language_info": {
   "codemirror_mode": {
    "name": "ipython",
    "version": 3
   },
   "file_extension": ".py",
   "mimetype": "text/x-python",
   "name": "python",
   "nbconvert_exporter": "python",
   "pygments_lexer": "ipython3",
   "version": "3.7.9"
  },
  "pycharm": {
   "stem_cell": {
    "cell_type": "raw",
    "metadata": {
     "collapsed": false
    },
    "source": []
   }
  }
 },
 "nbformat": 4,
 "nbformat_minor": 4
}
